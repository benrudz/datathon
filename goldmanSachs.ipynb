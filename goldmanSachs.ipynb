{
 "cells": [
  {
   "cell_type": "markdown",
   "metadata": {},
   "source": [
    "<h1>Imports</h1>"
   ]
  },
  {
   "cell_type": "code",
   "execution_count": 129,
   "metadata": {},
   "outputs": [
    {
     "data": {
      "text/html": [
       "<div>\n",
       "<style scoped>\n",
       "    .dataframe tbody tr th:only-of-type {\n",
       "        vertical-align: middle;\n",
       "    }\n",
       "\n",
       "    .dataframe tbody tr th {\n",
       "        vertical-align: top;\n",
       "    }\n",
       "\n",
       "    .dataframe thead th {\n",
       "        text-align: right;\n",
       "    }\n",
       "</style>\n",
       "<table border=\"1\" class=\"dataframe\">\n",
       "  <thead>\n",
       "    <tr style=\"text-align: right;\">\n",
       "      <th></th>\n",
       "      <th>SUMLEV</th>\n",
       "      <th>REGION</th>\n",
       "      <th>DIVISION</th>\n",
       "      <th>STATE</th>\n",
       "      <th>NAME</th>\n",
       "      <th>CENSUS2010POP</th>\n",
       "      <th>ESTIMATESBASE2010</th>\n",
       "      <th>POPESTIMATE2010</th>\n",
       "      <th>POPESTIMATE2011</th>\n",
       "      <th>POPESTIMATE2012</th>\n",
       "      <th>...</th>\n",
       "      <th>RDOMESTICMIG2017</th>\n",
       "      <th>RDOMESTICMIG2018</th>\n",
       "      <th>RNETMIG2011</th>\n",
       "      <th>RNETMIG2012</th>\n",
       "      <th>RNETMIG2013</th>\n",
       "      <th>RNETMIG2014</th>\n",
       "      <th>RNETMIG2015</th>\n",
       "      <th>RNETMIG2016</th>\n",
       "      <th>RNETMIG2017</th>\n",
       "      <th>RNETMIG2018</th>\n",
       "    </tr>\n",
       "  </thead>\n",
       "  <tbody>\n",
       "    <tr>\n",
       "      <th>0</th>\n",
       "      <td>40</td>\n",
       "      <td>3</td>\n",
       "      <td>6</td>\n",
       "      <td>1</td>\n",
       "      <td>Alabama</td>\n",
       "      <td>4779736</td>\n",
       "      <td>4780138</td>\n",
       "      <td>4785448</td>\n",
       "      <td>4798834</td>\n",
       "      <td>4815564</td>\n",
       "      <td>...</td>\n",
       "      <td>0.424031</td>\n",
       "      <td>1.171362</td>\n",
       "      <td>0.516888</td>\n",
       "      <td>1.234191</td>\n",
       "      <td>1.607294</td>\n",
       "      <td>0.619874</td>\n",
       "      <td>0.646064</td>\n",
       "      <td>0.817666</td>\n",
       "      <td>1.079070</td>\n",
       "      <td>1.856398</td>\n",
       "    </tr>\n",
       "    <tr>\n",
       "      <th>1</th>\n",
       "      <td>40</td>\n",
       "      <td>4</td>\n",
       "      <td>9</td>\n",
       "      <td>2</td>\n",
       "      <td>Alaska</td>\n",
       "      <td>710231</td>\n",
       "      <td>710249</td>\n",
       "      <td>713906</td>\n",
       "      <td>722038</td>\n",
       "      <td>730399</td>\n",
       "      <td>...</td>\n",
       "      <td>-14.508975</td>\n",
       "      <td>-14.557034</td>\n",
       "      <td>0.474949</td>\n",
       "      <td>1.496795</td>\n",
       "      <td>-0.903612</td>\n",
       "      <td>-11.375421</td>\n",
       "      <td>-7.968225</td>\n",
       "      <td>-3.911968</td>\n",
       "      <td>-11.005272</td>\n",
       "      <td>-11.306342</td>\n",
       "    </tr>\n",
       "    <tr>\n",
       "      <th>2</th>\n",
       "      <td>40</td>\n",
       "      <td>4</td>\n",
       "      <td>8</td>\n",
       "      <td>4</td>\n",
       "      <td>Arizona</td>\n",
       "      <td>6392017</td>\n",
       "      <td>6392288</td>\n",
       "      <td>6407774</td>\n",
       "      <td>6473497</td>\n",
       "      <td>6556629</td>\n",
       "      <td>...</td>\n",
       "      <td>8.993644</td>\n",
       "      <td>11.707025</td>\n",
       "      <td>4.302215</td>\n",
       "      <td>7.038612</td>\n",
       "      <td>6.464858</td>\n",
       "      <td>9.347708</td>\n",
       "      <td>9.662843</td>\n",
       "      <td>12.020279</td>\n",
       "      <td>11.029897</td>\n",
       "      <td>13.723125</td>\n",
       "    </tr>\n",
       "    <tr>\n",
       "      <th>3</th>\n",
       "      <td>40</td>\n",
       "      <td>3</td>\n",
       "      <td>7</td>\n",
       "      <td>5</td>\n",
       "      <td>Arkansas</td>\n",
       "      <td>2915918</td>\n",
       "      <td>2916028</td>\n",
       "      <td>2921978</td>\n",
       "      <td>2940407</td>\n",
       "      <td>2952109</td>\n",
       "      <td>...</td>\n",
       "      <td>1.335801</td>\n",
       "      <td>0.822693</td>\n",
       "      <td>3.145819</td>\n",
       "      <td>0.916417</td>\n",
       "      <td>0.114350</td>\n",
       "      <td>-0.039479</td>\n",
       "      <td>1.093820</td>\n",
       "      <td>1.534978</td>\n",
       "      <td>2.063267</td>\n",
       "      <td>1.573921</td>\n",
       "    </tr>\n",
       "    <tr>\n",
       "      <th>4</th>\n",
       "      <td>40</td>\n",
       "      <td>4</td>\n",
       "      <td>9</td>\n",
       "      <td>6</td>\n",
       "      <td>California</td>\n",
       "      <td>37253956</td>\n",
       "      <td>37254523</td>\n",
       "      <td>37320903</td>\n",
       "      <td>37641823</td>\n",
       "      <td>37960782</td>\n",
       "      <td>...</td>\n",
       "      <td>-3.501098</td>\n",
       "      <td>-3.953271</td>\n",
       "      <td>1.376097</td>\n",
       "      <td>1.699095</td>\n",
       "      <td>1.847889</td>\n",
       "      <td>2.402701</td>\n",
       "      <td>2.159548</td>\n",
       "      <td>0.670554</td>\n",
       "      <td>-0.454811</td>\n",
       "      <td>-0.969421</td>\n",
       "    </tr>\n",
       "  </tbody>\n",
       "</table>\n",
       "<p>5 rows × 136 columns</p>\n",
       "</div>"
      ],
      "text/plain": [
       "   SUMLEV REGION DIVISION  STATE        NAME  CENSUS2010POP  \\\n",
       "0      40      3        6      1     Alabama        4779736   \n",
       "1      40      4        9      2      Alaska         710231   \n",
       "2      40      4        8      4     Arizona        6392017   \n",
       "3      40      3        7      5    Arkansas        2915918   \n",
       "4      40      4        9      6  California       37253956   \n",
       "\n",
       "   ESTIMATESBASE2010  POPESTIMATE2010  POPESTIMATE2011  POPESTIMATE2012  ...  \\\n",
       "0            4780138          4785448          4798834          4815564  ...   \n",
       "1             710249           713906           722038           730399  ...   \n",
       "2            6392288          6407774          6473497          6556629  ...   \n",
       "3            2916028          2921978          2940407          2952109  ...   \n",
       "4           37254523         37320903         37641823         37960782  ...   \n",
       "\n",
       "   RDOMESTICMIG2017  RDOMESTICMIG2018  RNETMIG2011  RNETMIG2012  RNETMIG2013  \\\n",
       "0          0.424031          1.171362     0.516888     1.234191     1.607294   \n",
       "1        -14.508975        -14.557034     0.474949     1.496795    -0.903612   \n",
       "2          8.993644         11.707025     4.302215     7.038612     6.464858   \n",
       "3          1.335801          0.822693     3.145819     0.916417     0.114350   \n",
       "4         -3.501098         -3.953271     1.376097     1.699095     1.847889   \n",
       "\n",
       "   RNETMIG2014  RNETMIG2015  RNETMIG2016  RNETMIG2017  RNETMIG2018  \n",
       "0     0.619874     0.646064     0.817666     1.079070     1.856398  \n",
       "1   -11.375421    -7.968225    -3.911968   -11.005272   -11.306342  \n",
       "2     9.347708     9.662843    12.020279    11.029897    13.723125  \n",
       "3    -0.039479     1.093820     1.534978     2.063267     1.573921  \n",
       "4     2.402701     2.159548     0.670554    -0.454811    -0.969421  \n",
       "\n",
       "[5 rows x 136 columns]"
      ]
     },
     "execution_count": 129,
     "metadata": {},
     "output_type": "execute_result"
    }
   ],
   "source": [
    "import pandas as pd\n",
    "import plotly.graph_objects as go\n",
    "import numpy as np\n",
    "import plotly.figure_factory as ff\n",
    "import pgeocode\n",
    "\n",
    "df = pd.read_csv('just tacos and burritos.csv') #  skiprows = 1\n",
    "popData = pd.read_csv('nst-est2018-alldata.csv', header = [0], skiprows = [1,2,3,4,5])\n",
    "popData.head(5)"
   ]
  },
  {
   "cell_type": "markdown",
   "metadata": {},
   "source": [
    "<h1>Code</h1>"
   ]
  },
  {
   "cell_type": "markdown",
   "metadata": {},
   "source": [
    "<h2>Data Cleaning</h2>"
   ]
  },
  {
   "cell_type": "code",
   "execution_count": 28,
   "metadata": {},
   "outputs": [],
   "source": [
    "names = df.columns.values\n",
    "for pos in range(0, len(names)):\n",
    "    try: \n",
    "        names[pos].index('Unnamed')\n",
    "        df.drop(columns=[names[pos]], axis=1, inplace = True)\n",
    "    except:\n",
    "        pass"
   ]
  },
  {
   "cell_type": "code",
   "execution_count": 131,
   "metadata": {},
   "outputs": [
    {
     "data": {
      "text/html": [
       "<div>\n",
       "<style scoped>\n",
       "    .dataframe tbody tr th:only-of-type {\n",
       "        vertical-align: middle;\n",
       "    }\n",
       "\n",
       "    .dataframe tbody tr th {\n",
       "        vertical-align: top;\n",
       "    }\n",
       "\n",
       "    .dataframe thead th {\n",
       "        text-align: right;\n",
       "    }\n",
       "</style>\n",
       "<table border=\"1\" class=\"dataframe\">\n",
       "  <thead>\n",
       "    <tr style=\"text-align: right;\">\n",
       "      <th></th>\n",
       "      <th>code</th>\n",
       "      <th>restaurants</th>\n",
       "      <th>population</th>\n",
       "    </tr>\n",
       "  </thead>\n",
       "  <tbody>\n",
       "    <tr>\n",
       "      <th>0</th>\n",
       "      <td>AL</td>\n",
       "      <td>0</td>\n",
       "      <td>4887871</td>\n",
       "    </tr>\n",
       "    <tr>\n",
       "      <th>1</th>\n",
       "      <td>AK</td>\n",
       "      <td>0</td>\n",
       "      <td>737438</td>\n",
       "    </tr>\n",
       "    <tr>\n",
       "      <th>2</th>\n",
       "      <td>AZ</td>\n",
       "      <td>0</td>\n",
       "      <td>7171646</td>\n",
       "    </tr>\n",
       "    <tr>\n",
       "      <th>3</th>\n",
       "      <td>AR</td>\n",
       "      <td>0</td>\n",
       "      <td>3013825</td>\n",
       "    </tr>\n",
       "    <tr>\n",
       "      <th>4</th>\n",
       "      <td>CA</td>\n",
       "      <td>0</td>\n",
       "      <td>39557045</td>\n",
       "    </tr>\n",
       "    <tr>\n",
       "      <th>5</th>\n",
       "      <td>CO</td>\n",
       "      <td>0</td>\n",
       "      <td>5695564</td>\n",
       "    </tr>\n",
       "    <tr>\n",
       "      <th>6</th>\n",
       "      <td>CT</td>\n",
       "      <td>0</td>\n",
       "      <td>3572665</td>\n",
       "    </tr>\n",
       "    <tr>\n",
       "      <th>7</th>\n",
       "      <td>DC</td>\n",
       "      <td>0</td>\n",
       "      <td>967171</td>\n",
       "    </tr>\n",
       "    <tr>\n",
       "      <th>8</th>\n",
       "      <td>DE</td>\n",
       "      <td>0</td>\n",
       "      <td>702455</td>\n",
       "    </tr>\n",
       "    <tr>\n",
       "      <th>9</th>\n",
       "      <td>FL</td>\n",
       "      <td>0</td>\n",
       "      <td>21299325</td>\n",
       "    </tr>\n",
       "    <tr>\n",
       "      <th>10</th>\n",
       "      <td>GA</td>\n",
       "      <td>0</td>\n",
       "      <td>10519475</td>\n",
       "    </tr>\n",
       "    <tr>\n",
       "      <th>11</th>\n",
       "      <td>HI</td>\n",
       "      <td>0</td>\n",
       "      <td>1420491</td>\n",
       "    </tr>\n",
       "    <tr>\n",
       "      <th>12</th>\n",
       "      <td>ID</td>\n",
       "      <td>0</td>\n",
       "      <td>1754208</td>\n",
       "    </tr>\n",
       "    <tr>\n",
       "      <th>13</th>\n",
       "      <td>IL</td>\n",
       "      <td>0</td>\n",
       "      <td>12741080</td>\n",
       "    </tr>\n",
       "    <tr>\n",
       "      <th>14</th>\n",
       "      <td>IN</td>\n",
       "      <td>0</td>\n",
       "      <td>6691878</td>\n",
       "    </tr>\n",
       "    <tr>\n",
       "      <th>15</th>\n",
       "      <td>IA</td>\n",
       "      <td>0</td>\n",
       "      <td>3156145</td>\n",
       "    </tr>\n",
       "    <tr>\n",
       "      <th>16</th>\n",
       "      <td>KS</td>\n",
       "      <td>0</td>\n",
       "      <td>2911505</td>\n",
       "    </tr>\n",
       "    <tr>\n",
       "      <th>17</th>\n",
       "      <td>KY</td>\n",
       "      <td>0</td>\n",
       "      <td>4468402</td>\n",
       "    </tr>\n",
       "    <tr>\n",
       "      <th>18</th>\n",
       "      <td>LA</td>\n",
       "      <td>0</td>\n",
       "      <td>4659978</td>\n",
       "    </tr>\n",
       "    <tr>\n",
       "      <th>19</th>\n",
       "      <td>ME</td>\n",
       "      <td>0</td>\n",
       "      <td>1338404</td>\n",
       "    </tr>\n",
       "    <tr>\n",
       "      <th>20</th>\n",
       "      <td>MD</td>\n",
       "      <td>0</td>\n",
       "      <td>6042718</td>\n",
       "    </tr>\n",
       "    <tr>\n",
       "      <th>21</th>\n",
       "      <td>MA</td>\n",
       "      <td>0</td>\n",
       "      <td>6902149</td>\n",
       "    </tr>\n",
       "    <tr>\n",
       "      <th>22</th>\n",
       "      <td>MI</td>\n",
       "      <td>0</td>\n",
       "      <td>9995915</td>\n",
       "    </tr>\n",
       "    <tr>\n",
       "      <th>23</th>\n",
       "      <td>MN</td>\n",
       "      <td>0</td>\n",
       "      <td>5611179</td>\n",
       "    </tr>\n",
       "    <tr>\n",
       "      <th>24</th>\n",
       "      <td>MS</td>\n",
       "      <td>0</td>\n",
       "      <td>2986530</td>\n",
       "    </tr>\n",
       "    <tr>\n",
       "      <th>25</th>\n",
       "      <td>MO</td>\n",
       "      <td>0</td>\n",
       "      <td>6126452</td>\n",
       "    </tr>\n",
       "    <tr>\n",
       "      <th>26</th>\n",
       "      <td>MT</td>\n",
       "      <td>0</td>\n",
       "      <td>1062305</td>\n",
       "    </tr>\n",
       "    <tr>\n",
       "      <th>27</th>\n",
       "      <td>NE</td>\n",
       "      <td>0</td>\n",
       "      <td>1929268</td>\n",
       "    </tr>\n",
       "    <tr>\n",
       "      <th>28</th>\n",
       "      <td>NV</td>\n",
       "      <td>0</td>\n",
       "      <td>3034392</td>\n",
       "    </tr>\n",
       "    <tr>\n",
       "      <th>29</th>\n",
       "      <td>NH</td>\n",
       "      <td>0</td>\n",
       "      <td>1356458</td>\n",
       "    </tr>\n",
       "    <tr>\n",
       "      <th>30</th>\n",
       "      <td>NJ</td>\n",
       "      <td>0</td>\n",
       "      <td>8908520</td>\n",
       "    </tr>\n",
       "    <tr>\n",
       "      <th>31</th>\n",
       "      <td>NM</td>\n",
       "      <td>0</td>\n",
       "      <td>2095428</td>\n",
       "    </tr>\n",
       "    <tr>\n",
       "      <th>32</th>\n",
       "      <td>NY</td>\n",
       "      <td>0</td>\n",
       "      <td>19542209</td>\n",
       "    </tr>\n",
       "    <tr>\n",
       "      <th>33</th>\n",
       "      <td>NC</td>\n",
       "      <td>0</td>\n",
       "      <td>10383620</td>\n",
       "    </tr>\n",
       "    <tr>\n",
       "      <th>34</th>\n",
       "      <td>ND</td>\n",
       "      <td>0</td>\n",
       "      <td>760077</td>\n",
       "    </tr>\n",
       "    <tr>\n",
       "      <th>35</th>\n",
       "      <td>OH</td>\n",
       "      <td>0</td>\n",
       "      <td>11689442</td>\n",
       "    </tr>\n",
       "    <tr>\n",
       "      <th>36</th>\n",
       "      <td>OK</td>\n",
       "      <td>0</td>\n",
       "      <td>3943079</td>\n",
       "    </tr>\n",
       "    <tr>\n",
       "      <th>37</th>\n",
       "      <td>OR</td>\n",
       "      <td>0</td>\n",
       "      <td>4190713</td>\n",
       "    </tr>\n",
       "    <tr>\n",
       "      <th>38</th>\n",
       "      <td>PA</td>\n",
       "      <td>0</td>\n",
       "      <td>12807060</td>\n",
       "    </tr>\n",
       "    <tr>\n",
       "      <th>39</th>\n",
       "      <td>RI</td>\n",
       "      <td>0</td>\n",
       "      <td>1057315</td>\n",
       "    </tr>\n",
       "    <tr>\n",
       "      <th>40</th>\n",
       "      <td>SC</td>\n",
       "      <td>0</td>\n",
       "      <td>5084127</td>\n",
       "    </tr>\n",
       "    <tr>\n",
       "      <th>41</th>\n",
       "      <td>SD</td>\n",
       "      <td>0</td>\n",
       "      <td>882235</td>\n",
       "    </tr>\n",
       "    <tr>\n",
       "      <th>42</th>\n",
       "      <td>TN</td>\n",
       "      <td>0</td>\n",
       "      <td>6770010</td>\n",
       "    </tr>\n",
       "    <tr>\n",
       "      <th>43</th>\n",
       "      <td>TX</td>\n",
       "      <td>0</td>\n",
       "      <td>28701845</td>\n",
       "    </tr>\n",
       "    <tr>\n",
       "      <th>44</th>\n",
       "      <td>UT</td>\n",
       "      <td>0</td>\n",
       "      <td>3161105</td>\n",
       "    </tr>\n",
       "    <tr>\n",
       "      <th>45</th>\n",
       "      <td>VT</td>\n",
       "      <td>0</td>\n",
       "      <td>626299</td>\n",
       "    </tr>\n",
       "    <tr>\n",
       "      <th>46</th>\n",
       "      <td>VA</td>\n",
       "      <td>0</td>\n",
       "      <td>8517685</td>\n",
       "    </tr>\n",
       "    <tr>\n",
       "      <th>47</th>\n",
       "      <td>WA</td>\n",
       "      <td>0</td>\n",
       "      <td>7535591</td>\n",
       "    </tr>\n",
       "    <tr>\n",
       "      <th>48</th>\n",
       "      <td>WV</td>\n",
       "      <td>0</td>\n",
       "      <td>1805832</td>\n",
       "    </tr>\n",
       "    <tr>\n",
       "      <th>49</th>\n",
       "      <td>WI</td>\n",
       "      <td>0</td>\n",
       "      <td>5813568</td>\n",
       "    </tr>\n",
       "    <tr>\n",
       "      <th>50</th>\n",
       "      <td>WY</td>\n",
       "      <td>0</td>\n",
       "      <td>577737</td>\n",
       "    </tr>\n",
       "  </tbody>\n",
       "</table>\n",
       "</div>"
      ],
      "text/plain": [
       "   code  restaurants  population\n",
       "0    AL            0     4887871\n",
       "1    AK            0      737438\n",
       "2    AZ            0     7171646\n",
       "3    AR            0     3013825\n",
       "4    CA            0    39557045\n",
       "5    CO            0     5695564\n",
       "6    CT            0     3572665\n",
       "7    DC            0      967171\n",
       "8    DE            0      702455\n",
       "9    FL            0    21299325\n",
       "10   GA            0    10519475\n",
       "11   HI            0     1420491\n",
       "12   ID            0     1754208\n",
       "13   IL            0    12741080\n",
       "14   IN            0     6691878\n",
       "15   IA            0     3156145\n",
       "16   KS            0     2911505\n",
       "17   KY            0     4468402\n",
       "18   LA            0     4659978\n",
       "19   ME            0     1338404\n",
       "20   MD            0     6042718\n",
       "21   MA            0     6902149\n",
       "22   MI            0     9995915\n",
       "23   MN            0     5611179\n",
       "24   MS            0     2986530\n",
       "25   MO            0     6126452\n",
       "26   MT            0     1062305\n",
       "27   NE            0     1929268\n",
       "28   NV            0     3034392\n",
       "29   NH            0     1356458\n",
       "30   NJ            0     8908520\n",
       "31   NM            0     2095428\n",
       "32   NY            0    19542209\n",
       "33   NC            0    10383620\n",
       "34   ND            0      760077\n",
       "35   OH            0    11689442\n",
       "36   OK            0     3943079\n",
       "37   OR            0     4190713\n",
       "38   PA            0    12807060\n",
       "39   RI            0     1057315\n",
       "40   SC            0     5084127\n",
       "41   SD            0      882235\n",
       "42   TN            0     6770010\n",
       "43   TX            0    28701845\n",
       "44   UT            0     3161105\n",
       "45   VT            0      626299\n",
       "46   VA            0     8517685\n",
       "47   WA            0     7535591\n",
       "48   WV            0     1805832\n",
       "49   WI            0     5813568\n",
       "50   WY            0      577737"
      ]
     },
     "execution_count": 131,
     "metadata": {},
     "output_type": "execute_result"
    }
   ],
   "source": [
    "#nomi = pgeocode.Nominatim('fr')\n",
    "#nomi.query_postal_code(\"77478\").state_code\n",
    "states = [\"AL\", \"AK\", \"AZ\", \"AR\", \"CA\", \"CO\", \"CT\", \"DC\", \"DE\", \"FL\", \"GA\", \n",
    "          \"HI\", \"ID\", \"IL\", \"IN\", \"IA\", \"KS\", \"KY\", \"LA\", \"ME\", \"MD\", \n",
    "          \"MA\", \"MI\", \"MN\", \"MS\", \"MO\", \"MT\", \"NE\", \"NV\", \"NH\", \"NJ\", \n",
    "          \"NM\", \"NY\", \"NC\", \"ND\", \"OH\", \"OK\", \"OR\", \"PA\", \"RI\", \"SC\", \n",
    "          \"SD\", \"TN\", \"TX\", \"UT\", \"VT\", \"VA\", \"WA\", \"WV\", \"WI\", \"WY\"]\n",
    "stateCount = pd.DataFrame(columns=['code','restaurants'])\n",
    "stateCount.code = states\n",
    "stateCount['restaurants'] = 0\n",
    "stateCount['population'] = popData.POPESTIMATE2018\n",
    "stateCount"
   ]
  },
  {
   "cell_type": "code",
   "execution_count": 42,
   "metadata": {},
   "outputs": [],
   "source": [
    "def getF(zipcode):\n",
    "\n",
    "    ## Ensure we don't parse strings starting with 0 as octal values\n",
    "    thiszip = int(zipcode)\n",
    "    ##Code blocks alphabetized by state\n",
    "    if (thiszip >= 35000 and thiszip <= 36999):\n",
    "        return 'AL'\n",
    "     #   state = 'Alabama';\n",
    "        \n",
    "    elif (thiszip >= 99500 and thiszip <= 99999):\n",
    "        return 'AK'\n",
    "        #state = 'Alaska';\n",
    "        \n",
    "    elif (thiszip >= 85000 and thiszip <= 86999):\n",
    "        return 'AZ';\n",
    "        state = 'Arizona';\n",
    "    \n",
    "    elif (thiszip >= 71600 and thiszip <= 72999):\n",
    "        return 'AR'\n",
    "        #state = 'Arkansas';\n",
    "        \n",
    "    elif (thiszip >= 90000 and thiszip <= 96699):\n",
    "        st = 'CA';\n",
    "        #state = 'California';\n",
    "        \n",
    "    elif (thiszip >= 80000 and thiszip <= 81999):\n",
    "        st = 'CO';\n",
    "        #state = 'Colorado';\n",
    "        \n",
    "    elif (thiszip >= 6000 and thiszip <= 6999):\n",
    "        st = 'CT';\n",
    "        #state = 'Connecticut';\n",
    "        \n",
    "    elif (thiszip >= 19700 and thiszip <= 19999):\n",
    "        st = 'DE';\n",
    "        #state = 'Delaware';\n",
    "        \n",
    "    elif (thiszip >= 32000 and thiszip <= 34999):\n",
    "        st = 'FL'\n",
    "        #state = 'Florida';\n",
    "        \n",
    "    elif (thiszip >= 30000 and thiszip <= 31999):\n",
    "        st = 'GA';\n",
    "        #state = 'Georgia';\n",
    "        #}\n",
    "    elif (thiszip >= 96700 and thiszip <= 96999):\n",
    "        st = 'HI';\n",
    "        #state = 'Hawaii';\n",
    "        #}\n",
    "    elif (thiszip >= 83200 and thiszip <= 83999):\n",
    "        st = 'ID';\n",
    "        #state = 'Idaho';\n",
    "        #}\n",
    "    elif (thiszip >= 60000 and thiszip <= 62999):\n",
    "        st = 'IL';\n",
    "        #state = 'Illinois';\n",
    "        #}\n",
    "    elif (thiszip >= 46000 and thiszip <= 47999):\n",
    "        st = 'IN';\n",
    "        #state = 'Indiana';\n",
    "        #}\n",
    "    elif (thiszip >= 50000 and thiszip <= 52999):\n",
    "        st = 'IA';\n",
    "        #state = 'Iowa';\n",
    "        #}\n",
    "    elif (thiszip >= 66000 and thiszip <= 67999):# {\n",
    "        st = 'KS';\n",
    "        #state = 'Kansas';\n",
    "        #}\n",
    "    elif (thiszip >= 40000 and thiszip <= 42999):# {\n",
    "        st = 'KY';\n",
    "        #\n",
    "    elif (thiszip >= 70000 and thiszip <= 71599):# {\n",
    "        st = 'LA';\n",
    "        #state = 'Louisiana';\n",
    "        #}\n",
    "    elif (thiszip >= 3900 and thiszip <= 4999): \n",
    "        st = 'ME';\n",
    "        #state = 'Maine';\n",
    "        #}\n",
    "    elif (thiszip >= 20600 and thiszip <= 21999):# {\n",
    "        st = 'MD';\n",
    "        #state = 'Maryland';\n",
    "        #}\n",
    "    elif (thiszip >= 1000 and thiszip <= 2799):# {\n",
    "        st = 'MA';\n",
    "        #state = 'Massachusetts';\n",
    "        #}\n",
    "    elif (thiszip >= 48000 and thiszip <= 49999):# {\n",
    "        st = 'MI';\n",
    "        #state = 'Michigan';\n",
    "        #}\n",
    "    elif (thiszip >= 55000 and thiszip <= 56999):# {\n",
    "        st = 'MN';\n",
    "      #  state = 'Minnesota';\n",
    "       # }\n",
    "    elif (thiszip >= 38600 and thiszip <= 39999):# {\n",
    "        st = 'MS';\n",
    "      #  state = 'Mississippi';\n",
    "       # }\n",
    "    elif (thiszip >= 63000 and thiszip <= 65999):# {\n",
    "        st = 'MO';\n",
    "      #  state = 'Missouri';\n",
    "       # }\n",
    "    elif (thiszip >= 59000 and thiszip <= 59999):# {\n",
    "        st = 'MT';\n",
    "      #  state = 'Montana';\n",
    "       # }\n",
    "    elif (thiszip >= 27000 and thiszip <= 28999):# {\n",
    "        st = 'NC';\n",
    "      #  state = 'North Carolina';\n",
    "       # }\n",
    "    elif (thiszip >= 58000 and thiszip <= 58999):# {\n",
    "        st = 'ND';\n",
    "      #  state = 'North Dakota';\n",
    "       # }\n",
    "    elif (thiszip >= 68000 and thiszip <= 69999):# {\n",
    "        st = 'NE';\n",
    "      #  state = 'Nebraska';\n",
    "       # }\n",
    "    elif (thiszip >= 88900 and thiszip <= 89999):# {\n",
    "        st = 'NV';\n",
    "      #  state = 'Nevada';\n",
    "       # }\n",
    "    elif (thiszip >= 3000 and thiszip <= 3899):# {\n",
    "        st = 'NH';\n",
    "      #  state = 'New Hampshire';\n",
    "       # }\n",
    "    elif (thiszip >= 7000 and thiszip <= 8999):# {\n",
    "        st = 'NJ';\n",
    "      #  state = 'New Jersey';\n",
    "       # }\n",
    "    elif (thiszip >= 87000 and thiszip <= 88499):# {\n",
    "        st = 'NM';\n",
    "      #  state = 'New Mexico';\n",
    "       # }\n",
    "    elif (thiszip >= 10000 and thiszip <= 14999):# {\n",
    "        st = 'NY';\n",
    "      #  state = 'New York';\n",
    "       # }\n",
    "    elif (thiszip >= 43000 and thiszip <= 45999):# {\n",
    "        st = 'OH';\n",
    "      #  state = 'Ohio';\n",
    "       # }\n",
    "    elif (thiszip >= 73000 and thiszip <= 74999):# {\n",
    "        st = 'OK';\n",
    "      #  state = 'Oklahoma';\n",
    "       # }\n",
    "    elif (thiszip >= 97000 and thiszip <= 97999):# {\n",
    "        st = 'OR';\n",
    "      #  state = 'Oregon';\n",
    "       # }\n",
    "    elif (thiszip >= 15000 and thiszip <= 19699):\n",
    "        st = 'PA';\n",
    "      #  state = 'Pennsylvania';\n",
    "       # }\n",
    "    elif (thiszip >= 300 and thiszip <= 999):\n",
    "        st = 'PR';\n",
    "      #  state = 'Puerto Rico';\n",
    "       # }\n",
    "    elif (thiszip >= 2800 and thiszip <= 2999):\n",
    "        st = 'RI';\n",
    "      #  state = 'Rhode Island';\n",
    "       # }\n",
    "    elif (thiszip >= 29000 and thiszip <= 29999):\n",
    "        st = 'SC';\n",
    "        #state = 'South Carolina';\n",
    "        \n",
    "    elif (thiszip >= 57000 and thiszip <= 57999):\n",
    "        st = 'SD';\n",
    "        #state = 'South Dakota';\n",
    "        \n",
    "    elif (thiszip >= 37000 and thiszip <= 38599): \n",
    "        st = 'TN';\n",
    "      ## }\n",
    "    elif ( (thiszip >= 75000 and thiszip <= 79999) or (thiszip >= 88500 and thiszip <= 88599) ): \n",
    "        st = 'TX';\n",
    "      #  state = 'Texas';\n",
    "       # }\n",
    "    elif (thiszip >= 84000 and thiszip <= 84999): \n",
    "        st = 'UT';\n",
    "      #  state = 'Utah';\n",
    "       # }\n",
    "    elif (thiszip >= 5000 and thiszip <= 5999): \n",
    "        st = 'VT';\n",
    "      #  state = 'Vermont';\n",
    "       # }\n",
    "    elif (thiszip >= 22000 and thiszip <= 24699): \n",
    "        st = 'VA';\n",
    "      #  state = 'Virgina';\n",
    "       # }\n",
    "    elif (thiszip >= 20000 and thiszip <= 20599): \n",
    "        st = 'DC';\n",
    "      #  state = 'Washington DC';\n",
    "       # }\n",
    "    elif (thiszip >= 98000 and thiszip <= 99499): \n",
    "        st = 'WA';\n",
    "      #  state = 'Washington';\n",
    "       # }\n",
    "    elif (thiszip >= 24700 and thiszip <= 26999): \n",
    "        st = 'WV';\n",
    "      ## }\n",
    "    elif (thiszip >= 53000 and thiszip <= 54999): \n",
    "        st = 'WI';\n",
    "       ##}\n",
    "    elif (thiszip >= 82000 and thiszip <= 83199): \n",
    "        st = 'WY';\n",
    "       #}\n",
    "    else: #{\n",
    "        st = 'none';\n",
    "        #state = 'none';\n",
    "    #}\n",
    "\n",
    "    return st;\n",
    "#}"
   ]
  },
  {
   "cell_type": "code",
   "execution_count": 59,
   "metadata": {},
   "outputs": [
    {
     "data": {
      "text/plain": [
       "array(['KS', 'KS', 'CA', ..., 'California', 'California', 'California'],\n",
       "      dtype=object)"
      ]
     },
     "execution_count": 59,
     "metadata": {},
     "output_type": "execute_result"
    }
   ],
   "source": [
    "df['province'].values"
   ]
  },
  {
   "cell_type": "code",
   "execution_count": 132,
   "metadata": {},
   "outputs": [
    {
     "name": "stdout",
     "output_type": "stream",
     "text": [
      "77259\n"
     ]
    },
    {
     "data": {
      "text/html": [
       "<div>\n",
       "<style scoped>\n",
       "    .dataframe tbody tr th:only-of-type {\n",
       "        vertical-align: middle;\n",
       "    }\n",
       "\n",
       "    .dataframe tbody tr th {\n",
       "        vertical-align: top;\n",
       "    }\n",
       "\n",
       "    .dataframe thead th {\n",
       "        text-align: right;\n",
       "    }\n",
       "</style>\n",
       "<table border=\"1\" class=\"dataframe\">\n",
       "  <thead>\n",
       "    <tr style=\"text-align: right;\">\n",
       "      <th></th>\n",
       "      <th>code</th>\n",
       "      <th>restaurants</th>\n",
       "      <th>population</th>\n",
       "    </tr>\n",
       "  </thead>\n",
       "  <tbody>\n",
       "    <tr>\n",
       "      <th>0</th>\n",
       "      <td>AL</td>\n",
       "      <td>160</td>\n",
       "      <td>4887871</td>\n",
       "    </tr>\n",
       "    <tr>\n",
       "      <th>1</th>\n",
       "      <td>AK</td>\n",
       "      <td>7</td>\n",
       "      <td>737438</td>\n",
       "    </tr>\n",
       "    <tr>\n",
       "      <th>2</th>\n",
       "      <td>AZ</td>\n",
       "      <td>614</td>\n",
       "      <td>7171646</td>\n",
       "    </tr>\n",
       "    <tr>\n",
       "      <th>3</th>\n",
       "      <td>AR</td>\n",
       "      <td>140</td>\n",
       "      <td>3013825</td>\n",
       "    </tr>\n",
       "    <tr>\n",
       "      <th>4</th>\n",
       "      <td>CA</td>\n",
       "      <td>4964</td>\n",
       "      <td>39557045</td>\n",
       "    </tr>\n",
       "    <tr>\n",
       "      <th>5</th>\n",
       "      <td>CO</td>\n",
       "      <td>479</td>\n",
       "      <td>5695564</td>\n",
       "    </tr>\n",
       "    <tr>\n",
       "      <th>6</th>\n",
       "      <td>CT</td>\n",
       "      <td>176</td>\n",
       "      <td>3572665</td>\n",
       "    </tr>\n",
       "    <tr>\n",
       "      <th>7</th>\n",
       "      <td>DC</td>\n",
       "      <td>101</td>\n",
       "      <td>967171</td>\n",
       "    </tr>\n",
       "    <tr>\n",
       "      <th>8</th>\n",
       "      <td>DE</td>\n",
       "      <td>41</td>\n",
       "      <td>702455</td>\n",
       "    </tr>\n",
       "    <tr>\n",
       "      <th>9</th>\n",
       "      <td>FL</td>\n",
       "      <td>901</td>\n",
       "      <td>21299325</td>\n",
       "    </tr>\n",
       "    <tr>\n",
       "      <th>10</th>\n",
       "      <td>GA</td>\n",
       "      <td>439</td>\n",
       "      <td>10519475</td>\n",
       "    </tr>\n",
       "    <tr>\n",
       "      <th>11</th>\n",
       "      <td>HI</td>\n",
       "      <td>79</td>\n",
       "      <td>1420491</td>\n",
       "    </tr>\n",
       "    <tr>\n",
       "      <th>12</th>\n",
       "      <td>ID</td>\n",
       "      <td>102</td>\n",
       "      <td>1754208</td>\n",
       "    </tr>\n",
       "    <tr>\n",
       "      <th>13</th>\n",
       "      <td>IL</td>\n",
       "      <td>851</td>\n",
       "      <td>12741080</td>\n",
       "    </tr>\n",
       "    <tr>\n",
       "      <th>14</th>\n",
       "      <td>IN</td>\n",
       "      <td>310</td>\n",
       "      <td>6691878</td>\n",
       "    </tr>\n",
       "    <tr>\n",
       "      <th>15</th>\n",
       "      <td>IA</td>\n",
       "      <td>179</td>\n",
       "      <td>3156145</td>\n",
       "    </tr>\n",
       "    <tr>\n",
       "      <th>16</th>\n",
       "      <td>KS</td>\n",
       "      <td>162</td>\n",
       "      <td>2911505</td>\n",
       "    </tr>\n",
       "    <tr>\n",
       "      <th>17</th>\n",
       "      <td>KY</td>\n",
       "      <td>151</td>\n",
       "      <td>4468402</td>\n",
       "    </tr>\n",
       "    <tr>\n",
       "      <th>18</th>\n",
       "      <td>LA</td>\n",
       "      <td>178</td>\n",
       "      <td>4659978</td>\n",
       "    </tr>\n",
       "    <tr>\n",
       "      <th>19</th>\n",
       "      <td>ME</td>\n",
       "      <td>60</td>\n",
       "      <td>1338404</td>\n",
       "    </tr>\n",
       "    <tr>\n",
       "      <th>20</th>\n",
       "      <td>MD</td>\n",
       "      <td>273</td>\n",
       "      <td>6042718</td>\n",
       "    </tr>\n",
       "    <tr>\n",
       "      <th>21</th>\n",
       "      <td>MA</td>\n",
       "      <td>432</td>\n",
       "      <td>6902149</td>\n",
       "    </tr>\n",
       "    <tr>\n",
       "      <th>22</th>\n",
       "      <td>MI</td>\n",
       "      <td>470</td>\n",
       "      <td>9995915</td>\n",
       "    </tr>\n",
       "    <tr>\n",
       "      <th>23</th>\n",
       "      <td>MN</td>\n",
       "      <td>262</td>\n",
       "      <td>5611179</td>\n",
       "    </tr>\n",
       "    <tr>\n",
       "      <th>24</th>\n",
       "      <td>MS</td>\n",
       "      <td>76</td>\n",
       "      <td>2986530</td>\n",
       "    </tr>\n",
       "    <tr>\n",
       "      <th>25</th>\n",
       "      <td>MO</td>\n",
       "      <td>305</td>\n",
       "      <td>6126452</td>\n",
       "    </tr>\n",
       "    <tr>\n",
       "      <th>26</th>\n",
       "      <td>MT</td>\n",
       "      <td>55</td>\n",
       "      <td>1062305</td>\n",
       "    </tr>\n",
       "    <tr>\n",
       "      <th>27</th>\n",
       "      <td>NE</td>\n",
       "      <td>92</td>\n",
       "      <td>1929268</td>\n",
       "    </tr>\n",
       "    <tr>\n",
       "      <th>28</th>\n",
       "      <td>NV</td>\n",
       "      <td>302</td>\n",
       "      <td>3034392</td>\n",
       "    </tr>\n",
       "    <tr>\n",
       "      <th>29</th>\n",
       "      <td>NH</td>\n",
       "      <td>90</td>\n",
       "      <td>1356458</td>\n",
       "    </tr>\n",
       "    <tr>\n",
       "      <th>30</th>\n",
       "      <td>NJ</td>\n",
       "      <td>359</td>\n",
       "      <td>8908520</td>\n",
       "    </tr>\n",
       "    <tr>\n",
       "      <th>31</th>\n",
       "      <td>NM</td>\n",
       "      <td>194</td>\n",
       "      <td>2095428</td>\n",
       "    </tr>\n",
       "    <tr>\n",
       "      <th>32</th>\n",
       "      <td>NY</td>\n",
       "      <td>862</td>\n",
       "      <td>19542209</td>\n",
       "    </tr>\n",
       "    <tr>\n",
       "      <th>33</th>\n",
       "      <td>NC</td>\n",
       "      <td>432</td>\n",
       "      <td>10383620</td>\n",
       "    </tr>\n",
       "    <tr>\n",
       "      <th>34</th>\n",
       "      <td>ND</td>\n",
       "      <td>17</td>\n",
       "      <td>760077</td>\n",
       "    </tr>\n",
       "    <tr>\n",
       "      <th>35</th>\n",
       "      <td>OH</td>\n",
       "      <td>409</td>\n",
       "      <td>11689442</td>\n",
       "    </tr>\n",
       "    <tr>\n",
       "      <th>36</th>\n",
       "      <td>OK</td>\n",
       "      <td>211</td>\n",
       "      <td>3943079</td>\n",
       "    </tr>\n",
       "    <tr>\n",
       "      <th>37</th>\n",
       "      <td>OR</td>\n",
       "      <td>355</td>\n",
       "      <td>4190713</td>\n",
       "    </tr>\n",
       "    <tr>\n",
       "      <th>38</th>\n",
       "      <td>PA</td>\n",
       "      <td>453</td>\n",
       "      <td>12807060</td>\n",
       "    </tr>\n",
       "    <tr>\n",
       "      <th>39</th>\n",
       "      <td>RI</td>\n",
       "      <td>62</td>\n",
       "      <td>1057315</td>\n",
       "    </tr>\n",
       "    <tr>\n",
       "      <th>40</th>\n",
       "      <td>SC</td>\n",
       "      <td>199</td>\n",
       "      <td>5084127</td>\n",
       "    </tr>\n",
       "    <tr>\n",
       "      <th>41</th>\n",
       "      <td>SD</td>\n",
       "      <td>29</td>\n",
       "      <td>882235</td>\n",
       "    </tr>\n",
       "    <tr>\n",
       "      <th>42</th>\n",
       "      <td>TN</td>\n",
       "      <td>289</td>\n",
       "      <td>6770010</td>\n",
       "    </tr>\n",
       "    <tr>\n",
       "      <th>43</th>\n",
       "      <td>TX</td>\n",
       "      <td>1723</td>\n",
       "      <td>28701845</td>\n",
       "    </tr>\n",
       "    <tr>\n",
       "      <th>44</th>\n",
       "      <td>UT</td>\n",
       "      <td>146</td>\n",
       "      <td>3161105</td>\n",
       "    </tr>\n",
       "    <tr>\n",
       "      <th>45</th>\n",
       "      <td>VT</td>\n",
       "      <td>17</td>\n",
       "      <td>626299</td>\n",
       "    </tr>\n",
       "    <tr>\n",
       "      <th>46</th>\n",
       "      <td>VA</td>\n",
       "      <td>380</td>\n",
       "      <td>8517685</td>\n",
       "    </tr>\n",
       "    <tr>\n",
       "      <th>47</th>\n",
       "      <td>WA</td>\n",
       "      <td>423</td>\n",
       "      <td>7535591</td>\n",
       "    </tr>\n",
       "    <tr>\n",
       "      <th>48</th>\n",
       "      <td>WV</td>\n",
       "      <td>50</td>\n",
       "      <td>1805832</td>\n",
       "    </tr>\n",
       "    <tr>\n",
       "      <th>49</th>\n",
       "      <td>WI</td>\n",
       "      <td>263</td>\n",
       "      <td>5813568</td>\n",
       "    </tr>\n",
       "    <tr>\n",
       "      <th>50</th>\n",
       "      <td>WY</td>\n",
       "      <td>0</td>\n",
       "      <td>577737</td>\n",
       "    </tr>\n",
       "  </tbody>\n",
       "</table>\n",
       "</div>"
      ],
      "text/plain": [
       "   code  restaurants  population\n",
       "0    AL          160     4887871\n",
       "1    AK            7      737438\n",
       "2    AZ          614     7171646\n",
       "3    AR          140     3013825\n",
       "4    CA         4964    39557045\n",
       "5    CO          479     5695564\n",
       "6    CT          176     3572665\n",
       "7    DC          101      967171\n",
       "8    DE           41      702455\n",
       "9    FL          901    21299325\n",
       "10   GA          439    10519475\n",
       "11   HI           79     1420491\n",
       "12   ID          102     1754208\n",
       "13   IL          851    12741080\n",
       "14   IN          310     6691878\n",
       "15   IA          179     3156145\n",
       "16   KS          162     2911505\n",
       "17   KY          151     4468402\n",
       "18   LA          178     4659978\n",
       "19   ME           60     1338404\n",
       "20   MD          273     6042718\n",
       "21   MA          432     6902149\n",
       "22   MI          470     9995915\n",
       "23   MN          262     5611179\n",
       "24   MS           76     2986530\n",
       "25   MO          305     6126452\n",
       "26   MT           55     1062305\n",
       "27   NE           92     1929268\n",
       "28   NV          302     3034392\n",
       "29   NH           90     1356458\n",
       "30   NJ          359     8908520\n",
       "31   NM          194     2095428\n",
       "32   NY          862    19542209\n",
       "33   NC          432    10383620\n",
       "34   ND           17      760077\n",
       "35   OH          409    11689442\n",
       "36   OK          211     3943079\n",
       "37   OR          355     4190713\n",
       "38   PA          453    12807060\n",
       "39   RI           62     1057315\n",
       "40   SC          199     5084127\n",
       "41   SD           29      882235\n",
       "42   TN          289     6770010\n",
       "43   TX         1723    28701845\n",
       "44   UT          146     3161105\n",
       "45   VT           17      626299\n",
       "46   VA          380     8517685\n",
       "47   WA          423     7535591\n",
       "48   WV           50     1805832\n",
       "49   WI          263     5813568\n",
       "50   WY            0      577737"
      ]
     },
     "execution_count": 132,
     "metadata": {},
     "output_type": "execute_result"
    }
   ],
   "source": [
    "for count, state in enumerate(df.province):\n",
    "    try:\n",
    "        if(len(str(state)) > 2):\n",
    "            #print(\"state: \", state)\n",
    "            df.province[count] = getF(df.postalCode[int(str(count)[:5])])\n",
    "            #print(\"REPLACERINO\")\n",
    "    except:\n",
    "        pass\n",
    "\n",
    "for count, state in enumerate(df.province):\n",
    "    try:\n",
    "        if(df.id[count] != df.id[count-1]):\n",
    "            for i in range(0,50):\n",
    "                if(stateCount.iloc[i][0] == state):\n",
    "                    stateCount['restaurants'][i] += 1\n",
    "    except:\n",
    "        pass\n",
    "print(count)\n",
    "stateCount"
   ]
  },
  {
   "cell_type": "code",
   "execution_count": 135,
   "metadata": {},
   "outputs": [
    {
     "name": "stderr",
     "output_type": "stream",
     "text": [
      "C:\\Users\\benru\\Anaconda3\\lib\\site-packages\\ipykernel_launcher.py:2: RuntimeWarning:\n",
      "\n",
      "divide by zero encountered in longlong_scalars\n",
      "\n"
     ]
    },
    {
     "data": {
      "text/html": [
       "<div>\n",
       "<style scoped>\n",
       "    .dataframe tbody tr th:only-of-type {\n",
       "        vertical-align: middle;\n",
       "    }\n",
       "\n",
       "    .dataframe tbody tr th {\n",
       "        vertical-align: top;\n",
       "    }\n",
       "\n",
       "    .dataframe thead th {\n",
       "        text-align: right;\n",
       "    }\n",
       "</style>\n",
       "<table border=\"1\" class=\"dataframe\">\n",
       "  <thead>\n",
       "    <tr style=\"text-align: right;\">\n",
       "      <th></th>\n",
       "      <th>code</th>\n",
       "      <th>restaurants</th>\n",
       "      <th>population</th>\n",
       "      <th>rPerP</th>\n",
       "    </tr>\n",
       "  </thead>\n",
       "  <tbody>\n",
       "    <tr>\n",
       "      <th>0</th>\n",
       "      <td>AL</td>\n",
       "      <td>160</td>\n",
       "      <td>4887871</td>\n",
       "      <td>3.054919e+04</td>\n",
       "    </tr>\n",
       "    <tr>\n",
       "      <th>1</th>\n",
       "      <td>AK</td>\n",
       "      <td>7</td>\n",
       "      <td>737438</td>\n",
       "      <td>1.053483e+05</td>\n",
       "    </tr>\n",
       "    <tr>\n",
       "      <th>2</th>\n",
       "      <td>AZ</td>\n",
       "      <td>614</td>\n",
       "      <td>7171646</td>\n",
       "      <td>1.168021e+04</td>\n",
       "    </tr>\n",
       "    <tr>\n",
       "      <th>3</th>\n",
       "      <td>AR</td>\n",
       "      <td>140</td>\n",
       "      <td>3013825</td>\n",
       "      <td>2.152732e+04</td>\n",
       "    </tr>\n",
       "    <tr>\n",
       "      <th>4</th>\n",
       "      <td>CA</td>\n",
       "      <td>4964</td>\n",
       "      <td>39557045</td>\n",
       "      <td>7.968784e+03</td>\n",
       "    </tr>\n",
       "    <tr>\n",
       "      <th>5</th>\n",
       "      <td>CO</td>\n",
       "      <td>479</td>\n",
       "      <td>5695564</td>\n",
       "      <td>1.189053e+04</td>\n",
       "    </tr>\n",
       "    <tr>\n",
       "      <th>6</th>\n",
       "      <td>CT</td>\n",
       "      <td>176</td>\n",
       "      <td>3572665</td>\n",
       "      <td>2.029923e+04</td>\n",
       "    </tr>\n",
       "    <tr>\n",
       "      <th>7</th>\n",
       "      <td>DC</td>\n",
       "      <td>101</td>\n",
       "      <td>967171</td>\n",
       "      <td>9.575950e+03</td>\n",
       "    </tr>\n",
       "    <tr>\n",
       "      <th>8</th>\n",
       "      <td>DE</td>\n",
       "      <td>41</td>\n",
       "      <td>702455</td>\n",
       "      <td>1.713305e+04</td>\n",
       "    </tr>\n",
       "    <tr>\n",
       "      <th>9</th>\n",
       "      <td>FL</td>\n",
       "      <td>901</td>\n",
       "      <td>21299325</td>\n",
       "      <td>2.363965e+04</td>\n",
       "    </tr>\n",
       "    <tr>\n",
       "      <th>10</th>\n",
       "      <td>GA</td>\n",
       "      <td>439</td>\n",
       "      <td>10519475</td>\n",
       "      <td>2.396236e+04</td>\n",
       "    </tr>\n",
       "    <tr>\n",
       "      <th>11</th>\n",
       "      <td>HI</td>\n",
       "      <td>79</td>\n",
       "      <td>1420491</td>\n",
       "      <td>1.798090e+04</td>\n",
       "    </tr>\n",
       "    <tr>\n",
       "      <th>12</th>\n",
       "      <td>ID</td>\n",
       "      <td>102</td>\n",
       "      <td>1754208</td>\n",
       "      <td>1.719812e+04</td>\n",
       "    </tr>\n",
       "    <tr>\n",
       "      <th>13</th>\n",
       "      <td>IL</td>\n",
       "      <td>851</td>\n",
       "      <td>12741080</td>\n",
       "      <td>1.497189e+04</td>\n",
       "    </tr>\n",
       "    <tr>\n",
       "      <th>14</th>\n",
       "      <td>IN</td>\n",
       "      <td>310</td>\n",
       "      <td>6691878</td>\n",
       "      <td>2.158670e+04</td>\n",
       "    </tr>\n",
       "    <tr>\n",
       "      <th>15</th>\n",
       "      <td>IA</td>\n",
       "      <td>179</td>\n",
       "      <td>3156145</td>\n",
       "      <td>1.763209e+04</td>\n",
       "    </tr>\n",
       "    <tr>\n",
       "      <th>16</th>\n",
       "      <td>KS</td>\n",
       "      <td>162</td>\n",
       "      <td>2911505</td>\n",
       "      <td>1.797225e+04</td>\n",
       "    </tr>\n",
       "    <tr>\n",
       "      <th>17</th>\n",
       "      <td>KY</td>\n",
       "      <td>151</td>\n",
       "      <td>4468402</td>\n",
       "      <td>2.959207e+04</td>\n",
       "    </tr>\n",
       "    <tr>\n",
       "      <th>18</th>\n",
       "      <td>LA</td>\n",
       "      <td>178</td>\n",
       "      <td>4659978</td>\n",
       "      <td>2.617965e+04</td>\n",
       "    </tr>\n",
       "    <tr>\n",
       "      <th>19</th>\n",
       "      <td>ME</td>\n",
       "      <td>60</td>\n",
       "      <td>1338404</td>\n",
       "      <td>2.230673e+04</td>\n",
       "    </tr>\n",
       "    <tr>\n",
       "      <th>20</th>\n",
       "      <td>MD</td>\n",
       "      <td>273</td>\n",
       "      <td>6042718</td>\n",
       "      <td>2.213450e+04</td>\n",
       "    </tr>\n",
       "    <tr>\n",
       "      <th>21</th>\n",
       "      <td>MA</td>\n",
       "      <td>432</td>\n",
       "      <td>6902149</td>\n",
       "      <td>1.597720e+04</td>\n",
       "    </tr>\n",
       "    <tr>\n",
       "      <th>22</th>\n",
       "      <td>MI</td>\n",
       "      <td>470</td>\n",
       "      <td>9995915</td>\n",
       "      <td>2.126790e+04</td>\n",
       "    </tr>\n",
       "    <tr>\n",
       "      <th>23</th>\n",
       "      <td>MN</td>\n",
       "      <td>262</td>\n",
       "      <td>5611179</td>\n",
       "      <td>2.141671e+04</td>\n",
       "    </tr>\n",
       "    <tr>\n",
       "      <th>24</th>\n",
       "      <td>MS</td>\n",
       "      <td>76</td>\n",
       "      <td>2986530</td>\n",
       "      <td>3.929645e+04</td>\n",
       "    </tr>\n",
       "    <tr>\n",
       "      <th>25</th>\n",
       "      <td>MO</td>\n",
       "      <td>305</td>\n",
       "      <td>6126452</td>\n",
       "      <td>2.008673e+04</td>\n",
       "    </tr>\n",
       "    <tr>\n",
       "      <th>26</th>\n",
       "      <td>MT</td>\n",
       "      <td>55</td>\n",
       "      <td>1062305</td>\n",
       "      <td>1.931464e+04</td>\n",
       "    </tr>\n",
       "    <tr>\n",
       "      <th>27</th>\n",
       "      <td>NE</td>\n",
       "      <td>92</td>\n",
       "      <td>1929268</td>\n",
       "      <td>2.097030e+04</td>\n",
       "    </tr>\n",
       "    <tr>\n",
       "      <th>28</th>\n",
       "      <td>NV</td>\n",
       "      <td>302</td>\n",
       "      <td>3034392</td>\n",
       "      <td>1.004766e+04</td>\n",
       "    </tr>\n",
       "    <tr>\n",
       "      <th>29</th>\n",
       "      <td>NH</td>\n",
       "      <td>90</td>\n",
       "      <td>1356458</td>\n",
       "      <td>1.507176e+04</td>\n",
       "    </tr>\n",
       "    <tr>\n",
       "      <th>30</th>\n",
       "      <td>NJ</td>\n",
       "      <td>359</td>\n",
       "      <td>8908520</td>\n",
       "      <td>2.481482e+04</td>\n",
       "    </tr>\n",
       "    <tr>\n",
       "      <th>31</th>\n",
       "      <td>NM</td>\n",
       "      <td>194</td>\n",
       "      <td>2095428</td>\n",
       "      <td>1.080118e+04</td>\n",
       "    </tr>\n",
       "    <tr>\n",
       "      <th>32</th>\n",
       "      <td>NY</td>\n",
       "      <td>862</td>\n",
       "      <td>19542209</td>\n",
       "      <td>2.267078e+04</td>\n",
       "    </tr>\n",
       "    <tr>\n",
       "      <th>33</th>\n",
       "      <td>NC</td>\n",
       "      <td>432</td>\n",
       "      <td>10383620</td>\n",
       "      <td>2.403616e+04</td>\n",
       "    </tr>\n",
       "    <tr>\n",
       "      <th>34</th>\n",
       "      <td>ND</td>\n",
       "      <td>17</td>\n",
       "      <td>760077</td>\n",
       "      <td>4.471041e+04</td>\n",
       "    </tr>\n",
       "    <tr>\n",
       "      <th>35</th>\n",
       "      <td>OH</td>\n",
       "      <td>409</td>\n",
       "      <td>11689442</td>\n",
       "      <td>2.858054e+04</td>\n",
       "    </tr>\n",
       "    <tr>\n",
       "      <th>36</th>\n",
       "      <td>OK</td>\n",
       "      <td>211</td>\n",
       "      <td>3943079</td>\n",
       "      <td>1.868758e+04</td>\n",
       "    </tr>\n",
       "    <tr>\n",
       "      <th>37</th>\n",
       "      <td>OR</td>\n",
       "      <td>355</td>\n",
       "      <td>4190713</td>\n",
       "      <td>1.180483e+04</td>\n",
       "    </tr>\n",
       "    <tr>\n",
       "      <th>38</th>\n",
       "      <td>PA</td>\n",
       "      <td>453</td>\n",
       "      <td>12807060</td>\n",
       "      <td>2.827166e+04</td>\n",
       "    </tr>\n",
       "    <tr>\n",
       "      <th>39</th>\n",
       "      <td>RI</td>\n",
       "      <td>62</td>\n",
       "      <td>1057315</td>\n",
       "      <td>1.705347e+04</td>\n",
       "    </tr>\n",
       "    <tr>\n",
       "      <th>40</th>\n",
       "      <td>SC</td>\n",
       "      <td>199</td>\n",
       "      <td>5084127</td>\n",
       "      <td>2.554838e+04</td>\n",
       "    </tr>\n",
       "    <tr>\n",
       "      <th>41</th>\n",
       "      <td>SD</td>\n",
       "      <td>29</td>\n",
       "      <td>882235</td>\n",
       "      <td>3.042190e+04</td>\n",
       "    </tr>\n",
       "    <tr>\n",
       "      <th>42</th>\n",
       "      <td>TN</td>\n",
       "      <td>289</td>\n",
       "      <td>6770010</td>\n",
       "      <td>2.342564e+04</td>\n",
       "    </tr>\n",
       "    <tr>\n",
       "      <th>43</th>\n",
       "      <td>TX</td>\n",
       "      <td>1723</td>\n",
       "      <td>28701845</td>\n",
       "      <td>1.665806e+04</td>\n",
       "    </tr>\n",
       "    <tr>\n",
       "      <th>44</th>\n",
       "      <td>UT</td>\n",
       "      <td>146</td>\n",
       "      <td>3161105</td>\n",
       "      <td>2.165140e+04</td>\n",
       "    </tr>\n",
       "    <tr>\n",
       "      <th>45</th>\n",
       "      <td>VT</td>\n",
       "      <td>17</td>\n",
       "      <td>626299</td>\n",
       "      <td>3.684112e+04</td>\n",
       "    </tr>\n",
       "    <tr>\n",
       "      <th>46</th>\n",
       "      <td>VA</td>\n",
       "      <td>380</td>\n",
       "      <td>8517685</td>\n",
       "      <td>2.241496e+04</td>\n",
       "    </tr>\n",
       "    <tr>\n",
       "      <th>47</th>\n",
       "      <td>WA</td>\n",
       "      <td>423</td>\n",
       "      <td>7535591</td>\n",
       "      <td>1.781464e+04</td>\n",
       "    </tr>\n",
       "    <tr>\n",
       "      <th>48</th>\n",
       "      <td>WV</td>\n",
       "      <td>50</td>\n",
       "      <td>1805832</td>\n",
       "      <td>3.611664e+04</td>\n",
       "    </tr>\n",
       "    <tr>\n",
       "      <th>49</th>\n",
       "      <td>WI</td>\n",
       "      <td>263</td>\n",
       "      <td>5813568</td>\n",
       "      <td>2.210482e+04</td>\n",
       "    </tr>\n",
       "    <tr>\n",
       "      <th>50</th>\n",
       "      <td>WY</td>\n",
       "      <td>0</td>\n",
       "      <td>577737</td>\n",
       "      <td>inf</td>\n",
       "    </tr>\n",
       "  </tbody>\n",
       "</table>\n",
       "</div>"
      ],
      "text/plain": [
       "   code  restaurants  population         rPerP\n",
       "0    AL          160     4887871  3.054919e+04\n",
       "1    AK            7      737438  1.053483e+05\n",
       "2    AZ          614     7171646  1.168021e+04\n",
       "3    AR          140     3013825  2.152732e+04\n",
       "4    CA         4964    39557045  7.968784e+03\n",
       "5    CO          479     5695564  1.189053e+04\n",
       "6    CT          176     3572665  2.029923e+04\n",
       "7    DC          101      967171  9.575950e+03\n",
       "8    DE           41      702455  1.713305e+04\n",
       "9    FL          901    21299325  2.363965e+04\n",
       "10   GA          439    10519475  2.396236e+04\n",
       "11   HI           79     1420491  1.798090e+04\n",
       "12   ID          102     1754208  1.719812e+04\n",
       "13   IL          851    12741080  1.497189e+04\n",
       "14   IN          310     6691878  2.158670e+04\n",
       "15   IA          179     3156145  1.763209e+04\n",
       "16   KS          162     2911505  1.797225e+04\n",
       "17   KY          151     4468402  2.959207e+04\n",
       "18   LA          178     4659978  2.617965e+04\n",
       "19   ME           60     1338404  2.230673e+04\n",
       "20   MD          273     6042718  2.213450e+04\n",
       "21   MA          432     6902149  1.597720e+04\n",
       "22   MI          470     9995915  2.126790e+04\n",
       "23   MN          262     5611179  2.141671e+04\n",
       "24   MS           76     2986530  3.929645e+04\n",
       "25   MO          305     6126452  2.008673e+04\n",
       "26   MT           55     1062305  1.931464e+04\n",
       "27   NE           92     1929268  2.097030e+04\n",
       "28   NV          302     3034392  1.004766e+04\n",
       "29   NH           90     1356458  1.507176e+04\n",
       "30   NJ          359     8908520  2.481482e+04\n",
       "31   NM          194     2095428  1.080118e+04\n",
       "32   NY          862    19542209  2.267078e+04\n",
       "33   NC          432    10383620  2.403616e+04\n",
       "34   ND           17      760077  4.471041e+04\n",
       "35   OH          409    11689442  2.858054e+04\n",
       "36   OK          211     3943079  1.868758e+04\n",
       "37   OR          355     4190713  1.180483e+04\n",
       "38   PA          453    12807060  2.827166e+04\n",
       "39   RI           62     1057315  1.705347e+04\n",
       "40   SC          199     5084127  2.554838e+04\n",
       "41   SD           29      882235  3.042190e+04\n",
       "42   TN          289     6770010  2.342564e+04\n",
       "43   TX         1723    28701845  1.665806e+04\n",
       "44   UT          146     3161105  2.165140e+04\n",
       "45   VT           17      626299  3.684112e+04\n",
       "46   VA          380     8517685  2.241496e+04\n",
       "47   WA          423     7535591  1.781464e+04\n",
       "48   WV           50     1805832  3.611664e+04\n",
       "49   WI          263     5813568  2.210482e+04\n",
       "50   WY            0      577737           inf"
      ]
     },
     "execution_count": 135,
     "metadata": {},
     "output_type": "execute_result"
    }
   ],
   "source": [
    "for i in range(0, len(stateCount)):\n",
    "    stateCount['rPerP'][i] = stateCount['population'][i]/stateCount['restaurants'][i]\n",
    "stateCount"
   ]
  },
  {
   "cell_type": "code",
   "execution_count": 109,
   "metadata": {},
   "outputs": [
    {
     "data": {
      "application/vnd.plotly.v1+json": {
       "config": {
        "plotlyServerURL": "https://plot.ly"
       },
       "data": [
        {
         "autocolorscale": false,
         "colorbar": {
          "title": {
           "text": "Restaurants"
          }
         },
         "colorscale": [
          [
           0,
           "rgb(255,245,240)"
          ],
          [
           0.125,
           "rgb(254,224,210)"
          ],
          [
           0.25,
           "rgb(252,187,161)"
          ],
          [
           0.375,
           "rgb(252,146,114)"
          ],
          [
           0.5,
           "rgb(251,106,74)"
          ],
          [
           0.625,
           "rgb(239,59,44)"
          ],
          [
           0.75,
           "rgb(203,24,29)"
          ],
          [
           0.875,
           "rgb(165,15,21)"
          ],
          [
           1,
           "rgb(103,0,13)"
          ]
         ],
         "locationmode": "USA-states",
         "locations": [
          "AL",
          "AK",
          "AZ",
          "AR",
          "CA",
          "CO",
          "CT",
          "DC",
          "DE",
          "FL",
          "GA",
          "HI",
          "ID",
          "IL",
          "IN",
          "IA",
          "KS",
          "KY",
          "LA",
          "ME",
          "MD",
          "MA",
          "MI",
          "MN",
          "MS",
          "MO",
          "MT",
          "NE",
          "NV",
          "NH",
          "NJ",
          "NM",
          "NY",
          "NC",
          "ND",
          "OH",
          "OK",
          "OR",
          "PA",
          "RI",
          "SC",
          "SD",
          "TN",
          "TX",
          "UT",
          "VT",
          "VA",
          "WA",
          "WV",
          "WI",
          "WY"
         ],
         "marker": {
          "line": {
           "color": "white"
          }
         },
         "type": "choropleth",
         "z": [
          161,
          7,
          608,
          136,
          4921,
          477,
          173,
          100,
          39,
          892,
          434,
          79,
          100,
          850,
          307,
          177,
          162,
          149,
          175,
          60,
          270,
          428,
          470,
          258,
          76,
          302,
          55,
          92,
          299,
          90,
          357,
          193,
          857,
          427,
          17,
          405,
          206,
          354,
          449,
          61,
          198,
          29,
          286,
          1699,
          145,
          17,
          374,
          420,
          49,
          261,
          0
         ]
        }
       ],
       "layout": {
        "geo": {
         "lakecolor": "rgb(255, 255, 255)",
         "projection": {
          "type": "albers usa"
         },
         "scope": "usa",
         "showlakes": true
        },
        "template": {
         "data": {
          "bar": [
           {
            "error_x": {
             "color": "#2a3f5f"
            },
            "error_y": {
             "color": "#2a3f5f"
            },
            "marker": {
             "line": {
              "color": "#E5ECF6",
              "width": 0.5
             }
            },
            "type": "bar"
           }
          ],
          "barpolar": [
           {
            "marker": {
             "line": {
              "color": "#E5ECF6",
              "width": 0.5
             }
            },
            "type": "barpolar"
           }
          ],
          "carpet": [
           {
            "aaxis": {
             "endlinecolor": "#2a3f5f",
             "gridcolor": "white",
             "linecolor": "white",
             "minorgridcolor": "white",
             "startlinecolor": "#2a3f5f"
            },
            "baxis": {
             "endlinecolor": "#2a3f5f",
             "gridcolor": "white",
             "linecolor": "white",
             "minorgridcolor": "white",
             "startlinecolor": "#2a3f5f"
            },
            "type": "carpet"
           }
          ],
          "choropleth": [
           {
            "colorbar": {
             "outlinewidth": 0,
             "ticks": ""
            },
            "type": "choropleth"
           }
          ],
          "contour": [
           {
            "colorbar": {
             "outlinewidth": 0,
             "ticks": ""
            },
            "colorscale": [
             [
              0,
              "#0d0887"
             ],
             [
              0.1111111111111111,
              "#46039f"
             ],
             [
              0.2222222222222222,
              "#7201a8"
             ],
             [
              0.3333333333333333,
              "#9c179e"
             ],
             [
              0.4444444444444444,
              "#bd3786"
             ],
             [
              0.5555555555555556,
              "#d8576b"
             ],
             [
              0.6666666666666666,
              "#ed7953"
             ],
             [
              0.7777777777777778,
              "#fb9f3a"
             ],
             [
              0.8888888888888888,
              "#fdca26"
             ],
             [
              1,
              "#f0f921"
             ]
            ],
            "type": "contour"
           }
          ],
          "contourcarpet": [
           {
            "colorbar": {
             "outlinewidth": 0,
             "ticks": ""
            },
            "type": "contourcarpet"
           }
          ],
          "heatmap": [
           {
            "colorbar": {
             "outlinewidth": 0,
             "ticks": ""
            },
            "colorscale": [
             [
              0,
              "#0d0887"
             ],
             [
              0.1111111111111111,
              "#46039f"
             ],
             [
              0.2222222222222222,
              "#7201a8"
             ],
             [
              0.3333333333333333,
              "#9c179e"
             ],
             [
              0.4444444444444444,
              "#bd3786"
             ],
             [
              0.5555555555555556,
              "#d8576b"
             ],
             [
              0.6666666666666666,
              "#ed7953"
             ],
             [
              0.7777777777777778,
              "#fb9f3a"
             ],
             [
              0.8888888888888888,
              "#fdca26"
             ],
             [
              1,
              "#f0f921"
             ]
            ],
            "type": "heatmap"
           }
          ],
          "heatmapgl": [
           {
            "colorbar": {
             "outlinewidth": 0,
             "ticks": ""
            },
            "colorscale": [
             [
              0,
              "#0d0887"
             ],
             [
              0.1111111111111111,
              "#46039f"
             ],
             [
              0.2222222222222222,
              "#7201a8"
             ],
             [
              0.3333333333333333,
              "#9c179e"
             ],
             [
              0.4444444444444444,
              "#bd3786"
             ],
             [
              0.5555555555555556,
              "#d8576b"
             ],
             [
              0.6666666666666666,
              "#ed7953"
             ],
             [
              0.7777777777777778,
              "#fb9f3a"
             ],
             [
              0.8888888888888888,
              "#fdca26"
             ],
             [
              1,
              "#f0f921"
             ]
            ],
            "type": "heatmapgl"
           }
          ],
          "histogram": [
           {
            "marker": {
             "colorbar": {
              "outlinewidth": 0,
              "ticks": ""
             }
            },
            "type": "histogram"
           }
          ],
          "histogram2d": [
           {
            "colorbar": {
             "outlinewidth": 0,
             "ticks": ""
            },
            "colorscale": [
             [
              0,
              "#0d0887"
             ],
             [
              0.1111111111111111,
              "#46039f"
             ],
             [
              0.2222222222222222,
              "#7201a8"
             ],
             [
              0.3333333333333333,
              "#9c179e"
             ],
             [
              0.4444444444444444,
              "#bd3786"
             ],
             [
              0.5555555555555556,
              "#d8576b"
             ],
             [
              0.6666666666666666,
              "#ed7953"
             ],
             [
              0.7777777777777778,
              "#fb9f3a"
             ],
             [
              0.8888888888888888,
              "#fdca26"
             ],
             [
              1,
              "#f0f921"
             ]
            ],
            "type": "histogram2d"
           }
          ],
          "histogram2dcontour": [
           {
            "colorbar": {
             "outlinewidth": 0,
             "ticks": ""
            },
            "colorscale": [
             [
              0,
              "#0d0887"
             ],
             [
              0.1111111111111111,
              "#46039f"
             ],
             [
              0.2222222222222222,
              "#7201a8"
             ],
             [
              0.3333333333333333,
              "#9c179e"
             ],
             [
              0.4444444444444444,
              "#bd3786"
             ],
             [
              0.5555555555555556,
              "#d8576b"
             ],
             [
              0.6666666666666666,
              "#ed7953"
             ],
             [
              0.7777777777777778,
              "#fb9f3a"
             ],
             [
              0.8888888888888888,
              "#fdca26"
             ],
             [
              1,
              "#f0f921"
             ]
            ],
            "type": "histogram2dcontour"
           }
          ],
          "mesh3d": [
           {
            "colorbar": {
             "outlinewidth": 0,
             "ticks": ""
            },
            "type": "mesh3d"
           }
          ],
          "parcoords": [
           {
            "line": {
             "colorbar": {
              "outlinewidth": 0,
              "ticks": ""
             }
            },
            "type": "parcoords"
           }
          ],
          "scatter": [
           {
            "marker": {
             "colorbar": {
              "outlinewidth": 0,
              "ticks": ""
             }
            },
            "type": "scatter"
           }
          ],
          "scatter3d": [
           {
            "line": {
             "colorbar": {
              "outlinewidth": 0,
              "ticks": ""
             }
            },
            "marker": {
             "colorbar": {
              "outlinewidth": 0,
              "ticks": ""
             }
            },
            "type": "scatter3d"
           }
          ],
          "scattercarpet": [
           {
            "marker": {
             "colorbar": {
              "outlinewidth": 0,
              "ticks": ""
             }
            },
            "type": "scattercarpet"
           }
          ],
          "scattergeo": [
           {
            "marker": {
             "colorbar": {
              "outlinewidth": 0,
              "ticks": ""
             }
            },
            "type": "scattergeo"
           }
          ],
          "scattergl": [
           {
            "marker": {
             "colorbar": {
              "outlinewidth": 0,
              "ticks": ""
             }
            },
            "type": "scattergl"
           }
          ],
          "scattermapbox": [
           {
            "marker": {
             "colorbar": {
              "outlinewidth": 0,
              "ticks": ""
             }
            },
            "type": "scattermapbox"
           }
          ],
          "scatterpolar": [
           {
            "marker": {
             "colorbar": {
              "outlinewidth": 0,
              "ticks": ""
             }
            },
            "type": "scatterpolar"
           }
          ],
          "scatterpolargl": [
           {
            "marker": {
             "colorbar": {
              "outlinewidth": 0,
              "ticks": ""
             }
            },
            "type": "scatterpolargl"
           }
          ],
          "scatterternary": [
           {
            "marker": {
             "colorbar": {
              "outlinewidth": 0,
              "ticks": ""
             }
            },
            "type": "scatterternary"
           }
          ],
          "surface": [
           {
            "colorbar": {
             "outlinewidth": 0,
             "ticks": ""
            },
            "colorscale": [
             [
              0,
              "#0d0887"
             ],
             [
              0.1111111111111111,
              "#46039f"
             ],
             [
              0.2222222222222222,
              "#7201a8"
             ],
             [
              0.3333333333333333,
              "#9c179e"
             ],
             [
              0.4444444444444444,
              "#bd3786"
             ],
             [
              0.5555555555555556,
              "#d8576b"
             ],
             [
              0.6666666666666666,
              "#ed7953"
             ],
             [
              0.7777777777777778,
              "#fb9f3a"
             ],
             [
              0.8888888888888888,
              "#fdca26"
             ],
             [
              1,
              "#f0f921"
             ]
            ],
            "type": "surface"
           }
          ],
          "table": [
           {
            "cells": {
             "fill": {
              "color": "#EBF0F8"
             },
             "line": {
              "color": "white"
             }
            },
            "header": {
             "fill": {
              "color": "#C8D4E3"
             },
             "line": {
              "color": "white"
             }
            },
            "type": "table"
           }
          ]
         },
         "layout": {
          "annotationdefaults": {
           "arrowcolor": "#2a3f5f",
           "arrowhead": 0,
           "arrowwidth": 1
          },
          "colorscale": {
           "diverging": [
            [
             0,
             "#8e0152"
            ],
            [
             0.1,
             "#c51b7d"
            ],
            [
             0.2,
             "#de77ae"
            ],
            [
             0.3,
             "#f1b6da"
            ],
            [
             0.4,
             "#fde0ef"
            ],
            [
             0.5,
             "#f7f7f7"
            ],
            [
             0.6,
             "#e6f5d0"
            ],
            [
             0.7,
             "#b8e186"
            ],
            [
             0.8,
             "#7fbc41"
            ],
            [
             0.9,
             "#4d9221"
            ],
            [
             1,
             "#276419"
            ]
           ],
           "sequential": [
            [
             0,
             "#0d0887"
            ],
            [
             0.1111111111111111,
             "#46039f"
            ],
            [
             0.2222222222222222,
             "#7201a8"
            ],
            [
             0.3333333333333333,
             "#9c179e"
            ],
            [
             0.4444444444444444,
             "#bd3786"
            ],
            [
             0.5555555555555556,
             "#d8576b"
            ],
            [
             0.6666666666666666,
             "#ed7953"
            ],
            [
             0.7777777777777778,
             "#fb9f3a"
            ],
            [
             0.8888888888888888,
             "#fdca26"
            ],
            [
             1,
             "#f0f921"
            ]
           ],
           "sequentialminus": [
            [
             0,
             "#0d0887"
            ],
            [
             0.1111111111111111,
             "#46039f"
            ],
            [
             0.2222222222222222,
             "#7201a8"
            ],
            [
             0.3333333333333333,
             "#9c179e"
            ],
            [
             0.4444444444444444,
             "#bd3786"
            ],
            [
             0.5555555555555556,
             "#d8576b"
            ],
            [
             0.6666666666666666,
             "#ed7953"
            ],
            [
             0.7777777777777778,
             "#fb9f3a"
            ],
            [
             0.8888888888888888,
             "#fdca26"
            ],
            [
             1,
             "#f0f921"
            ]
           ]
          },
          "colorway": [
           "#636efa",
           "#EF553B",
           "#00cc96",
           "#ab63fa",
           "#FFA15A",
           "#19d3f3",
           "#FF6692",
           "#B6E880",
           "#FF97FF",
           "#FECB52"
          ],
          "font": {
           "color": "#2a3f5f"
          },
          "geo": {
           "bgcolor": "white",
           "lakecolor": "white",
           "landcolor": "#E5ECF6",
           "showlakes": true,
           "showland": true,
           "subunitcolor": "white"
          },
          "hoverlabel": {
           "align": "left"
          },
          "hovermode": "closest",
          "mapbox": {
           "style": "light"
          },
          "paper_bgcolor": "white",
          "plot_bgcolor": "#E5ECF6",
          "polar": {
           "angularaxis": {
            "gridcolor": "white",
            "linecolor": "white",
            "ticks": ""
           },
           "bgcolor": "#E5ECF6",
           "radialaxis": {
            "gridcolor": "white",
            "linecolor": "white",
            "ticks": ""
           }
          },
          "scene": {
           "xaxis": {
            "backgroundcolor": "#E5ECF6",
            "gridcolor": "white",
            "gridwidth": 2,
            "linecolor": "white",
            "showbackground": true,
            "ticks": "",
            "zerolinecolor": "white"
           },
           "yaxis": {
            "backgroundcolor": "#E5ECF6",
            "gridcolor": "white",
            "gridwidth": 2,
            "linecolor": "white",
            "showbackground": true,
            "ticks": "",
            "zerolinecolor": "white"
           },
           "zaxis": {
            "backgroundcolor": "#E5ECF6",
            "gridcolor": "white",
            "gridwidth": 2,
            "linecolor": "white",
            "showbackground": true,
            "ticks": "",
            "zerolinecolor": "white"
           }
          },
          "shapedefaults": {
           "line": {
            "color": "#2a3f5f"
           }
          },
          "ternary": {
           "aaxis": {
            "gridcolor": "white",
            "linecolor": "white",
            "ticks": ""
           },
           "baxis": {
            "gridcolor": "white",
            "linecolor": "white",
            "ticks": ""
           },
           "bgcolor": "#E5ECF6",
           "caxis": {
            "gridcolor": "white",
            "linecolor": "white",
            "ticks": ""
           }
          },
          "title": {
           "x": 0.05
          },
          "xaxis": {
           "automargin": true,
           "gridcolor": "white",
           "linecolor": "white",
           "ticks": "",
           "zerolinecolor": "white",
           "zerolinewidth": 2
          },
          "yaxis": {
           "automargin": true,
           "gridcolor": "white",
           "linecolor": "white",
           "ticks": "",
           "zerolinecolor": "white",
           "zerolinewidth": 2
          }
         }
        },
        "title": {
         "text": "2019 US TexMex Restaurants by State<br>(Hover for breakdown)"
        }
       }
      },
      "text/html": [
       "<div>\n",
       "        \n",
       "        \n",
       "            <div id=\"53c7da83-1555-4939-b996-0fc34a0eb9a0\" class=\"plotly-graph-div\" style=\"height:525px; width:100%;\"></div>\n",
       "            <script type=\"text/javascript\">\n",
       "                require([\"plotly\"], function(Plotly) {\n",
       "                    window.PLOTLYENV=window.PLOTLYENV || {};\n",
       "                    \n",
       "                if (document.getElementById(\"53c7da83-1555-4939-b996-0fc34a0eb9a0\")) {\n",
       "                    Plotly.newPlot(\n",
       "                        '53c7da83-1555-4939-b996-0fc34a0eb9a0',\n",
       "                        [{\"autocolorscale\": false, \"colorbar\": {\"title\": {\"text\": \"Restaurants\"}}, \"colorscale\": [[0.0, \"rgb(255,245,240)\"], [0.125, \"rgb(254,224,210)\"], [0.25, \"rgb(252,187,161)\"], [0.375, \"rgb(252,146,114)\"], [0.5, \"rgb(251,106,74)\"], [0.625, \"rgb(239,59,44)\"], [0.75, \"rgb(203,24,29)\"], [0.875, \"rgb(165,15,21)\"], [1.0, \"rgb(103,0,13)\"]], \"locationmode\": \"USA-states\", \"locations\": [\"AL\", \"AK\", \"AZ\", \"AR\", \"CA\", \"CO\", \"CT\", \"DC\", \"DE\", \"FL\", \"GA\", \"HI\", \"ID\", \"IL\", \"IN\", \"IA\", \"KS\", \"KY\", \"LA\", \"ME\", \"MD\", \"MA\", \"MI\", \"MN\", \"MS\", \"MO\", \"MT\", \"NE\", \"NV\", \"NH\", \"NJ\", \"NM\", \"NY\", \"NC\", \"ND\", \"OH\", \"OK\", \"OR\", \"PA\", \"RI\", \"SC\", \"SD\", \"TN\", \"TX\", \"UT\", \"VT\", \"VA\", \"WA\", \"WV\", \"WI\", \"WY\"], \"marker\": {\"line\": {\"color\": \"white\"}}, \"type\": \"choropleth\", \"z\": [161, 7, 608, 136, 4921, 477, 173, 100, 39, 892, 434, 79, 100, 850, 307, 177, 162, 149, 175, 60, 270, 428, 470, 258, 76, 302, 55, 92, 299, 90, 357, 193, 857, 427, 17, 405, 206, 354, 449, 61, 198, 29, 286, 1699, 145, 17, 374, 420, 49, 261, 0]}],\n",
       "                        {\"geo\": {\"lakecolor\": \"rgb(255, 255, 255)\", \"projection\": {\"type\": \"albers usa\"}, \"scope\": \"usa\", \"showlakes\": true}, \"template\": {\"data\": {\"bar\": [{\"error_x\": {\"color\": \"#2a3f5f\"}, \"error_y\": {\"color\": \"#2a3f5f\"}, \"marker\": {\"line\": {\"color\": \"#E5ECF6\", \"width\": 0.5}}, \"type\": \"bar\"}], \"barpolar\": [{\"marker\": {\"line\": {\"color\": \"#E5ECF6\", \"width\": 0.5}}, \"type\": \"barpolar\"}], \"carpet\": [{\"aaxis\": {\"endlinecolor\": \"#2a3f5f\", \"gridcolor\": \"white\", \"linecolor\": \"white\", \"minorgridcolor\": \"white\", \"startlinecolor\": \"#2a3f5f\"}, \"baxis\": {\"endlinecolor\": \"#2a3f5f\", \"gridcolor\": \"white\", \"linecolor\": \"white\", \"minorgridcolor\": \"white\", \"startlinecolor\": \"#2a3f5f\"}, \"type\": \"carpet\"}], \"choropleth\": [{\"colorbar\": {\"outlinewidth\": 0, \"ticks\": \"\"}, \"type\": \"choropleth\"}], \"contour\": [{\"colorbar\": {\"outlinewidth\": 0, \"ticks\": \"\"}, \"colorscale\": [[0.0, \"#0d0887\"], [0.1111111111111111, \"#46039f\"], [0.2222222222222222, \"#7201a8\"], [0.3333333333333333, \"#9c179e\"], [0.4444444444444444, \"#bd3786\"], [0.5555555555555556, \"#d8576b\"], [0.6666666666666666, \"#ed7953\"], [0.7777777777777778, \"#fb9f3a\"], [0.8888888888888888, \"#fdca26\"], [1.0, \"#f0f921\"]], \"type\": \"contour\"}], \"contourcarpet\": [{\"colorbar\": {\"outlinewidth\": 0, \"ticks\": \"\"}, \"type\": \"contourcarpet\"}], \"heatmap\": [{\"colorbar\": {\"outlinewidth\": 0, \"ticks\": \"\"}, \"colorscale\": [[0.0, \"#0d0887\"], [0.1111111111111111, \"#46039f\"], [0.2222222222222222, \"#7201a8\"], [0.3333333333333333, \"#9c179e\"], [0.4444444444444444, \"#bd3786\"], [0.5555555555555556, \"#d8576b\"], [0.6666666666666666, \"#ed7953\"], [0.7777777777777778, \"#fb9f3a\"], [0.8888888888888888, \"#fdca26\"], [1.0, \"#f0f921\"]], \"type\": \"heatmap\"}], \"heatmapgl\": [{\"colorbar\": {\"outlinewidth\": 0, \"ticks\": \"\"}, \"colorscale\": [[0.0, \"#0d0887\"], [0.1111111111111111, \"#46039f\"], [0.2222222222222222, \"#7201a8\"], [0.3333333333333333, \"#9c179e\"], [0.4444444444444444, \"#bd3786\"], [0.5555555555555556, \"#d8576b\"], [0.6666666666666666, \"#ed7953\"], [0.7777777777777778, \"#fb9f3a\"], [0.8888888888888888, \"#fdca26\"], [1.0, \"#f0f921\"]], \"type\": \"heatmapgl\"}], \"histogram\": [{\"marker\": {\"colorbar\": {\"outlinewidth\": 0, \"ticks\": \"\"}}, \"type\": \"histogram\"}], \"histogram2d\": [{\"colorbar\": {\"outlinewidth\": 0, \"ticks\": \"\"}, \"colorscale\": [[0.0, \"#0d0887\"], [0.1111111111111111, \"#46039f\"], [0.2222222222222222, \"#7201a8\"], [0.3333333333333333, \"#9c179e\"], [0.4444444444444444, \"#bd3786\"], [0.5555555555555556, \"#d8576b\"], [0.6666666666666666, \"#ed7953\"], [0.7777777777777778, \"#fb9f3a\"], [0.8888888888888888, \"#fdca26\"], [1.0, \"#f0f921\"]], \"type\": \"histogram2d\"}], \"histogram2dcontour\": [{\"colorbar\": {\"outlinewidth\": 0, \"ticks\": \"\"}, \"colorscale\": [[0.0, \"#0d0887\"], [0.1111111111111111, \"#46039f\"], [0.2222222222222222, \"#7201a8\"], [0.3333333333333333, \"#9c179e\"], [0.4444444444444444, \"#bd3786\"], [0.5555555555555556, \"#d8576b\"], [0.6666666666666666, \"#ed7953\"], [0.7777777777777778, \"#fb9f3a\"], [0.8888888888888888, \"#fdca26\"], [1.0, \"#f0f921\"]], \"type\": \"histogram2dcontour\"}], \"mesh3d\": [{\"colorbar\": {\"outlinewidth\": 0, \"ticks\": \"\"}, \"type\": \"mesh3d\"}], \"parcoords\": [{\"line\": {\"colorbar\": {\"outlinewidth\": 0, \"ticks\": \"\"}}, \"type\": \"parcoords\"}], \"scatter\": [{\"marker\": {\"colorbar\": {\"outlinewidth\": 0, \"ticks\": \"\"}}, \"type\": \"scatter\"}], \"scatter3d\": [{\"line\": {\"colorbar\": {\"outlinewidth\": 0, \"ticks\": \"\"}}, \"marker\": {\"colorbar\": {\"outlinewidth\": 0, \"ticks\": \"\"}}, \"type\": \"scatter3d\"}], \"scattercarpet\": [{\"marker\": {\"colorbar\": {\"outlinewidth\": 0, \"ticks\": \"\"}}, \"type\": \"scattercarpet\"}], \"scattergeo\": [{\"marker\": {\"colorbar\": {\"outlinewidth\": 0, \"ticks\": \"\"}}, \"type\": \"scattergeo\"}], \"scattergl\": [{\"marker\": {\"colorbar\": {\"outlinewidth\": 0, \"ticks\": \"\"}}, \"type\": \"scattergl\"}], \"scattermapbox\": [{\"marker\": {\"colorbar\": {\"outlinewidth\": 0, \"ticks\": \"\"}}, \"type\": \"scattermapbox\"}], \"scatterpolar\": [{\"marker\": {\"colorbar\": {\"outlinewidth\": 0, \"ticks\": \"\"}}, \"type\": \"scatterpolar\"}], \"scatterpolargl\": [{\"marker\": {\"colorbar\": {\"outlinewidth\": 0, \"ticks\": \"\"}}, \"type\": \"scatterpolargl\"}], \"scatterternary\": [{\"marker\": {\"colorbar\": {\"outlinewidth\": 0, \"ticks\": \"\"}}, \"type\": \"scatterternary\"}], \"surface\": [{\"colorbar\": {\"outlinewidth\": 0, \"ticks\": \"\"}, \"colorscale\": [[0.0, \"#0d0887\"], [0.1111111111111111, \"#46039f\"], [0.2222222222222222, \"#7201a8\"], [0.3333333333333333, \"#9c179e\"], [0.4444444444444444, \"#bd3786\"], [0.5555555555555556, \"#d8576b\"], [0.6666666666666666, \"#ed7953\"], [0.7777777777777778, \"#fb9f3a\"], [0.8888888888888888, \"#fdca26\"], [1.0, \"#f0f921\"]], \"type\": \"surface\"}], \"table\": [{\"cells\": {\"fill\": {\"color\": \"#EBF0F8\"}, \"line\": {\"color\": \"white\"}}, \"header\": {\"fill\": {\"color\": \"#C8D4E3\"}, \"line\": {\"color\": \"white\"}}, \"type\": \"table\"}]}, \"layout\": {\"annotationdefaults\": {\"arrowcolor\": \"#2a3f5f\", \"arrowhead\": 0, \"arrowwidth\": 1}, \"colorscale\": {\"diverging\": [[0, \"#8e0152\"], [0.1, \"#c51b7d\"], [0.2, \"#de77ae\"], [0.3, \"#f1b6da\"], [0.4, \"#fde0ef\"], [0.5, \"#f7f7f7\"], [0.6, \"#e6f5d0\"], [0.7, \"#b8e186\"], [0.8, \"#7fbc41\"], [0.9, \"#4d9221\"], [1, \"#276419\"]], \"sequential\": [[0.0, \"#0d0887\"], [0.1111111111111111, \"#46039f\"], [0.2222222222222222, \"#7201a8\"], [0.3333333333333333, \"#9c179e\"], [0.4444444444444444, \"#bd3786\"], [0.5555555555555556, \"#d8576b\"], [0.6666666666666666, \"#ed7953\"], [0.7777777777777778, \"#fb9f3a\"], [0.8888888888888888, \"#fdca26\"], [1.0, \"#f0f921\"]], \"sequentialminus\": [[0.0, \"#0d0887\"], [0.1111111111111111, \"#46039f\"], [0.2222222222222222, \"#7201a8\"], [0.3333333333333333, \"#9c179e\"], [0.4444444444444444, \"#bd3786\"], [0.5555555555555556, \"#d8576b\"], [0.6666666666666666, \"#ed7953\"], [0.7777777777777778, \"#fb9f3a\"], [0.8888888888888888, \"#fdca26\"], [1.0, \"#f0f921\"]]}, \"colorway\": [\"#636efa\", \"#EF553B\", \"#00cc96\", \"#ab63fa\", \"#FFA15A\", \"#19d3f3\", \"#FF6692\", \"#B6E880\", \"#FF97FF\", \"#FECB52\"], \"font\": {\"color\": \"#2a3f5f\"}, \"geo\": {\"bgcolor\": \"white\", \"lakecolor\": \"white\", \"landcolor\": \"#E5ECF6\", \"showlakes\": true, \"showland\": true, \"subunitcolor\": \"white\"}, \"hoverlabel\": {\"align\": \"left\"}, \"hovermode\": \"closest\", \"mapbox\": {\"style\": \"light\"}, \"paper_bgcolor\": \"white\", \"plot_bgcolor\": \"#E5ECF6\", \"polar\": {\"angularaxis\": {\"gridcolor\": \"white\", \"linecolor\": \"white\", \"ticks\": \"\"}, \"bgcolor\": \"#E5ECF6\", \"radialaxis\": {\"gridcolor\": \"white\", \"linecolor\": \"white\", \"ticks\": \"\"}}, \"scene\": {\"xaxis\": {\"backgroundcolor\": \"#E5ECF6\", \"gridcolor\": \"white\", \"gridwidth\": 2, \"linecolor\": \"white\", \"showbackground\": true, \"ticks\": \"\", \"zerolinecolor\": \"white\"}, \"yaxis\": {\"backgroundcolor\": \"#E5ECF6\", \"gridcolor\": \"white\", \"gridwidth\": 2, \"linecolor\": \"white\", \"showbackground\": true, \"ticks\": \"\", \"zerolinecolor\": \"white\"}, \"zaxis\": {\"backgroundcolor\": \"#E5ECF6\", \"gridcolor\": \"white\", \"gridwidth\": 2, \"linecolor\": \"white\", \"showbackground\": true, \"ticks\": \"\", \"zerolinecolor\": \"white\"}}, \"shapedefaults\": {\"line\": {\"color\": \"#2a3f5f\"}}, \"ternary\": {\"aaxis\": {\"gridcolor\": \"white\", \"linecolor\": \"white\", \"ticks\": \"\"}, \"baxis\": {\"gridcolor\": \"white\", \"linecolor\": \"white\", \"ticks\": \"\"}, \"bgcolor\": \"#E5ECF6\", \"caxis\": {\"gridcolor\": \"white\", \"linecolor\": \"white\", \"ticks\": \"\"}}, \"title\": {\"x\": 0.05}, \"xaxis\": {\"automargin\": true, \"gridcolor\": \"white\", \"linecolor\": \"white\", \"ticks\": \"\", \"zerolinecolor\": \"white\", \"zerolinewidth\": 2}, \"yaxis\": {\"automargin\": true, \"gridcolor\": \"white\", \"linecolor\": \"white\", \"ticks\": \"\", \"zerolinecolor\": \"white\", \"zerolinewidth\": 2}}}, \"title\": {\"text\": \"2019 US TexMex Restaurants by State<br>(Hover for breakdown)\"}},\n",
       "                        {\"responsive\": true}\n",
       "                    ).then(function(){\n",
       "                            \n",
       "var gd = document.getElementById('53c7da83-1555-4939-b996-0fc34a0eb9a0');\n",
       "var x = new MutationObserver(function (mutations, observer) {{\n",
       "        var display = window.getComputedStyle(gd).display;\n",
       "        if (!display || display === 'none') {{\n",
       "            console.log([gd, 'removed!']);\n",
       "            Plotly.purge(gd);\n",
       "            observer.disconnect();\n",
       "        }}\n",
       "}});\n",
       "\n",
       "// Listen for the removal of the full notebook cells\n",
       "var notebookContainer = gd.closest('#notebook-container');\n",
       "if (notebookContainer) {{\n",
       "    x.observe(notebookContainer, {childList: true});\n",
       "}}\n",
       "\n",
       "// Listen for the clearing of the current output cell\n",
       "var outputEl = gd.closest('.output');\n",
       "if (outputEl) {{\n",
       "    x.observe(outputEl, {childList: true});\n",
       "}}\n",
       "\n",
       "                        })\n",
       "                };\n",
       "                });\n",
       "            </script>\n",
       "        </div>"
      ]
     },
     "metadata": {},
     "output_type": "display_data"
    }
   ],
   "source": [
    "for col in df.columns:\n",
    "    df[col] = df[col].astype(str)\n",
    "    \n",
    "#for col in df.columns:\n",
    "    #df['text'] = df['text'] + df[col]\n",
    "    \n",
    "fig = go.Figure(data=go.Choropleth(\n",
    "    locations=stateCount['code'],\n",
    "    z=stateCount['restaurants'],\n",
    "    locationmode='USA-states',\n",
    "    colorscale='Reds',\n",
    "    autocolorscale=False,\n",
    "    #text=df['text'], # hover text\n",
    "    marker_line_color='white', # line markers between states\n",
    "    colorbar_title=\"Restaurants\"\n",
    "))\n",
    "\n",
    "fig.update_layout(\n",
    "    title_text='2019 US TexMex Restaurants by State<br>(Hover for breakdown)',\n",
    "    geo = dict(\n",
    "        scope='usa',\n",
    "        projection=go.layout.geo.Projection(type = 'albers usa'),\n",
    "        showlakes=True, # lakes\n",
    "        lakecolor='rgb(255, 255, 255)'),\n",
    ")\n",
    "\n",
    "fig.show()"
   ]
  },
  {
   "cell_type": "code",
   "execution_count": null,
   "metadata": {},
   "outputs": [],
   "source": []
  }
 ],
 "metadata": {
  "kernelspec": {
   "display_name": "Python 3",
   "language": "python",
   "name": "python3"
  },
  "language_info": {
   "codemirror_mode": {
    "name": "ipython",
    "version": 3
   },
   "file_extension": ".py",
   "mimetype": "text/x-python",
   "name": "python",
   "nbconvert_exporter": "python",
   "pygments_lexer": "ipython3",
   "version": "3.6.2"
  }
 },
 "nbformat": 4,
 "nbformat_minor": 2
}
