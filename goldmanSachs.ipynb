{
 "cells": [
  {
   "cell_type": "markdown",
   "metadata": {},
   "source": [
    "<h1>Imports</h1>"
   ]
  },
  {
   "cell_type": "code",
   "execution_count": 17,
   "metadata": {},
   "outputs": [
    {
     "data": {
      "text/html": [
       "<div>\n",
       "<style scoped>\n",
       "    .dataframe tbody tr th:only-of-type {\n",
       "        vertical-align: middle;\n",
       "    }\n",
       "\n",
       "    .dataframe tbody tr th {\n",
       "        vertical-align: top;\n",
       "    }\n",
       "\n",
       "    .dataframe thead th {\n",
       "        text-align: right;\n",
       "    }\n",
       "</style>\n",
       "<table border=\"1\" class=\"dataframe\">\n",
       "  <thead>\n",
       "    <tr style=\"text-align: right;\">\n",
       "      <th></th>\n",
       "      <th>SUMLEV</th>\n",
       "      <th>REGION</th>\n",
       "      <th>DIVISION</th>\n",
       "      <th>STATE</th>\n",
       "      <th>NAME</th>\n",
       "      <th>CENSUS2010POP</th>\n",
       "      <th>ESTIMATESBASE2010</th>\n",
       "      <th>POPESTIMATE2010</th>\n",
       "      <th>POPESTIMATE2011</th>\n",
       "      <th>POPESTIMATE2012</th>\n",
       "      <th>...</th>\n",
       "      <th>RDOMESTICMIG2017</th>\n",
       "      <th>RDOMESTICMIG2018</th>\n",
       "      <th>RNETMIG2011</th>\n",
       "      <th>RNETMIG2012</th>\n",
       "      <th>RNETMIG2013</th>\n",
       "      <th>RNETMIG2014</th>\n",
       "      <th>RNETMIG2015</th>\n",
       "      <th>RNETMIG2016</th>\n",
       "      <th>RNETMIG2017</th>\n",
       "      <th>RNETMIG2018</th>\n",
       "    </tr>\n",
       "  </thead>\n",
       "  <tbody>\n",
       "    <tr>\n",
       "      <th>0</th>\n",
       "      <td>40</td>\n",
       "      <td>3</td>\n",
       "      <td>6</td>\n",
       "      <td>1</td>\n",
       "      <td>Alabama</td>\n",
       "      <td>4779736</td>\n",
       "      <td>4780138</td>\n",
       "      <td>4785448</td>\n",
       "      <td>4798834</td>\n",
       "      <td>4815564</td>\n",
       "      <td>...</td>\n",
       "      <td>0.424031</td>\n",
       "      <td>1.171362</td>\n",
       "      <td>0.516888</td>\n",
       "      <td>1.234191</td>\n",
       "      <td>1.607294</td>\n",
       "      <td>0.619874</td>\n",
       "      <td>0.646064</td>\n",
       "      <td>0.817666</td>\n",
       "      <td>1.079070</td>\n",
       "      <td>1.856398</td>\n",
       "    </tr>\n",
       "    <tr>\n",
       "      <th>1</th>\n",
       "      <td>40</td>\n",
       "      <td>4</td>\n",
       "      <td>9</td>\n",
       "      <td>2</td>\n",
       "      <td>Alaska</td>\n",
       "      <td>710231</td>\n",
       "      <td>710249</td>\n",
       "      <td>713906</td>\n",
       "      <td>722038</td>\n",
       "      <td>730399</td>\n",
       "      <td>...</td>\n",
       "      <td>-14.508975</td>\n",
       "      <td>-14.557034</td>\n",
       "      <td>0.474949</td>\n",
       "      <td>1.496795</td>\n",
       "      <td>-0.903612</td>\n",
       "      <td>-11.375421</td>\n",
       "      <td>-7.968225</td>\n",
       "      <td>-3.911968</td>\n",
       "      <td>-11.005272</td>\n",
       "      <td>-11.306342</td>\n",
       "    </tr>\n",
       "    <tr>\n",
       "      <th>2</th>\n",
       "      <td>40</td>\n",
       "      <td>4</td>\n",
       "      <td>8</td>\n",
       "      <td>4</td>\n",
       "      <td>Arizona</td>\n",
       "      <td>6392017</td>\n",
       "      <td>6392288</td>\n",
       "      <td>6407774</td>\n",
       "      <td>6473497</td>\n",
       "      <td>6556629</td>\n",
       "      <td>...</td>\n",
       "      <td>8.993644</td>\n",
       "      <td>11.707025</td>\n",
       "      <td>4.302215</td>\n",
       "      <td>7.038612</td>\n",
       "      <td>6.464858</td>\n",
       "      <td>9.347708</td>\n",
       "      <td>9.662843</td>\n",
       "      <td>12.020279</td>\n",
       "      <td>11.029897</td>\n",
       "      <td>13.723125</td>\n",
       "    </tr>\n",
       "    <tr>\n",
       "      <th>3</th>\n",
       "      <td>40</td>\n",
       "      <td>3</td>\n",
       "      <td>7</td>\n",
       "      <td>5</td>\n",
       "      <td>Arkansas</td>\n",
       "      <td>2915918</td>\n",
       "      <td>2916028</td>\n",
       "      <td>2921978</td>\n",
       "      <td>2940407</td>\n",
       "      <td>2952109</td>\n",
       "      <td>...</td>\n",
       "      <td>1.335801</td>\n",
       "      <td>0.822693</td>\n",
       "      <td>3.145819</td>\n",
       "      <td>0.916417</td>\n",
       "      <td>0.114350</td>\n",
       "      <td>-0.039479</td>\n",
       "      <td>1.093820</td>\n",
       "      <td>1.534978</td>\n",
       "      <td>2.063267</td>\n",
       "      <td>1.573921</td>\n",
       "    </tr>\n",
       "    <tr>\n",
       "      <th>4</th>\n",
       "      <td>40</td>\n",
       "      <td>4</td>\n",
       "      <td>9</td>\n",
       "      <td>6</td>\n",
       "      <td>California</td>\n",
       "      <td>37253956</td>\n",
       "      <td>37254523</td>\n",
       "      <td>37320903</td>\n",
       "      <td>37641823</td>\n",
       "      <td>37960782</td>\n",
       "      <td>...</td>\n",
       "      <td>-3.501098</td>\n",
       "      <td>-3.953271</td>\n",
       "      <td>1.376097</td>\n",
       "      <td>1.699095</td>\n",
       "      <td>1.847889</td>\n",
       "      <td>2.402701</td>\n",
       "      <td>2.159548</td>\n",
       "      <td>0.670554</td>\n",
       "      <td>-0.454811</td>\n",
       "      <td>-0.969421</td>\n",
       "    </tr>\n",
       "  </tbody>\n",
       "</table>\n",
       "<p>5 rows × 136 columns</p>\n",
       "</div>"
      ],
      "text/plain": [
       "   SUMLEV REGION DIVISION  STATE        NAME  CENSUS2010POP  \\\n",
       "0      40      3        6      1     Alabama        4779736   \n",
       "1      40      4        9      2      Alaska         710231   \n",
       "2      40      4        8      4     Arizona        6392017   \n",
       "3      40      3        7      5    Arkansas        2915918   \n",
       "4      40      4        9      6  California       37253956   \n",
       "\n",
       "   ESTIMATESBASE2010  POPESTIMATE2010  POPESTIMATE2011  POPESTIMATE2012  ...  \\\n",
       "0            4780138          4785448          4798834          4815564  ...   \n",
       "1             710249           713906           722038           730399  ...   \n",
       "2            6392288          6407774          6473497          6556629  ...   \n",
       "3            2916028          2921978          2940407          2952109  ...   \n",
       "4           37254523         37320903         37641823         37960782  ...   \n",
       "\n",
       "   RDOMESTICMIG2017  RDOMESTICMIG2018  RNETMIG2011  RNETMIG2012  RNETMIG2013  \\\n",
       "0          0.424031          1.171362     0.516888     1.234191     1.607294   \n",
       "1        -14.508975        -14.557034     0.474949     1.496795    -0.903612   \n",
       "2          8.993644         11.707025     4.302215     7.038612     6.464858   \n",
       "3          1.335801          0.822693     3.145819     0.916417     0.114350   \n",
       "4         -3.501098         -3.953271     1.376097     1.699095     1.847889   \n",
       "\n",
       "   RNETMIG2014  RNETMIG2015  RNETMIG2016  RNETMIG2017  RNETMIG2018  \n",
       "0     0.619874     0.646064     0.817666     1.079070     1.856398  \n",
       "1   -11.375421    -7.968225    -3.911968   -11.005272   -11.306342  \n",
       "2     9.347708     9.662843    12.020279    11.029897    13.723125  \n",
       "3    -0.039479     1.093820     1.534978     2.063267     1.573921  \n",
       "4     2.402701     2.159548     0.670554    -0.454811    -0.969421  \n",
       "\n",
       "[5 rows x 136 columns]"
      ]
     },
     "execution_count": 17,
     "metadata": {},
     "output_type": "execute_result"
    }
   ],
   "source": [
    "import pandas as pd\n",
    "import plotly.graph_objects as go\n",
    "import numpy as np\n",
    "import plotly.figure_factory as ff\n",
    "import pgeocode\n",
    "\n",
    "df = pd.read_csv('just tacos and burritos.csv') #  skiprows = 1\n",
    "popData = pd.read_csv('nst-est2018-alldata.csv', header = [0], skiprows = [1,2,3,4,5])\n",
    "popData.head(5)"
   ]
  },
  {
   "cell_type": "markdown",
   "metadata": {},
   "source": [
    "<h1>Code</h1>"
   ]
  },
  {
   "cell_type": "markdown",
   "metadata": {},
   "source": [
    "<h2>Functions</h2>"
   ]
  },
  {
   "cell_type": "code",
   "execution_count": 18,
   "metadata": {},
   "outputs": [],
   "source": [
    "def getF(zipcode):\n",
    "\n",
    "    ## Ensure we don't parse strings starting with 0 as octal values\n",
    "    thiszip = int(zipcode)\n",
    "    ##Code blocks alphabetized by state\n",
    "    if (thiszip >= 35000 and thiszip <= 36999):\n",
    "        return 'AL'\n",
    "     #   state = 'Alabama';\n",
    "        \n",
    "    elif (thiszip >= 99500 and thiszip <= 99999):\n",
    "        return 'AK'\n",
    "        #state = 'Alaska';\n",
    "        \n",
    "    elif (thiszip >= 85000 and thiszip <= 86999):\n",
    "        return 'AZ';\n",
    "        state = 'Arizona';\n",
    "    \n",
    "    elif (thiszip >= 71600 and thiszip <= 72999):\n",
    "        return 'AR'\n",
    "        #state = 'Arkansas';\n",
    "        \n",
    "    elif (thiszip >= 90000 and thiszip <= 96699):\n",
    "        st = 'CA';\n",
    "        #state = 'California';\n",
    "        \n",
    "    elif (thiszip >= 80000 and thiszip <= 81999):\n",
    "        st = 'CO';\n",
    "        #state = 'Colorado';\n",
    "        \n",
    "    elif (thiszip >= 6000 and thiszip <= 6999):\n",
    "        st = 'CT';\n",
    "        #state = 'Connecticut';\n",
    "        \n",
    "    elif (thiszip >= 19700 and thiszip <= 19999):\n",
    "        st = 'DE';\n",
    "        #state = 'Delaware';\n",
    "        \n",
    "    elif (thiszip >= 32000 and thiszip <= 34999):\n",
    "        st = 'FL'\n",
    "        #state = 'Florida';\n",
    "        \n",
    "    elif (thiszip >= 30000 and thiszip <= 31999):\n",
    "        st = 'GA';\n",
    "        #state = 'Georgia';\n",
    "        #}\n",
    "    elif (thiszip >= 96700 and thiszip <= 96999):\n",
    "        st = 'HI';\n",
    "        #state = 'Hawaii';\n",
    "        #}\n",
    "    elif (thiszip >= 83200 and thiszip <= 83999):\n",
    "        st = 'ID';\n",
    "        #state = 'Idaho';\n",
    "        #}\n",
    "    elif (thiszip >= 60000 and thiszip <= 62999):\n",
    "        st = 'IL';\n",
    "        #state = 'Illinois';\n",
    "        #}\n",
    "    elif (thiszip >= 46000 and thiszip <= 47999):\n",
    "        st = 'IN';\n",
    "        #state = 'Indiana';\n",
    "        #}\n",
    "    elif (thiszip >= 50000 and thiszip <= 52999):\n",
    "        st = 'IA';\n",
    "        #state = 'Iowa';\n",
    "        #}\n",
    "    elif (thiszip >= 66000 and thiszip <= 67999):# {\n",
    "        st = 'KS';\n",
    "        #state = 'Kansas';\n",
    "        #}\n",
    "    elif (thiszip >= 40000 and thiszip <= 42999):# {\n",
    "        st = 'KY';\n",
    "        #\n",
    "    elif (thiszip >= 70000 and thiszip <= 71599):# {\n",
    "        st = 'LA';\n",
    "        #state = 'Louisiana';\n",
    "        #}\n",
    "    elif (thiszip >= 3900 and thiszip <= 4999): \n",
    "        st = 'ME';\n",
    "        #state = 'Maine';\n",
    "        #}\n",
    "    elif (thiszip >= 20600 and thiszip <= 21999):# {\n",
    "        st = 'MD';\n",
    "        #state = 'Maryland';\n",
    "        #}\n",
    "    elif (thiszip >= 1000 and thiszip <= 2799):# {\n",
    "        st = 'MA';\n",
    "        #state = 'Massachusetts';\n",
    "        #}\n",
    "    elif (thiszip >= 48000 and thiszip <= 49999):# {\n",
    "        st = 'MI';\n",
    "        #state = 'Michigan';\n",
    "        #}\n",
    "    elif (thiszip >= 55000 and thiszip <= 56999):# {\n",
    "        st = 'MN';\n",
    "      #  state = 'Minnesota';\n",
    "       # }\n",
    "    elif (thiszip >= 38600 and thiszip <= 39999):# {\n",
    "        st = 'MS';\n",
    "      #  state = 'Mississippi';\n",
    "       # }\n",
    "    elif (thiszip >= 63000 and thiszip <= 65999):# {\n",
    "        st = 'MO';\n",
    "      #  state = 'Missouri';\n",
    "       # }\n",
    "    elif (thiszip >= 59000 and thiszip <= 59999):# {\n",
    "        st = 'MT';\n",
    "      #  state = 'Montana';\n",
    "       # }\n",
    "    elif (thiszip >= 27000 and thiszip <= 28999):# {\n",
    "        st = 'NC';\n",
    "      #  state = 'North Carolina';\n",
    "       # }\n",
    "    elif (thiszip >= 58000 and thiszip <= 58999):# {\n",
    "        st = 'ND';\n",
    "      #  state = 'North Dakota';\n",
    "       # }\n",
    "    elif (thiszip >= 68000 and thiszip <= 69999):# {\n",
    "        st = 'NE';\n",
    "      #  state = 'Nebraska';\n",
    "       # }\n",
    "    elif (thiszip >= 88900 and thiszip <= 89999):# {\n",
    "        st = 'NV';\n",
    "      #  state = 'Nevada';\n",
    "       # }\n",
    "    elif (thiszip >= 3000 and thiszip <= 3899):# {\n",
    "        st = 'NH';\n",
    "      #  state = 'New Hampshire';\n",
    "       # }\n",
    "    elif (thiszip >= 7000 and thiszip <= 8999):# {\n",
    "        st = 'NJ';\n",
    "      #  state = 'New Jersey';\n",
    "       # }\n",
    "    elif (thiszip >= 87000 and thiszip <= 88499):# {\n",
    "        st = 'NM';\n",
    "      #  state = 'New Mexico';\n",
    "       # }\n",
    "    elif (thiszip >= 10000 and thiszip <= 14999):# {\n",
    "        st = 'NY';\n",
    "      #  state = 'New York';\n",
    "       # }\n",
    "    elif (thiszip >= 43000 and thiszip <= 45999):# {\n",
    "        st = 'OH';\n",
    "      #  state = 'Ohio';\n",
    "       # }\n",
    "    elif (thiszip >= 73000 and thiszip <= 74999):# {\n",
    "        st = 'OK';\n",
    "      #  state = 'Oklahoma';\n",
    "       # }\n",
    "    elif (thiszip >= 97000 and thiszip <= 97999):# {\n",
    "        st = 'OR';\n",
    "      #  state = 'Oregon';\n",
    "       # }\n",
    "    elif (thiszip >= 15000 and thiszip <= 19699):\n",
    "        st = 'PA';\n",
    "      #  state = 'Pennsylvania';\n",
    "       # }\n",
    "    elif (thiszip >= 300 and thiszip <= 999):\n",
    "        st = 'PR';\n",
    "      #  state = 'Puerto Rico';\n",
    "       # }\n",
    "    elif (thiszip >= 2800 and thiszip <= 2999):\n",
    "        st = 'RI';\n",
    "      #  state = 'Rhode Island';\n",
    "       # }\n",
    "    elif (thiszip >= 29000 and thiszip <= 29999):\n",
    "        st = 'SC';\n",
    "        #state = 'South Carolina';\n",
    "        \n",
    "    elif (thiszip >= 57000 and thiszip <= 57999):\n",
    "        st = 'SD';\n",
    "        #state = 'South Dakota';\n",
    "        \n",
    "    elif (thiszip >= 37000 and thiszip <= 38599): \n",
    "        st = 'TN';\n",
    "      ## }\n",
    "    elif ( (thiszip >= 75000 and thiszip <= 79999) or (thiszip >= 88500 and thiszip <= 88599) ): \n",
    "        st = 'TX';\n",
    "      #  state = 'Texas';\n",
    "       # }\n",
    "    elif (thiszip >= 84000 and thiszip <= 84999): \n",
    "        st = 'UT';\n",
    "      #  state = 'Utah';\n",
    "       # }\n",
    "    elif (thiszip >= 5000 and thiszip <= 5999): \n",
    "        st = 'VT';\n",
    "      #  state = 'Vermont';\n",
    "       # }\n",
    "    elif (thiszip >= 22000 and thiszip <= 24699): \n",
    "        st = 'VA';\n",
    "      #  state = 'Virgina';\n",
    "       # }\n",
    "    elif (thiszip >= 20000 and thiszip <= 20599): \n",
    "        st = 'DC';\n",
    "      #  state = 'Washington DC';\n",
    "       # }\n",
    "    elif (thiszip >= 98000 and thiszip <= 99499): \n",
    "        st = 'WA';\n",
    "      #  state = 'Washington';\n",
    "       # }\n",
    "    elif (thiszip >= 24700 and thiszip <= 26999): \n",
    "        st = 'WV';\n",
    "      ## }\n",
    "    elif (thiszip >= 53000 and thiszip <= 54999): \n",
    "        st = 'WI';\n",
    "       ##}\n",
    "    elif (thiszip >= 82000 and thiszip <= 83199): \n",
    "        st = 'WY';\n",
    "       #}\n",
    "    else: #{\n",
    "        st = 'none';\n",
    "        #state = 'none';\n",
    "    #}\n",
    "\n",
    "    return st;\n",
    "#}"
   ]
  },
  {
   "cell_type": "markdown",
   "metadata": {},
   "source": [
    "<h2>Data Cleaning</h2>"
   ]
  },
  {
   "cell_type": "code",
   "execution_count": 19,
   "metadata": {},
   "outputs": [],
   "source": [
    "names = df.columns.values\n",
    "for pos in range(0, len(names)):\n",
    "    try: \n",
    "        names[pos].index('Unnamed')\n",
    "        df.drop(columns=[names[pos]], axis=1, inplace = True)\n",
    "    except:\n",
    "        pass"
   ]
  },
  {
   "cell_type": "code",
   "execution_count": 20,
   "metadata": {},
   "outputs": [],
   "source": [
    "#nomi = pgeocode.Nominatim('fr')\n",
    "#nomi.query_postal_code(\"77478\").state_code\n",
    "states = [\"AL\", \"AK\", \"AZ\", \"AR\", \"CA\", \"CO\", \"CT\", \"DC\", \"DE\", \"FL\", \"GA\", \n",
    "          \"HI\", \"ID\", \"IL\", \"IN\", \"IA\", \"KS\", \"KY\", \"LA\", \"ME\", \"MD\", \n",
    "          \"MA\", \"MI\", \"MN\", \"MS\", \"MO\", \"MT\", \"NE\", \"NV\", \"NH\", \"NJ\", \n",
    "          \"NM\", \"NY\", \"NC\", \"ND\", \"OH\", \"OK\", \"OR\", \"PA\", \"RI\", \"SC\", \n",
    "          \"SD\", \"TN\", \"TX\", \"UT\", \"VT\", \"VA\", \"WA\", \"WV\", \"WI\", \"WY\"]\n",
    "\n",
    "#stateCount = pd.DataFrame(columns=['code','restaurants']) # Originally used to create DataFrame, now existing dataframe used for additional data\n",
    "stateCount = pd.read_csv(\"statesStats.csv\")\n",
    "stateCount.code = states\n",
    "stateCount['restaurants'] = 0\n",
    "stateCount['PPerR'] = 0\n",
    "stateCount['population'] = popData.POPESTIMATE2018"
   ]
  },
  {
   "cell_type": "code",
   "execution_count": 21,
   "metadata": {
    "scrolled": true
   },
   "outputs": [],
   "source": [
    "# Renames provinces to 2-letter abbreviation\n",
    "for count, state in enumerate(df.province):\n",
    "    try:\n",
    "        if(len(str(state)) > 2):\n",
    "            #print(\"state: \", state)\n",
    "            df.province[count] = getF(df.postalCode[int(str(count)[:5])])\n",
    "            #print(\"REPLACERINO\")\n",
    "    except:\n",
    "        pass\n",
    "# Counts individdual restaurants per state\n",
    "for count, state in enumerate(df.province):\n",
    "    try:\n",
    "        if(df.id[count] != df.id[count-1]):\n",
    "            for i in range(0,51):\n",
    "                if(stateCount.iloc[i][0] == state):\n",
    "                    stateCount['restaurants'][i] += 1\n",
    "    except:\n",
    "        pass"
   ]
  },
  {
   "cell_type": "code",
   "execution_count": 40,
   "metadata": {},
   "outputs": [
    {
     "data": {
      "text/html": [
       "<div>\n",
       "<style scoped>\n",
       "    .dataframe tbody tr th:only-of-type {\n",
       "        vertical-align: middle;\n",
       "    }\n",
       "\n",
       "    .dataframe tbody tr th {\n",
       "        vertical-align: top;\n",
       "    }\n",
       "\n",
       "    .dataframe thead th {\n",
       "        text-align: right;\n",
       "    }\n",
       "</style>\n",
       "<table border=\"1\" class=\"dataframe\">\n",
       "  <thead>\n",
       "    <tr style=\"text-align: right;\">\n",
       "      <th></th>\n",
       "      <th>code</th>\n",
       "      <th>restaurants</th>\n",
       "      <th>PPerR</th>\n",
       "      <th>population</th>\n",
       "      <th>totalRestaurants</th>\n",
       "      <th>totalEarnings</th>\n",
       "    </tr>\n",
       "  </thead>\n",
       "  <tbody>\n",
       "    <tr>\n",
       "      <th>0</th>\n",
       "      <td>AL</td>\n",
       "      <td>160</td>\n",
       "      <td>30549</td>\n",
       "      <td>4887871</td>\n",
       "      <td>8620</td>\n",
       "      <td>9.0</td>\n",
       "    </tr>\n",
       "    <tr>\n",
       "      <th>1</th>\n",
       "      <td>AK</td>\n",
       "      <td>7</td>\n",
       "      <td>105348</td>\n",
       "      <td>737438</td>\n",
       "      <td>485</td>\n",
       "      <td>1.8</td>\n",
       "    </tr>\n",
       "    <tr>\n",
       "      <th>2</th>\n",
       "      <td>AZ</td>\n",
       "      <td>614</td>\n",
       "      <td>11680</td>\n",
       "      <td>7171646</td>\n",
       "      <td>10281</td>\n",
       "      <td>14.7</td>\n",
       "    </tr>\n",
       "    <tr>\n",
       "      <th>3</th>\n",
       "      <td>AR</td>\n",
       "      <td>140</td>\n",
       "      <td>21527</td>\n",
       "      <td>3013825</td>\n",
       "      <td>5288</td>\n",
       "      <td>4.9</td>\n",
       "    </tr>\n",
       "    <tr>\n",
       "      <th>4</th>\n",
       "      <td>CA</td>\n",
       "      <td>4964</td>\n",
       "      <td>7968</td>\n",
       "      <td>39557045</td>\n",
       "      <td>76201</td>\n",
       "      <td>97.0</td>\n",
       "    </tr>\n",
       "  </tbody>\n",
       "</table>\n",
       "</div>"
      ],
      "text/plain": [
       "  code  restaurants   PPerR  population  totalRestaurants  totalEarnings\n",
       "0   AL          160   30549     4887871              8620            9.0\n",
       "1   AK            7  105348      737438               485            1.8\n",
       "2   AZ          614   11680     7171646             10281           14.7\n",
       "3   AR          140   21527     3013825              5288            4.9\n",
       "4   CA         4964    7968    39557045             76201           97.0"
      ]
     },
     "execution_count": 40,
     "metadata": {},
     "output_type": "execute_result"
    }
   ],
   "source": [
    "for i in range(0, len(stateCount)):\n",
    "    stateCount['PPerR'][i] = stateCount['population'][i]/stateCount['restaurants'][i]\n",
    "stateCount.to_csv(\"statesStats.csv\", index = False)\n",
    "stateCount.head(5)"
   ]
  },
  {
   "cell_type": "code",
   "execution_count": 87,
   "metadata": {},
   "outputs": [],
   "source": [
    "#df['menus.amountMin'].min()\n",
    "# for pos, code in enumerate(stateCount.code.values):\n",
    "#     tempdf = df\n",
    "#     for count, dfCode in enumerate(df.province.values):\n",
    "#         if dfCode != code:\n",
    "#             tempdf.drop(count, inplace = True)\n",
    "#             tempdf.reset_index(inplace = True, drop = True)\n",
    "#     stateCount['stateMin'][i] = tempdf['menus.amountMin'].astype('float32').dropna().mean()\n",
    "#     stateCount['stateMax'][i] = tempdf['menus.amountMax'].astype('float32').dropna().mean()"
   ]
  },
  {
   "cell_type": "code",
   "execution_count": 86,
   "metadata": {},
   "outputs": [
    {
     "data": {
      "text/html": [
       "<div>\n",
       "<style scoped>\n",
       "    .dataframe tbody tr th:only-of-type {\n",
       "        vertical-align: middle;\n",
       "    }\n",
       "\n",
       "    .dataframe tbody tr th {\n",
       "        vertical-align: top;\n",
       "    }\n",
       "\n",
       "    .dataframe thead th {\n",
       "        text-align: right;\n",
       "    }\n",
       "</style>\n",
       "<table border=\"1\" class=\"dataframe\">\n",
       "  <thead>\n",
       "    <tr style=\"text-align: right;\">\n",
       "      <th></th>\n",
       "      <th>code</th>\n",
       "      <th>restaurants</th>\n",
       "      <th>PPerR</th>\n",
       "      <th>population</th>\n",
       "      <th>totalRestaurants</th>\n",
       "      <th>totalEarnings</th>\n",
       "      <th>text</th>\n",
       "    </tr>\n",
       "  </thead>\n",
       "  <tbody>\n",
       "    <tr>\n",
       "      <th>0</th>\n",
       "      <td>AL</td>\n",
       "      <td>160</td>\n",
       "      <td>30549</td>\n",
       "      <td>4887871</td>\n",
       "      <td>8620</td>\n",
       "      <td>9.0</td>\n",
       "      <td>State: AL&lt;br&gt;Population: 4887871&lt;br&gt;Total Rest...</td>\n",
       "    </tr>\n",
       "    <tr>\n",
       "      <th>1</th>\n",
       "      <td>AK</td>\n",
       "      <td>7</td>\n",
       "      <td>105348</td>\n",
       "      <td>737438</td>\n",
       "      <td>485</td>\n",
       "      <td>1.8</td>\n",
       "      <td>State: AK&lt;br&gt;Population: 737438&lt;br&gt;Total Resta...</td>\n",
       "    </tr>\n",
       "    <tr>\n",
       "      <th>2</th>\n",
       "      <td>AZ</td>\n",
       "      <td>614</td>\n",
       "      <td>11680</td>\n",
       "      <td>7171646</td>\n",
       "      <td>10281</td>\n",
       "      <td>14.7</td>\n",
       "      <td>State: AZ&lt;br&gt;Population: 7171646&lt;br&gt;Total Rest...</td>\n",
       "    </tr>\n",
       "    <tr>\n",
       "      <th>3</th>\n",
       "      <td>AR</td>\n",
       "      <td>140</td>\n",
       "      <td>21527</td>\n",
       "      <td>3013825</td>\n",
       "      <td>5288</td>\n",
       "      <td>4.9</td>\n",
       "      <td>State: AR&lt;br&gt;Population: 3013825&lt;br&gt;Total Rest...</td>\n",
       "    </tr>\n",
       "    <tr>\n",
       "      <th>4</th>\n",
       "      <td>CA</td>\n",
       "      <td>4964</td>\n",
       "      <td>7968</td>\n",
       "      <td>39557045</td>\n",
       "      <td>76201</td>\n",
       "      <td>97.0</td>\n",
       "      <td>State: CA&lt;br&gt;Population: 39557045&lt;br&gt;Total Res...</td>\n",
       "    </tr>\n",
       "    <tr>\n",
       "      <th>5</th>\n",
       "      <td>CO</td>\n",
       "      <td>479</td>\n",
       "      <td>11890</td>\n",
       "      <td>5695564</td>\n",
       "      <td>12031</td>\n",
       "      <td>13.9</td>\n",
       "      <td>State: CO&lt;br&gt;Population: 5695564&lt;br&gt;Total Rest...</td>\n",
       "    </tr>\n",
       "    <tr>\n",
       "      <th>6</th>\n",
       "      <td>CT</td>\n",
       "      <td>176</td>\n",
       "      <td>20299</td>\n",
       "      <td>3572665</td>\n",
       "      <td>8297</td>\n",
       "      <td>8.2</td>\n",
       "      <td>State: CT&lt;br&gt;Population: 3572665&lt;br&gt;Total Rest...</td>\n",
       "    </tr>\n",
       "    <tr>\n",
       "      <th>7</th>\n",
       "      <td>DC</td>\n",
       "      <td>101</td>\n",
       "      <td>9575</td>\n",
       "      <td>967171</td>\n",
       "      <td>2457</td>\n",
       "      <td>4.4</td>\n",
       "      <td>State: DC&lt;br&gt;Population: 967171&lt;br&gt;Total Resta...</td>\n",
       "    </tr>\n",
       "    <tr>\n",
       "      <th>8</th>\n",
       "      <td>DE</td>\n",
       "      <td>41</td>\n",
       "      <td>17133</td>\n",
       "      <td>702455</td>\n",
       "      <td>1983</td>\n",
       "      <td>2.2</td>\n",
       "      <td>State: DE&lt;br&gt;Population: 702455&lt;br&gt;Total Resta...</td>\n",
       "    </tr>\n",
       "    <tr>\n",
       "      <th>9</th>\n",
       "      <td>FL</td>\n",
       "      <td>901</td>\n",
       "      <td>23639</td>\n",
       "      <td>21299325</td>\n",
       "      <td>41366</td>\n",
       "      <td>50.1</td>\n",
       "      <td>State: FL&lt;br&gt;Population: 21299325&lt;br&gt;Total Res...</td>\n",
       "    </tr>\n",
       "    <tr>\n",
       "      <th>10</th>\n",
       "      <td>GA</td>\n",
       "      <td>439</td>\n",
       "      <td>23962</td>\n",
       "      <td>10519475</td>\n",
       "      <td>18403</td>\n",
       "      <td>22.9</td>\n",
       "      <td>State: GA&lt;br&gt;Population: 10519475&lt;br&gt;Total Res...</td>\n",
       "    </tr>\n",
       "    <tr>\n",
       "      <th>11</th>\n",
       "      <td>HI</td>\n",
       "      <td>79</td>\n",
       "      <td>17980</td>\n",
       "      <td>1420491</td>\n",
       "      <td>3665</td>\n",
       "      <td>5.6</td>\n",
       "      <td>State: HI&lt;br&gt;Population: 1420491&lt;br&gt;Total Rest...</td>\n",
       "    </tr>\n",
       "    <tr>\n",
       "      <th>12</th>\n",
       "      <td>ID</td>\n",
       "      <td>102</td>\n",
       "      <td>17198</td>\n",
       "      <td>1754208</td>\n",
       "      <td>3385</td>\n",
       "      <td>2.9</td>\n",
       "      <td>State: ID&lt;br&gt;Population: 1754208&lt;br&gt;Total Rest...</td>\n",
       "    </tr>\n",
       "    <tr>\n",
       "      <th>13</th>\n",
       "      <td>IL</td>\n",
       "      <td>851</td>\n",
       "      <td>14971</td>\n",
       "      <td>12741080</td>\n",
       "      <td>25488</td>\n",
       "      <td>30.1</td>\n",
       "      <td>State: IL&lt;br&gt;Population: 12741080&lt;br&gt;Total Res...</td>\n",
       "    </tr>\n",
       "    <tr>\n",
       "      <th>14</th>\n",
       "      <td>IN</td>\n",
       "      <td>310</td>\n",
       "      <td>21586</td>\n",
       "      <td>6691878</td>\n",
       "      <td>12196</td>\n",
       "      <td>12.8</td>\n",
       "      <td>State: IN&lt;br&gt;Population: 6691878&lt;br&gt;Total Rest...</td>\n",
       "    </tr>\n",
       "    <tr>\n",
       "      <th>15</th>\n",
       "      <td>IA</td>\n",
       "      <td>179</td>\n",
       "      <td>17632</td>\n",
       "      <td>3156145</td>\n",
       "      <td>6285</td>\n",
       "      <td>4.7</td>\n",
       "      <td>State: IA&lt;br&gt;Population: 3156145&lt;br&gt;Total Rest...</td>\n",
       "    </tr>\n",
       "    <tr>\n",
       "      <th>16</th>\n",
       "      <td>KS</td>\n",
       "      <td>162</td>\n",
       "      <td>17972</td>\n",
       "      <td>2911505</td>\n",
       "      <td>5328</td>\n",
       "      <td>5.2</td>\n",
       "      <td>State: KS&lt;br&gt;Population: 2911505&lt;br&gt;Total Rest...</td>\n",
       "    </tr>\n",
       "    <tr>\n",
       "      <th>17</th>\n",
       "      <td>KY</td>\n",
       "      <td>151</td>\n",
       "      <td>29592</td>\n",
       "      <td>4468402</td>\n",
       "      <td>7654</td>\n",
       "      <td>8.5</td>\n",
       "      <td>State: KY&lt;br&gt;Population: 4468402&lt;br&gt;Total Rest...</td>\n",
       "    </tr>\n",
       "    <tr>\n",
       "      <th>18</th>\n",
       "      <td>LA</td>\n",
       "      <td>178</td>\n",
       "      <td>26179</td>\n",
       "      <td>4659978</td>\n",
       "      <td>9533</td>\n",
       "      <td>10.3</td>\n",
       "      <td>State: LA&lt;br&gt;Population: 4659978&lt;br&gt;Total Rest...</td>\n",
       "    </tr>\n",
       "    <tr>\n",
       "      <th>19</th>\n",
       "      <td>ME</td>\n",
       "      <td>60</td>\n",
       "      <td>22306</td>\n",
       "      <td>1338404</td>\n",
       "      <td>3227</td>\n",
       "      <td>2.5</td>\n",
       "      <td>State: ME&lt;br&gt;Population: 1338404&lt;br&gt;Total Rest...</td>\n",
       "    </tr>\n",
       "    <tr>\n",
       "      <th>20</th>\n",
       "      <td>MD</td>\n",
       "      <td>273</td>\n",
       "      <td>22134</td>\n",
       "      <td>6042718</td>\n",
       "      <td>11357</td>\n",
       "      <td>13.3</td>\n",
       "      <td>State: MD&lt;br&gt;Population: 6042718&lt;br&gt;Total Rest...</td>\n",
       "    </tr>\n",
       "    <tr>\n",
       "      <th>21</th>\n",
       "      <td>MA</td>\n",
       "      <td>432</td>\n",
       "      <td>15977</td>\n",
       "      <td>6902149</td>\n",
       "      <td>15797</td>\n",
       "      <td>18.0</td>\n",
       "      <td>State: MA&lt;br&gt;Population: 6902149&lt;br&gt;Total Rest...</td>\n",
       "    </tr>\n",
       "    <tr>\n",
       "      <th>22</th>\n",
       "      <td>MI</td>\n",
       "      <td>470</td>\n",
       "      <td>21267</td>\n",
       "      <td>9995915</td>\n",
       "      <td>16543</td>\n",
       "      <td>17.9</td>\n",
       "      <td>State: MI&lt;br&gt;Population: 9995915&lt;br&gt;Total Rest...</td>\n",
       "    </tr>\n",
       "    <tr>\n",
       "      <th>23</th>\n",
       "      <td>MN</td>\n",
       "      <td>262</td>\n",
       "      <td>21416</td>\n",
       "      <td>5611179</td>\n",
       "      <td>10681</td>\n",
       "      <td>10.7</td>\n",
       "      <td>State: MN&lt;br&gt;Population: 5611179&lt;br&gt;Total Rest...</td>\n",
       "    </tr>\n",
       "    <tr>\n",
       "      <th>24</th>\n",
       "      <td>MS</td>\n",
       "      <td>76</td>\n",
       "      <td>39296</td>\n",
       "      <td>2986530</td>\n",
       "      <td>4881</td>\n",
       "      <td>5.1</td>\n",
       "      <td>State: MS&lt;br&gt;Population: 2986530&lt;br&gt;Total Rest...</td>\n",
       "    </tr>\n",
       "    <tr>\n",
       "      <th>25</th>\n",
       "      <td>MO</td>\n",
       "      <td>305</td>\n",
       "      <td>20086</td>\n",
       "      <td>6126452</td>\n",
       "      <td>11200</td>\n",
       "      <td>11.7</td>\n",
       "      <td>State: MO&lt;br&gt;Population: 6126452&lt;br&gt;Total Rest...</td>\n",
       "    </tr>\n",
       "    <tr>\n",
       "      <th>26</th>\n",
       "      <td>MT</td>\n",
       "      <td>55</td>\n",
       "      <td>19314</td>\n",
       "      <td>1062305</td>\n",
       "      <td>2831</td>\n",
       "      <td>2.3</td>\n",
       "      <td>State: MT&lt;br&gt;Population: 1062305&lt;br&gt;Total Rest...</td>\n",
       "    </tr>\n",
       "    <tr>\n",
       "      <th>27</th>\n",
       "      <td>NE</td>\n",
       "      <td>92</td>\n",
       "      <td>20970</td>\n",
       "      <td>1929268</td>\n",
       "      <td>4113</td>\n",
       "      <td>3.3</td>\n",
       "      <td>State: NE&lt;br&gt;Population: 1929268&lt;br&gt;Total Rest...</td>\n",
       "    </tr>\n",
       "    <tr>\n",
       "      <th>28</th>\n",
       "      <td>NV</td>\n",
       "      <td>302</td>\n",
       "      <td>10047</td>\n",
       "      <td>3034392</td>\n",
       "      <td>5980</td>\n",
       "      <td>9.9</td>\n",
       "      <td>State: NV&lt;br&gt;Population: 3034392&lt;br&gt;Total Rest...</td>\n",
       "    </tr>\n",
       "    <tr>\n",
       "      <th>29</th>\n",
       "      <td>NH</td>\n",
       "      <td>90</td>\n",
       "      <td>15071</td>\n",
       "      <td>1356458</td>\n",
       "      <td>3178</td>\n",
       "      <td>3.0</td>\n",
       "      <td>State: NH&lt;br&gt;Population: 1356458&lt;br&gt;Total Rest...</td>\n",
       "    </tr>\n",
       "    <tr>\n",
       "      <th>30</th>\n",
       "      <td>NJ</td>\n",
       "      <td>359</td>\n",
       "      <td>24814</td>\n",
       "      <td>8908520</td>\n",
       "      <td>19050</td>\n",
       "      <td>18.1</td>\n",
       "      <td>State: NJ&lt;br&gt;Population: 8908520&lt;br&gt;Total Rest...</td>\n",
       "    </tr>\n",
       "    <tr>\n",
       "      <th>31</th>\n",
       "      <td>NM</td>\n",
       "      <td>194</td>\n",
       "      <td>10801</td>\n",
       "      <td>2095428</td>\n",
       "      <td>3468</td>\n",
       "      <td>4.0</td>\n",
       "      <td>State: NM&lt;br&gt;Population: 2095428&lt;br&gt;Total Rest...</td>\n",
       "    </tr>\n",
       "    <tr>\n",
       "      <th>32</th>\n",
       "      <td>NY</td>\n",
       "      <td>862</td>\n",
       "      <td>22670</td>\n",
       "      <td>19542209</td>\n",
       "      <td>50153</td>\n",
       "      <td>51.6</td>\n",
       "      <td>State: NY&lt;br&gt;Population: 19542209&lt;br&gt;Total Res...</td>\n",
       "    </tr>\n",
       "    <tr>\n",
       "      <th>33</th>\n",
       "      <td>NC</td>\n",
       "      <td>432</td>\n",
       "      <td>24036</td>\n",
       "      <td>10383620</td>\n",
       "      <td>19504</td>\n",
       "      <td>21.4</td>\n",
       "      <td>State: NC&lt;br&gt;Population: 10383620&lt;br&gt;Total Res...</td>\n",
       "    </tr>\n",
       "    <tr>\n",
       "      <th>34</th>\n",
       "      <td>ND</td>\n",
       "      <td>17</td>\n",
       "      <td>44710</td>\n",
       "      <td>760077</td>\n",
       "      <td>1736</td>\n",
       "      <td>1.4</td>\n",
       "      <td>State: ND&lt;br&gt;Population: 760077&lt;br&gt;Total Resta...</td>\n",
       "    </tr>\n",
       "    <tr>\n",
       "      <th>35</th>\n",
       "      <td>OH</td>\n",
       "      <td>409</td>\n",
       "      <td>28580</td>\n",
       "      <td>11689442</td>\n",
       "      <td>22547</td>\n",
       "      <td>24.2</td>\n",
       "      <td>State: OH&lt;br&gt;Population: 11689442&lt;br&gt;Total Res...</td>\n",
       "    </tr>\n",
       "    <tr>\n",
       "      <th>36</th>\n",
       "      <td>OK</td>\n",
       "      <td>211</td>\n",
       "      <td>18687</td>\n",
       "      <td>3943079</td>\n",
       "      <td>7067</td>\n",
       "      <td>7.6</td>\n",
       "      <td>State: OK&lt;br&gt;Population: 3943079&lt;br&gt;Total Rest...</td>\n",
       "    </tr>\n",
       "    <tr>\n",
       "      <th>37</th>\n",
       "      <td>OR</td>\n",
       "      <td>355</td>\n",
       "      <td>11804</td>\n",
       "      <td>4190713</td>\n",
       "      <td>10456</td>\n",
       "      <td>9.7</td>\n",
       "      <td>State: OR&lt;br&gt;Population: 4190713&lt;br&gt;Total Rest...</td>\n",
       "    </tr>\n",
       "    <tr>\n",
       "      <th>38</th>\n",
       "      <td>PA</td>\n",
       "      <td>453</td>\n",
       "      <td>28271</td>\n",
       "      <td>12807060</td>\n",
       "      <td>26548</td>\n",
       "      <td>24.0</td>\n",
       "      <td>State: PA&lt;br&gt;Population: 12807060&lt;br&gt;Total Res...</td>\n",
       "    </tr>\n",
       "    <tr>\n",
       "      <th>39</th>\n",
       "      <td>RI</td>\n",
       "      <td>62</td>\n",
       "      <td>17053</td>\n",
       "      <td>1057315</td>\n",
       "      <td>2927</td>\n",
       "      <td>2.7</td>\n",
       "      <td>State: RI&lt;br&gt;Population: 1057315&lt;br&gt;Total Rest...</td>\n",
       "    </tr>\n",
       "    <tr>\n",
       "      <th>40</th>\n",
       "      <td>SC</td>\n",
       "      <td>199</td>\n",
       "      <td>25548</td>\n",
       "      <td>5084127</td>\n",
       "      <td>9669</td>\n",
       "      <td>10.7</td>\n",
       "      <td>State: SC&lt;br&gt;Population: 5084127&lt;br&gt;Total Rest...</td>\n",
       "    </tr>\n",
       "    <tr>\n",
       "      <th>41</th>\n",
       "      <td>SD</td>\n",
       "      <td>29</td>\n",
       "      <td>30421</td>\n",
       "      <td>882235</td>\n",
       "      <td>1878</td>\n",
       "      <td>1.5</td>\n",
       "      <td>State: SD&lt;br&gt;Population: 882235&lt;br&gt;Total Resta...</td>\n",
       "    </tr>\n",
       "    <tr>\n",
       "      <th>42</th>\n",
       "      <td>TN</td>\n",
       "      <td>289</td>\n",
       "      <td>23425</td>\n",
       "      <td>6770010</td>\n",
       "      <td>11693</td>\n",
       "      <td>14.2</td>\n",
       "      <td>State: TN&lt;br&gt;Population: 6770010&lt;br&gt;Total Rest...</td>\n",
       "    </tr>\n",
       "    <tr>\n",
       "      <th>43</th>\n",
       "      <td>TX</td>\n",
       "      <td>1723</td>\n",
       "      <td>16658</td>\n",
       "      <td>28701845</td>\n",
       "      <td>48064</td>\n",
       "      <td>66.0</td>\n",
       "      <td>State: TX&lt;br&gt;Population: 28701845&lt;br&gt;Total Res...</td>\n",
       "    </tr>\n",
       "    <tr>\n",
       "      <th>44</th>\n",
       "      <td>UT</td>\n",
       "      <td>146</td>\n",
       "      <td>21651</td>\n",
       "      <td>3161105</td>\n",
       "      <td>5264</td>\n",
       "      <td>5.5</td>\n",
       "      <td>State: UT&lt;br&gt;Population: 3161105&lt;br&gt;Total Rest...</td>\n",
       "    </tr>\n",
       "    <tr>\n",
       "      <th>45</th>\n",
       "      <td>VT</td>\n",
       "      <td>17</td>\n",
       "      <td>36841</td>\n",
       "      <td>626299</td>\n",
       "      <td>1413</td>\n",
       "      <td>1.1</td>\n",
       "      <td>State: VT&lt;br&gt;Population: 626299&lt;br&gt;Total Resta...</td>\n",
       "    </tr>\n",
       "    <tr>\n",
       "      <th>46</th>\n",
       "      <td>VA</td>\n",
       "      <td>380</td>\n",
       "      <td>22414</td>\n",
       "      <td>8517685</td>\n",
       "      <td>15507</td>\n",
       "      <td>18.1</td>\n",
       "      <td>State: VA&lt;br&gt;Population: 8517685&lt;br&gt;Total Rest...</td>\n",
       "    </tr>\n",
       "    <tr>\n",
       "      <th>47</th>\n",
       "      <td>WA</td>\n",
       "      <td>423</td>\n",
       "      <td>17814</td>\n",
       "      <td>7535591</td>\n",
       "      <td>15690</td>\n",
       "      <td>13.5</td>\n",
       "      <td>State: WA&lt;br&gt;Population: 7535591&lt;br&gt;Total Rest...</td>\n",
       "    </tr>\n",
       "    <tr>\n",
       "      <th>48</th>\n",
       "      <td>WV</td>\n",
       "      <td>50</td>\n",
       "      <td>36116</td>\n",
       "      <td>1805832</td>\n",
       "      <td>3291</td>\n",
       "      <td>2.8</td>\n",
       "      <td>State: WV&lt;br&gt;Population: 1805832&lt;br&gt;Total Rest...</td>\n",
       "    </tr>\n",
       "    <tr>\n",
       "      <th>49</th>\n",
       "      <td>WI</td>\n",
       "      <td>263</td>\n",
       "      <td>22104</td>\n",
       "      <td>5813568</td>\n",
       "      <td>12796</td>\n",
       "      <td>10.1</td>\n",
       "      <td>State: WI&lt;br&gt;Population: 5813568&lt;br&gt;Total Rest...</td>\n",
       "    </tr>\n",
       "    <tr>\n",
       "      <th>50</th>\n",
       "      <td>WY</td>\n",
       "      <td>41</td>\n",
       "      <td>14091</td>\n",
       "      <td>577737</td>\n",
       "      <td>1338</td>\n",
       "      <td>1.1</td>\n",
       "      <td>State: WY&lt;br&gt;Population: 577737&lt;br&gt;Total Resta...</td>\n",
       "    </tr>\n",
       "  </tbody>\n",
       "</table>\n",
       "</div>"
      ],
      "text/plain": [
       "   code  restaurants   PPerR population  totalRestaurants totalEarnings  \\\n",
       "0    AL          160   30549    4887871              8620           9.0   \n",
       "1    AK            7  105348     737438               485           1.8   \n",
       "2    AZ          614   11680    7171646             10281          14.7   \n",
       "3    AR          140   21527    3013825              5288           4.9   \n",
       "4    CA         4964    7968   39557045             76201          97.0   \n",
       "5    CO          479   11890    5695564             12031          13.9   \n",
       "6    CT          176   20299    3572665              8297           8.2   \n",
       "7    DC          101    9575     967171              2457           4.4   \n",
       "8    DE           41   17133     702455              1983           2.2   \n",
       "9    FL          901   23639   21299325             41366          50.1   \n",
       "10   GA          439   23962   10519475             18403          22.9   \n",
       "11   HI           79   17980    1420491              3665           5.6   \n",
       "12   ID          102   17198    1754208              3385           2.9   \n",
       "13   IL          851   14971   12741080             25488          30.1   \n",
       "14   IN          310   21586    6691878             12196          12.8   \n",
       "15   IA          179   17632    3156145              6285           4.7   \n",
       "16   KS          162   17972    2911505              5328           5.2   \n",
       "17   KY          151   29592    4468402              7654           8.5   \n",
       "18   LA          178   26179    4659978              9533          10.3   \n",
       "19   ME           60   22306    1338404              3227           2.5   \n",
       "20   MD          273   22134    6042718             11357          13.3   \n",
       "21   MA          432   15977    6902149             15797          18.0   \n",
       "22   MI          470   21267    9995915             16543          17.9   \n",
       "23   MN          262   21416    5611179             10681          10.7   \n",
       "24   MS           76   39296    2986530              4881           5.1   \n",
       "25   MO          305   20086    6126452             11200          11.7   \n",
       "26   MT           55   19314    1062305              2831           2.3   \n",
       "27   NE           92   20970    1929268              4113           3.3   \n",
       "28   NV          302   10047    3034392              5980           9.9   \n",
       "29   NH           90   15071    1356458              3178           3.0   \n",
       "30   NJ          359   24814    8908520             19050          18.1   \n",
       "31   NM          194   10801    2095428              3468           4.0   \n",
       "32   NY          862   22670   19542209             50153          51.6   \n",
       "33   NC          432   24036   10383620             19504          21.4   \n",
       "34   ND           17   44710     760077              1736           1.4   \n",
       "35   OH          409   28580   11689442             22547          24.2   \n",
       "36   OK          211   18687    3943079              7067           7.6   \n",
       "37   OR          355   11804    4190713             10456           9.7   \n",
       "38   PA          453   28271   12807060             26548          24.0   \n",
       "39   RI           62   17053    1057315              2927           2.7   \n",
       "40   SC          199   25548    5084127              9669          10.7   \n",
       "41   SD           29   30421     882235              1878           1.5   \n",
       "42   TN          289   23425    6770010             11693          14.2   \n",
       "43   TX         1723   16658   28701845             48064          66.0   \n",
       "44   UT          146   21651    3161105              5264           5.5   \n",
       "45   VT           17   36841     626299              1413           1.1   \n",
       "46   VA          380   22414    8517685             15507          18.1   \n",
       "47   WA          423   17814    7535591             15690          13.5   \n",
       "48   WV           50   36116    1805832              3291           2.8   \n",
       "49   WI          263   22104    5813568             12796          10.1   \n",
       "50   WY           41   14091     577737              1338           1.1   \n",
       "\n",
       "                                                 text  \n",
       "0   State: AL<br>Population: 4887871<br>Total Rest...  \n",
       "1   State: AK<br>Population: 737438<br>Total Resta...  \n",
       "2   State: AZ<br>Population: 7171646<br>Total Rest...  \n",
       "3   State: AR<br>Population: 3013825<br>Total Rest...  \n",
       "4   State: CA<br>Population: 39557045<br>Total Res...  \n",
       "5   State: CO<br>Population: 5695564<br>Total Rest...  \n",
       "6   State: CT<br>Population: 3572665<br>Total Rest...  \n",
       "7   State: DC<br>Population: 967171<br>Total Resta...  \n",
       "8   State: DE<br>Population: 702455<br>Total Resta...  \n",
       "9   State: FL<br>Population: 21299325<br>Total Res...  \n",
       "10  State: GA<br>Population: 10519475<br>Total Res...  \n",
       "11  State: HI<br>Population: 1420491<br>Total Rest...  \n",
       "12  State: ID<br>Population: 1754208<br>Total Rest...  \n",
       "13  State: IL<br>Population: 12741080<br>Total Res...  \n",
       "14  State: IN<br>Population: 6691878<br>Total Rest...  \n",
       "15  State: IA<br>Population: 3156145<br>Total Rest...  \n",
       "16  State: KS<br>Population: 2911505<br>Total Rest...  \n",
       "17  State: KY<br>Population: 4468402<br>Total Rest...  \n",
       "18  State: LA<br>Population: 4659978<br>Total Rest...  \n",
       "19  State: ME<br>Population: 1338404<br>Total Rest...  \n",
       "20  State: MD<br>Population: 6042718<br>Total Rest...  \n",
       "21  State: MA<br>Population: 6902149<br>Total Rest...  \n",
       "22  State: MI<br>Population: 9995915<br>Total Rest...  \n",
       "23  State: MN<br>Population: 5611179<br>Total Rest...  \n",
       "24  State: MS<br>Population: 2986530<br>Total Rest...  \n",
       "25  State: MO<br>Population: 6126452<br>Total Rest...  \n",
       "26  State: MT<br>Population: 1062305<br>Total Rest...  \n",
       "27  State: NE<br>Population: 1929268<br>Total Rest...  \n",
       "28  State: NV<br>Population: 3034392<br>Total Rest...  \n",
       "29  State: NH<br>Population: 1356458<br>Total Rest...  \n",
       "30  State: NJ<br>Population: 8908520<br>Total Rest...  \n",
       "31  State: NM<br>Population: 2095428<br>Total Rest...  \n",
       "32  State: NY<br>Population: 19542209<br>Total Res...  \n",
       "33  State: NC<br>Population: 10383620<br>Total Res...  \n",
       "34  State: ND<br>Population: 760077<br>Total Resta...  \n",
       "35  State: OH<br>Population: 11689442<br>Total Res...  \n",
       "36  State: OK<br>Population: 3943079<br>Total Rest...  \n",
       "37  State: OR<br>Population: 4190713<br>Total Rest...  \n",
       "38  State: PA<br>Population: 12807060<br>Total Res...  \n",
       "39  State: RI<br>Population: 1057315<br>Total Rest...  \n",
       "40  State: SC<br>Population: 5084127<br>Total Rest...  \n",
       "41  State: SD<br>Population: 882235<br>Total Resta...  \n",
       "42  State: TN<br>Population: 6770010<br>Total Rest...  \n",
       "43  State: TX<br>Population: 28701845<br>Total Res...  \n",
       "44  State: UT<br>Population: 3161105<br>Total Rest...  \n",
       "45  State: VT<br>Population: 626299<br>Total Resta...  \n",
       "46  State: VA<br>Population: 8517685<br>Total Rest...  \n",
       "47  State: WA<br>Population: 7535591<br>Total Rest...  \n",
       "48  State: WV<br>Population: 1805832<br>Total Rest...  \n",
       "49  State: WI<br>Population: 5813568<br>Total Rest...  \n",
       "50  State: WY<br>Population: 577737<br>Total Resta...  "
      ]
     },
     "execution_count": 86,
     "metadata": {},
     "output_type": "execute_result"
    }
   ],
   "source": [
    "stateCount"
   ]
  },
  {
   "cell_type": "code",
   "execution_count": 49,
   "metadata": {
    "scrolled": false
   },
   "outputs": [
    {
     "data": {
      "application/vnd.plotly.v1+json": {
       "config": {
        "plotlyServerURL": "https://plot.ly"
       },
       "data": [
        {
         "autocolorscale": false,
         "colorbar": {
          "title": {
           "text": "Restaurants"
          }
         },
         "colorscale": [
          [
           0,
           "rgb(255,245,240)"
          ],
          [
           0.125,
           "rgb(254,224,210)"
          ],
          [
           0.25,
           "rgb(252,187,161)"
          ],
          [
           0.375,
           "rgb(252,146,114)"
          ],
          [
           0.5,
           "rgb(251,106,74)"
          ],
          [
           0.625,
           "rgb(239,59,44)"
          ],
          [
           0.75,
           "rgb(203,24,29)"
          ],
          [
           0.875,
           "rgb(165,15,21)"
          ],
          [
           1,
           "rgb(103,0,13)"
          ]
         ],
         "locationmode": "USA-states",
         "locations": [
          "AL",
          "AK",
          "AZ",
          "AR",
          "CA",
          "CO",
          "CT",
          "DC",
          "DE",
          "FL",
          "GA",
          "HI",
          "ID",
          "IL",
          "IN",
          "IA",
          "KS",
          "KY",
          "LA",
          "ME",
          "MD",
          "MA",
          "MI",
          "MN",
          "MS",
          "MO",
          "MT",
          "NE",
          "NV",
          "NH",
          "NJ",
          "NM",
          "NY",
          "NC",
          "ND",
          "OH",
          "OK",
          "OR",
          "PA",
          "RI",
          "SC",
          "SD",
          "TN",
          "TX",
          "UT",
          "VT",
          "VA",
          "WA",
          "WV",
          "WI",
          "WY"
         ],
         "marker": {
          "line": {
           "color": "white"
          }
         },
         "text": [
          "State: AL<br>Population: 4887871<br>Total Restaurant Earnings (billions): $9.0",
          "State: AK<br>Population: 737438<br>Total Restaurant Earnings (billions): $1.8",
          "State: AZ<br>Population: 7171646<br>Total Restaurant Earnings (billions): $14.7",
          "State: AR<br>Population: 3013825<br>Total Restaurant Earnings (billions): $4.9",
          "State: CA<br>Population: 39557045<br>Total Restaurant Earnings (billions): $97.0",
          "State: CO<br>Population: 5695564<br>Total Restaurant Earnings (billions): $13.9",
          "State: CT<br>Population: 3572665<br>Total Restaurant Earnings (billions): $8.2",
          "State: DC<br>Population: 967171<br>Total Restaurant Earnings (billions): $4.4",
          "State: DE<br>Population: 702455<br>Total Restaurant Earnings (billions): $2.2",
          "State: FL<br>Population: 21299325<br>Total Restaurant Earnings (billions): $50.1",
          "State: GA<br>Population: 10519475<br>Total Restaurant Earnings (billions): $22.9",
          "State: HI<br>Population: 1420491<br>Total Restaurant Earnings (billions): $5.6",
          "State: ID<br>Population: 1754208<br>Total Restaurant Earnings (billions): $2.9",
          "State: IL<br>Population: 12741080<br>Total Restaurant Earnings (billions): $30.1",
          "State: IN<br>Population: 6691878<br>Total Restaurant Earnings (billions): $12.8",
          "State: IA<br>Population: 3156145<br>Total Restaurant Earnings (billions): $4.7",
          "State: KS<br>Population: 2911505<br>Total Restaurant Earnings (billions): $5.2",
          "State: KY<br>Population: 4468402<br>Total Restaurant Earnings (billions): $8.5",
          "State: LA<br>Population: 4659978<br>Total Restaurant Earnings (billions): $10.3",
          "State: ME<br>Population: 1338404<br>Total Restaurant Earnings (billions): $2.5",
          "State: MD<br>Population: 6042718<br>Total Restaurant Earnings (billions): $13.3",
          "State: MA<br>Population: 6902149<br>Total Restaurant Earnings (billions): $18.0",
          "State: MI<br>Population: 9995915<br>Total Restaurant Earnings (billions): $17.9",
          "State: MN<br>Population: 5611179<br>Total Restaurant Earnings (billions): $10.7",
          "State: MS<br>Population: 2986530<br>Total Restaurant Earnings (billions): $5.1",
          "State: MO<br>Population: 6126452<br>Total Restaurant Earnings (billions): $11.7",
          "State: MT<br>Population: 1062305<br>Total Restaurant Earnings (billions): $2.3",
          "State: NE<br>Population: 1929268<br>Total Restaurant Earnings (billions): $3.3",
          "State: NV<br>Population: 3034392<br>Total Restaurant Earnings (billions): $9.9",
          "State: NH<br>Population: 1356458<br>Total Restaurant Earnings (billions): $3.0",
          "State: NJ<br>Population: 8908520<br>Total Restaurant Earnings (billions): $18.1",
          "State: NM<br>Population: 2095428<br>Total Restaurant Earnings (billions): $4.0",
          "State: NY<br>Population: 19542209<br>Total Restaurant Earnings (billions): $51.6",
          "State: NC<br>Population: 10383620<br>Total Restaurant Earnings (billions): $21.4",
          "State: ND<br>Population: 760077<br>Total Restaurant Earnings (billions): $1.4",
          "State: OH<br>Population: 11689442<br>Total Restaurant Earnings (billions): $24.2",
          "State: OK<br>Population: 3943079<br>Total Restaurant Earnings (billions): $7.6",
          "State: OR<br>Population: 4190713<br>Total Restaurant Earnings (billions): $9.7",
          "State: PA<br>Population: 12807060<br>Total Restaurant Earnings (billions): $24.0",
          "State: RI<br>Population: 1057315<br>Total Restaurant Earnings (billions): $2.7",
          "State: SC<br>Population: 5084127<br>Total Restaurant Earnings (billions): $10.7",
          "State: SD<br>Population: 882235<br>Total Restaurant Earnings (billions): $1.5",
          "State: TN<br>Population: 6770010<br>Total Restaurant Earnings (billions): $14.2",
          "State: TX<br>Population: 28701845<br>Total Restaurant Earnings (billions): $66.0",
          "State: UT<br>Population: 3161105<br>Total Restaurant Earnings (billions): $5.5",
          "State: VT<br>Population: 626299<br>Total Restaurant Earnings (billions): $1.1",
          "State: VA<br>Population: 8517685<br>Total Restaurant Earnings (billions): $18.1",
          "State: WA<br>Population: 7535591<br>Total Restaurant Earnings (billions): $13.5",
          "State: WV<br>Population: 1805832<br>Total Restaurant Earnings (billions): $2.8",
          "State: WI<br>Population: 5813568<br>Total Restaurant Earnings (billions): $10.1",
          "State: WY<br>Population: 577737<br>Total Restaurant Earnings (billions): $1.1"
         ],
         "type": "choropleth",
         "z": [
          "160",
          "7",
          "614",
          "140",
          "4964",
          "479",
          "176",
          "101",
          "41",
          "901",
          "439",
          "79",
          "102",
          "851",
          "310",
          "179",
          "162",
          "151",
          "178",
          "60",
          "273",
          "432",
          "470",
          "262",
          "76",
          "305",
          "55",
          "92",
          "302",
          "90",
          "359",
          "194",
          "862",
          "432",
          "17",
          "409",
          "211",
          "355",
          "453",
          "62",
          "199",
          "29",
          "289",
          "1723",
          "146",
          "17",
          "380",
          "423",
          "50",
          "263",
          "41"
         ]
        }
       ],
       "layout": {
        "geo": {
         "lakecolor": "rgb(255, 255, 255)",
         "projection": {
          "type": "albers usa"
         },
         "scope": "usa",
         "showlakes": true
        },
        "template": {
         "data": {
          "bar": [
           {
            "error_x": {
             "color": "#2a3f5f"
            },
            "error_y": {
             "color": "#2a3f5f"
            },
            "marker": {
             "line": {
              "color": "#E5ECF6",
              "width": 0.5
             }
            },
            "type": "bar"
           }
          ],
          "barpolar": [
           {
            "marker": {
             "line": {
              "color": "#E5ECF6",
              "width": 0.5
             }
            },
            "type": "barpolar"
           }
          ],
          "carpet": [
           {
            "aaxis": {
             "endlinecolor": "#2a3f5f",
             "gridcolor": "white",
             "linecolor": "white",
             "minorgridcolor": "white",
             "startlinecolor": "#2a3f5f"
            },
            "baxis": {
             "endlinecolor": "#2a3f5f",
             "gridcolor": "white",
             "linecolor": "white",
             "minorgridcolor": "white",
             "startlinecolor": "#2a3f5f"
            },
            "type": "carpet"
           }
          ],
          "choropleth": [
           {
            "colorbar": {
             "outlinewidth": 0,
             "ticks": ""
            },
            "type": "choropleth"
           }
          ],
          "contour": [
           {
            "colorbar": {
             "outlinewidth": 0,
             "ticks": ""
            },
            "colorscale": [
             [
              0,
              "#0d0887"
             ],
             [
              0.1111111111111111,
              "#46039f"
             ],
             [
              0.2222222222222222,
              "#7201a8"
             ],
             [
              0.3333333333333333,
              "#9c179e"
             ],
             [
              0.4444444444444444,
              "#bd3786"
             ],
             [
              0.5555555555555556,
              "#d8576b"
             ],
             [
              0.6666666666666666,
              "#ed7953"
             ],
             [
              0.7777777777777778,
              "#fb9f3a"
             ],
             [
              0.8888888888888888,
              "#fdca26"
             ],
             [
              1,
              "#f0f921"
             ]
            ],
            "type": "contour"
           }
          ],
          "contourcarpet": [
           {
            "colorbar": {
             "outlinewidth": 0,
             "ticks": ""
            },
            "type": "contourcarpet"
           }
          ],
          "heatmap": [
           {
            "colorbar": {
             "outlinewidth": 0,
             "ticks": ""
            },
            "colorscale": [
             [
              0,
              "#0d0887"
             ],
             [
              0.1111111111111111,
              "#46039f"
             ],
             [
              0.2222222222222222,
              "#7201a8"
             ],
             [
              0.3333333333333333,
              "#9c179e"
             ],
             [
              0.4444444444444444,
              "#bd3786"
             ],
             [
              0.5555555555555556,
              "#d8576b"
             ],
             [
              0.6666666666666666,
              "#ed7953"
             ],
             [
              0.7777777777777778,
              "#fb9f3a"
             ],
             [
              0.8888888888888888,
              "#fdca26"
             ],
             [
              1,
              "#f0f921"
             ]
            ],
            "type": "heatmap"
           }
          ],
          "heatmapgl": [
           {
            "colorbar": {
             "outlinewidth": 0,
             "ticks": ""
            },
            "colorscale": [
             [
              0,
              "#0d0887"
             ],
             [
              0.1111111111111111,
              "#46039f"
             ],
             [
              0.2222222222222222,
              "#7201a8"
             ],
             [
              0.3333333333333333,
              "#9c179e"
             ],
             [
              0.4444444444444444,
              "#bd3786"
             ],
             [
              0.5555555555555556,
              "#d8576b"
             ],
             [
              0.6666666666666666,
              "#ed7953"
             ],
             [
              0.7777777777777778,
              "#fb9f3a"
             ],
             [
              0.8888888888888888,
              "#fdca26"
             ],
             [
              1,
              "#f0f921"
             ]
            ],
            "type": "heatmapgl"
           }
          ],
          "histogram": [
           {
            "marker": {
             "colorbar": {
              "outlinewidth": 0,
              "ticks": ""
             }
            },
            "type": "histogram"
           }
          ],
          "histogram2d": [
           {
            "colorbar": {
             "outlinewidth": 0,
             "ticks": ""
            },
            "colorscale": [
             [
              0,
              "#0d0887"
             ],
             [
              0.1111111111111111,
              "#46039f"
             ],
             [
              0.2222222222222222,
              "#7201a8"
             ],
             [
              0.3333333333333333,
              "#9c179e"
             ],
             [
              0.4444444444444444,
              "#bd3786"
             ],
             [
              0.5555555555555556,
              "#d8576b"
             ],
             [
              0.6666666666666666,
              "#ed7953"
             ],
             [
              0.7777777777777778,
              "#fb9f3a"
             ],
             [
              0.8888888888888888,
              "#fdca26"
             ],
             [
              1,
              "#f0f921"
             ]
            ],
            "type": "histogram2d"
           }
          ],
          "histogram2dcontour": [
           {
            "colorbar": {
             "outlinewidth": 0,
             "ticks": ""
            },
            "colorscale": [
             [
              0,
              "#0d0887"
             ],
             [
              0.1111111111111111,
              "#46039f"
             ],
             [
              0.2222222222222222,
              "#7201a8"
             ],
             [
              0.3333333333333333,
              "#9c179e"
             ],
             [
              0.4444444444444444,
              "#bd3786"
             ],
             [
              0.5555555555555556,
              "#d8576b"
             ],
             [
              0.6666666666666666,
              "#ed7953"
             ],
             [
              0.7777777777777778,
              "#fb9f3a"
             ],
             [
              0.8888888888888888,
              "#fdca26"
             ],
             [
              1,
              "#f0f921"
             ]
            ],
            "type": "histogram2dcontour"
           }
          ],
          "mesh3d": [
           {
            "colorbar": {
             "outlinewidth": 0,
             "ticks": ""
            },
            "type": "mesh3d"
           }
          ],
          "parcoords": [
           {
            "line": {
             "colorbar": {
              "outlinewidth": 0,
              "ticks": ""
             }
            },
            "type": "parcoords"
           }
          ],
          "scatter": [
           {
            "marker": {
             "colorbar": {
              "outlinewidth": 0,
              "ticks": ""
             }
            },
            "type": "scatter"
           }
          ],
          "scatter3d": [
           {
            "line": {
             "colorbar": {
              "outlinewidth": 0,
              "ticks": ""
             }
            },
            "marker": {
             "colorbar": {
              "outlinewidth": 0,
              "ticks": ""
             }
            },
            "type": "scatter3d"
           }
          ],
          "scattercarpet": [
           {
            "marker": {
             "colorbar": {
              "outlinewidth": 0,
              "ticks": ""
             }
            },
            "type": "scattercarpet"
           }
          ],
          "scattergeo": [
           {
            "marker": {
             "colorbar": {
              "outlinewidth": 0,
              "ticks": ""
             }
            },
            "type": "scattergeo"
           }
          ],
          "scattergl": [
           {
            "marker": {
             "colorbar": {
              "outlinewidth": 0,
              "ticks": ""
             }
            },
            "type": "scattergl"
           }
          ],
          "scattermapbox": [
           {
            "marker": {
             "colorbar": {
              "outlinewidth": 0,
              "ticks": ""
             }
            },
            "type": "scattermapbox"
           }
          ],
          "scatterpolar": [
           {
            "marker": {
             "colorbar": {
              "outlinewidth": 0,
              "ticks": ""
             }
            },
            "type": "scatterpolar"
           }
          ],
          "scatterpolargl": [
           {
            "marker": {
             "colorbar": {
              "outlinewidth": 0,
              "ticks": ""
             }
            },
            "type": "scatterpolargl"
           }
          ],
          "scatterternary": [
           {
            "marker": {
             "colorbar": {
              "outlinewidth": 0,
              "ticks": ""
             }
            },
            "type": "scatterternary"
           }
          ],
          "surface": [
           {
            "colorbar": {
             "outlinewidth": 0,
             "ticks": ""
            },
            "colorscale": [
             [
              0,
              "#0d0887"
             ],
             [
              0.1111111111111111,
              "#46039f"
             ],
             [
              0.2222222222222222,
              "#7201a8"
             ],
             [
              0.3333333333333333,
              "#9c179e"
             ],
             [
              0.4444444444444444,
              "#bd3786"
             ],
             [
              0.5555555555555556,
              "#d8576b"
             ],
             [
              0.6666666666666666,
              "#ed7953"
             ],
             [
              0.7777777777777778,
              "#fb9f3a"
             ],
             [
              0.8888888888888888,
              "#fdca26"
             ],
             [
              1,
              "#f0f921"
             ]
            ],
            "type": "surface"
           }
          ],
          "table": [
           {
            "cells": {
             "fill": {
              "color": "#EBF0F8"
             },
             "line": {
              "color": "white"
             }
            },
            "header": {
             "fill": {
              "color": "#C8D4E3"
             },
             "line": {
              "color": "white"
             }
            },
            "type": "table"
           }
          ]
         },
         "layout": {
          "annotationdefaults": {
           "arrowcolor": "#2a3f5f",
           "arrowhead": 0,
           "arrowwidth": 1
          },
          "colorscale": {
           "diverging": [
            [
             0,
             "#8e0152"
            ],
            [
             0.1,
             "#c51b7d"
            ],
            [
             0.2,
             "#de77ae"
            ],
            [
             0.3,
             "#f1b6da"
            ],
            [
             0.4,
             "#fde0ef"
            ],
            [
             0.5,
             "#f7f7f7"
            ],
            [
             0.6,
             "#e6f5d0"
            ],
            [
             0.7,
             "#b8e186"
            ],
            [
             0.8,
             "#7fbc41"
            ],
            [
             0.9,
             "#4d9221"
            ],
            [
             1,
             "#276419"
            ]
           ],
           "sequential": [
            [
             0,
             "#0d0887"
            ],
            [
             0.1111111111111111,
             "#46039f"
            ],
            [
             0.2222222222222222,
             "#7201a8"
            ],
            [
             0.3333333333333333,
             "#9c179e"
            ],
            [
             0.4444444444444444,
             "#bd3786"
            ],
            [
             0.5555555555555556,
             "#d8576b"
            ],
            [
             0.6666666666666666,
             "#ed7953"
            ],
            [
             0.7777777777777778,
             "#fb9f3a"
            ],
            [
             0.8888888888888888,
             "#fdca26"
            ],
            [
             1,
             "#f0f921"
            ]
           ],
           "sequentialminus": [
            [
             0,
             "#0d0887"
            ],
            [
             0.1111111111111111,
             "#46039f"
            ],
            [
             0.2222222222222222,
             "#7201a8"
            ],
            [
             0.3333333333333333,
             "#9c179e"
            ],
            [
             0.4444444444444444,
             "#bd3786"
            ],
            [
             0.5555555555555556,
             "#d8576b"
            ],
            [
             0.6666666666666666,
             "#ed7953"
            ],
            [
             0.7777777777777778,
             "#fb9f3a"
            ],
            [
             0.8888888888888888,
             "#fdca26"
            ],
            [
             1,
             "#f0f921"
            ]
           ]
          },
          "colorway": [
           "#636efa",
           "#EF553B",
           "#00cc96",
           "#ab63fa",
           "#FFA15A",
           "#19d3f3",
           "#FF6692",
           "#B6E880",
           "#FF97FF",
           "#FECB52"
          ],
          "font": {
           "color": "#2a3f5f"
          },
          "geo": {
           "bgcolor": "white",
           "lakecolor": "white",
           "landcolor": "#E5ECF6",
           "showlakes": true,
           "showland": true,
           "subunitcolor": "white"
          },
          "hoverlabel": {
           "align": "left"
          },
          "hovermode": "closest",
          "mapbox": {
           "style": "light"
          },
          "paper_bgcolor": "white",
          "plot_bgcolor": "#E5ECF6",
          "polar": {
           "angularaxis": {
            "gridcolor": "white",
            "linecolor": "white",
            "ticks": ""
           },
           "bgcolor": "#E5ECF6",
           "radialaxis": {
            "gridcolor": "white",
            "linecolor": "white",
            "ticks": ""
           }
          },
          "scene": {
           "xaxis": {
            "backgroundcolor": "#E5ECF6",
            "gridcolor": "white",
            "gridwidth": 2,
            "linecolor": "white",
            "showbackground": true,
            "ticks": "",
            "zerolinecolor": "white"
           },
           "yaxis": {
            "backgroundcolor": "#E5ECF6",
            "gridcolor": "white",
            "gridwidth": 2,
            "linecolor": "white",
            "showbackground": true,
            "ticks": "",
            "zerolinecolor": "white"
           },
           "zaxis": {
            "backgroundcolor": "#E5ECF6",
            "gridcolor": "white",
            "gridwidth": 2,
            "linecolor": "white",
            "showbackground": true,
            "ticks": "",
            "zerolinecolor": "white"
           }
          },
          "shapedefaults": {
           "line": {
            "color": "#2a3f5f"
           }
          },
          "ternary": {
           "aaxis": {
            "gridcolor": "white",
            "linecolor": "white",
            "ticks": ""
           },
           "baxis": {
            "gridcolor": "white",
            "linecolor": "white",
            "ticks": ""
           },
           "bgcolor": "#E5ECF6",
           "caxis": {
            "gridcolor": "white",
            "linecolor": "white",
            "ticks": ""
           }
          },
          "title": {
           "x": 0.05
          },
          "xaxis": {
           "automargin": true,
           "gridcolor": "white",
           "linecolor": "white",
           "ticks": "",
           "zerolinecolor": "white",
           "zerolinewidth": 2
          },
          "yaxis": {
           "automargin": true,
           "gridcolor": "white",
           "linecolor": "white",
           "ticks": "",
           "zerolinecolor": "white",
           "zerolinewidth": 2
          }
         }
        },
        "title": {
         "text": "2019 US TexMex Restaurants by State<br>(Hover for breakdown)"
        }
       }
      },
      "text/html": [
       "<div>\n",
       "        \n",
       "        \n",
       "            <div id=\"65d3416f-d0b0-4f57-b18f-1f80a432a561\" class=\"plotly-graph-div\" style=\"height:525px; width:100%;\"></div>\n",
       "            <script type=\"text/javascript\">\n",
       "                require([\"plotly\"], function(Plotly) {\n",
       "                    window.PLOTLYENV=window.PLOTLYENV || {};\n",
       "                    \n",
       "                if (document.getElementById(\"65d3416f-d0b0-4f57-b18f-1f80a432a561\")) {\n",
       "                    Plotly.newPlot(\n",
       "                        '65d3416f-d0b0-4f57-b18f-1f80a432a561',\n",
       "                        [{\"autocolorscale\": false, \"colorbar\": {\"title\": {\"text\": \"Restaurants\"}}, \"colorscale\": [[0.0, \"rgb(255,245,240)\"], [0.125, \"rgb(254,224,210)\"], [0.25, \"rgb(252,187,161)\"], [0.375, \"rgb(252,146,114)\"], [0.5, \"rgb(251,106,74)\"], [0.625, \"rgb(239,59,44)\"], [0.75, \"rgb(203,24,29)\"], [0.875, \"rgb(165,15,21)\"], [1.0, \"rgb(103,0,13)\"]], \"locationmode\": \"USA-states\", \"locations\": [\"AL\", \"AK\", \"AZ\", \"AR\", \"CA\", \"CO\", \"CT\", \"DC\", \"DE\", \"FL\", \"GA\", \"HI\", \"ID\", \"IL\", \"IN\", \"IA\", \"KS\", \"KY\", \"LA\", \"ME\", \"MD\", \"MA\", \"MI\", \"MN\", \"MS\", \"MO\", \"MT\", \"NE\", \"NV\", \"NH\", \"NJ\", \"NM\", \"NY\", \"NC\", \"ND\", \"OH\", \"OK\", \"OR\", \"PA\", \"RI\", \"SC\", \"SD\", \"TN\", \"TX\", \"UT\", \"VT\", \"VA\", \"WA\", \"WV\", \"WI\", \"WY\"], \"marker\": {\"line\": {\"color\": \"white\"}}, \"text\": [\"State: AL<br>Population: 4887871<br>Total Restaurant Earnings (billions): $9.0\", \"State: AK<br>Population: 737438<br>Total Restaurant Earnings (billions): $1.8\", \"State: AZ<br>Population: 7171646<br>Total Restaurant Earnings (billions): $14.7\", \"State: AR<br>Population: 3013825<br>Total Restaurant Earnings (billions): $4.9\", \"State: CA<br>Population: 39557045<br>Total Restaurant Earnings (billions): $97.0\", \"State: CO<br>Population: 5695564<br>Total Restaurant Earnings (billions): $13.9\", \"State: CT<br>Population: 3572665<br>Total Restaurant Earnings (billions): $8.2\", \"State: DC<br>Population: 967171<br>Total Restaurant Earnings (billions): $4.4\", \"State: DE<br>Population: 702455<br>Total Restaurant Earnings (billions): $2.2\", \"State: FL<br>Population: 21299325<br>Total Restaurant Earnings (billions): $50.1\", \"State: GA<br>Population: 10519475<br>Total Restaurant Earnings (billions): $22.9\", \"State: HI<br>Population: 1420491<br>Total Restaurant Earnings (billions): $5.6\", \"State: ID<br>Population: 1754208<br>Total Restaurant Earnings (billions): $2.9\", \"State: IL<br>Population: 12741080<br>Total Restaurant Earnings (billions): $30.1\", \"State: IN<br>Population: 6691878<br>Total Restaurant Earnings (billions): $12.8\", \"State: IA<br>Population: 3156145<br>Total Restaurant Earnings (billions): $4.7\", \"State: KS<br>Population: 2911505<br>Total Restaurant Earnings (billions): $5.2\", \"State: KY<br>Population: 4468402<br>Total Restaurant Earnings (billions): $8.5\", \"State: LA<br>Population: 4659978<br>Total Restaurant Earnings (billions): $10.3\", \"State: ME<br>Population: 1338404<br>Total Restaurant Earnings (billions): $2.5\", \"State: MD<br>Population: 6042718<br>Total Restaurant Earnings (billions): $13.3\", \"State: MA<br>Population: 6902149<br>Total Restaurant Earnings (billions): $18.0\", \"State: MI<br>Population: 9995915<br>Total Restaurant Earnings (billions): $17.9\", \"State: MN<br>Population: 5611179<br>Total Restaurant Earnings (billions): $10.7\", \"State: MS<br>Population: 2986530<br>Total Restaurant Earnings (billions): $5.1\", \"State: MO<br>Population: 6126452<br>Total Restaurant Earnings (billions): $11.7\", \"State: MT<br>Population: 1062305<br>Total Restaurant Earnings (billions): $2.3\", \"State: NE<br>Population: 1929268<br>Total Restaurant Earnings (billions): $3.3\", \"State: NV<br>Population: 3034392<br>Total Restaurant Earnings (billions): $9.9\", \"State: NH<br>Population: 1356458<br>Total Restaurant Earnings (billions): $3.0\", \"State: NJ<br>Population: 8908520<br>Total Restaurant Earnings (billions): $18.1\", \"State: NM<br>Population: 2095428<br>Total Restaurant Earnings (billions): $4.0\", \"State: NY<br>Population: 19542209<br>Total Restaurant Earnings (billions): $51.6\", \"State: NC<br>Population: 10383620<br>Total Restaurant Earnings (billions): $21.4\", \"State: ND<br>Population: 760077<br>Total Restaurant Earnings (billions): $1.4\", \"State: OH<br>Population: 11689442<br>Total Restaurant Earnings (billions): $24.2\", \"State: OK<br>Population: 3943079<br>Total Restaurant Earnings (billions): $7.6\", \"State: OR<br>Population: 4190713<br>Total Restaurant Earnings (billions): $9.7\", \"State: PA<br>Population: 12807060<br>Total Restaurant Earnings (billions): $24.0\", \"State: RI<br>Population: 1057315<br>Total Restaurant Earnings (billions): $2.7\", \"State: SC<br>Population: 5084127<br>Total Restaurant Earnings (billions): $10.7\", \"State: SD<br>Population: 882235<br>Total Restaurant Earnings (billions): $1.5\", \"State: TN<br>Population: 6770010<br>Total Restaurant Earnings (billions): $14.2\", \"State: TX<br>Population: 28701845<br>Total Restaurant Earnings (billions): $66.0\", \"State: UT<br>Population: 3161105<br>Total Restaurant Earnings (billions): $5.5\", \"State: VT<br>Population: 626299<br>Total Restaurant Earnings (billions): $1.1\", \"State: VA<br>Population: 8517685<br>Total Restaurant Earnings (billions): $18.1\", \"State: WA<br>Population: 7535591<br>Total Restaurant Earnings (billions): $13.5\", \"State: WV<br>Population: 1805832<br>Total Restaurant Earnings (billions): $2.8\", \"State: WI<br>Population: 5813568<br>Total Restaurant Earnings (billions): $10.1\", \"State: WY<br>Population: 577737<br>Total Restaurant Earnings (billions): $1.1\"], \"type\": \"choropleth\", \"z\": [\"160\", \"7\", \"614\", \"140\", \"4964\", \"479\", \"176\", \"101\", \"41\", \"901\", \"439\", \"79\", \"102\", \"851\", \"310\", \"179\", \"162\", \"151\", \"178\", \"60\", \"273\", \"432\", \"470\", \"262\", \"76\", \"305\", \"55\", \"92\", \"302\", \"90\", \"359\", \"194\", \"862\", \"432\", \"17\", \"409\", \"211\", \"355\", \"453\", \"62\", \"199\", \"29\", \"289\", \"1723\", \"146\", \"17\", \"380\", \"423\", \"50\", \"263\", \"41\"]}],\n",
       "                        {\"geo\": {\"lakecolor\": \"rgb(255, 255, 255)\", \"projection\": {\"type\": \"albers usa\"}, \"scope\": \"usa\", \"showlakes\": true}, \"template\": {\"data\": {\"bar\": [{\"error_x\": {\"color\": \"#2a3f5f\"}, \"error_y\": {\"color\": \"#2a3f5f\"}, \"marker\": {\"line\": {\"color\": \"#E5ECF6\", \"width\": 0.5}}, \"type\": \"bar\"}], \"barpolar\": [{\"marker\": {\"line\": {\"color\": \"#E5ECF6\", \"width\": 0.5}}, \"type\": \"barpolar\"}], \"carpet\": [{\"aaxis\": {\"endlinecolor\": \"#2a3f5f\", \"gridcolor\": \"white\", \"linecolor\": \"white\", \"minorgridcolor\": \"white\", \"startlinecolor\": \"#2a3f5f\"}, \"baxis\": {\"endlinecolor\": \"#2a3f5f\", \"gridcolor\": \"white\", \"linecolor\": \"white\", \"minorgridcolor\": \"white\", \"startlinecolor\": \"#2a3f5f\"}, \"type\": \"carpet\"}], \"choropleth\": [{\"colorbar\": {\"outlinewidth\": 0, \"ticks\": \"\"}, \"type\": \"choropleth\"}], \"contour\": [{\"colorbar\": {\"outlinewidth\": 0, \"ticks\": \"\"}, \"colorscale\": [[0.0, \"#0d0887\"], [0.1111111111111111, \"#46039f\"], [0.2222222222222222, \"#7201a8\"], [0.3333333333333333, \"#9c179e\"], [0.4444444444444444, \"#bd3786\"], [0.5555555555555556, \"#d8576b\"], [0.6666666666666666, \"#ed7953\"], [0.7777777777777778, \"#fb9f3a\"], [0.8888888888888888, \"#fdca26\"], [1.0, \"#f0f921\"]], \"type\": \"contour\"}], \"contourcarpet\": [{\"colorbar\": {\"outlinewidth\": 0, \"ticks\": \"\"}, \"type\": \"contourcarpet\"}], \"heatmap\": [{\"colorbar\": {\"outlinewidth\": 0, \"ticks\": \"\"}, \"colorscale\": [[0.0, \"#0d0887\"], [0.1111111111111111, \"#46039f\"], [0.2222222222222222, \"#7201a8\"], [0.3333333333333333, \"#9c179e\"], [0.4444444444444444, \"#bd3786\"], [0.5555555555555556, \"#d8576b\"], [0.6666666666666666, \"#ed7953\"], [0.7777777777777778, \"#fb9f3a\"], [0.8888888888888888, \"#fdca26\"], [1.0, \"#f0f921\"]], \"type\": \"heatmap\"}], \"heatmapgl\": [{\"colorbar\": {\"outlinewidth\": 0, \"ticks\": \"\"}, \"colorscale\": [[0.0, \"#0d0887\"], [0.1111111111111111, \"#46039f\"], [0.2222222222222222, \"#7201a8\"], [0.3333333333333333, \"#9c179e\"], [0.4444444444444444, \"#bd3786\"], [0.5555555555555556, \"#d8576b\"], [0.6666666666666666, \"#ed7953\"], [0.7777777777777778, \"#fb9f3a\"], [0.8888888888888888, \"#fdca26\"], [1.0, \"#f0f921\"]], \"type\": \"heatmapgl\"}], \"histogram\": [{\"marker\": {\"colorbar\": {\"outlinewidth\": 0, \"ticks\": \"\"}}, \"type\": \"histogram\"}], \"histogram2d\": [{\"colorbar\": {\"outlinewidth\": 0, \"ticks\": \"\"}, \"colorscale\": [[0.0, \"#0d0887\"], [0.1111111111111111, \"#46039f\"], [0.2222222222222222, \"#7201a8\"], [0.3333333333333333, \"#9c179e\"], [0.4444444444444444, \"#bd3786\"], [0.5555555555555556, \"#d8576b\"], [0.6666666666666666, \"#ed7953\"], [0.7777777777777778, \"#fb9f3a\"], [0.8888888888888888, \"#fdca26\"], [1.0, \"#f0f921\"]], \"type\": \"histogram2d\"}], \"histogram2dcontour\": [{\"colorbar\": {\"outlinewidth\": 0, \"ticks\": \"\"}, \"colorscale\": [[0.0, \"#0d0887\"], [0.1111111111111111, \"#46039f\"], [0.2222222222222222, \"#7201a8\"], [0.3333333333333333, \"#9c179e\"], [0.4444444444444444, \"#bd3786\"], [0.5555555555555556, \"#d8576b\"], [0.6666666666666666, \"#ed7953\"], [0.7777777777777778, \"#fb9f3a\"], [0.8888888888888888, \"#fdca26\"], [1.0, \"#f0f921\"]], \"type\": \"histogram2dcontour\"}], \"mesh3d\": [{\"colorbar\": {\"outlinewidth\": 0, \"ticks\": \"\"}, \"type\": \"mesh3d\"}], \"parcoords\": [{\"line\": {\"colorbar\": {\"outlinewidth\": 0, \"ticks\": \"\"}}, \"type\": \"parcoords\"}], \"scatter\": [{\"marker\": {\"colorbar\": {\"outlinewidth\": 0, \"ticks\": \"\"}}, \"type\": \"scatter\"}], \"scatter3d\": [{\"line\": {\"colorbar\": {\"outlinewidth\": 0, \"ticks\": \"\"}}, \"marker\": {\"colorbar\": {\"outlinewidth\": 0, \"ticks\": \"\"}}, \"type\": \"scatter3d\"}], \"scattercarpet\": [{\"marker\": {\"colorbar\": {\"outlinewidth\": 0, \"ticks\": \"\"}}, \"type\": \"scattercarpet\"}], \"scattergeo\": [{\"marker\": {\"colorbar\": {\"outlinewidth\": 0, \"ticks\": \"\"}}, \"type\": \"scattergeo\"}], \"scattergl\": [{\"marker\": {\"colorbar\": {\"outlinewidth\": 0, \"ticks\": \"\"}}, \"type\": \"scattergl\"}], \"scattermapbox\": [{\"marker\": {\"colorbar\": {\"outlinewidth\": 0, \"ticks\": \"\"}}, \"type\": \"scattermapbox\"}], \"scatterpolar\": [{\"marker\": {\"colorbar\": {\"outlinewidth\": 0, \"ticks\": \"\"}}, \"type\": \"scatterpolar\"}], \"scatterpolargl\": [{\"marker\": {\"colorbar\": {\"outlinewidth\": 0, \"ticks\": \"\"}}, \"type\": \"scatterpolargl\"}], \"scatterternary\": [{\"marker\": {\"colorbar\": {\"outlinewidth\": 0, \"ticks\": \"\"}}, \"type\": \"scatterternary\"}], \"surface\": [{\"colorbar\": {\"outlinewidth\": 0, \"ticks\": \"\"}, \"colorscale\": [[0.0, \"#0d0887\"], [0.1111111111111111, \"#46039f\"], [0.2222222222222222, \"#7201a8\"], [0.3333333333333333, \"#9c179e\"], [0.4444444444444444, \"#bd3786\"], [0.5555555555555556, \"#d8576b\"], [0.6666666666666666, \"#ed7953\"], [0.7777777777777778, \"#fb9f3a\"], [0.8888888888888888, \"#fdca26\"], [1.0, \"#f0f921\"]], \"type\": \"surface\"}], \"table\": [{\"cells\": {\"fill\": {\"color\": \"#EBF0F8\"}, \"line\": {\"color\": \"white\"}}, \"header\": {\"fill\": {\"color\": \"#C8D4E3\"}, \"line\": {\"color\": \"white\"}}, \"type\": \"table\"}]}, \"layout\": {\"annotationdefaults\": {\"arrowcolor\": \"#2a3f5f\", \"arrowhead\": 0, \"arrowwidth\": 1}, \"colorscale\": {\"diverging\": [[0, \"#8e0152\"], [0.1, \"#c51b7d\"], [0.2, \"#de77ae\"], [0.3, \"#f1b6da\"], [0.4, \"#fde0ef\"], [0.5, \"#f7f7f7\"], [0.6, \"#e6f5d0\"], [0.7, \"#b8e186\"], [0.8, \"#7fbc41\"], [0.9, \"#4d9221\"], [1, \"#276419\"]], \"sequential\": [[0.0, \"#0d0887\"], [0.1111111111111111, \"#46039f\"], [0.2222222222222222, \"#7201a8\"], [0.3333333333333333, \"#9c179e\"], [0.4444444444444444, \"#bd3786\"], [0.5555555555555556, \"#d8576b\"], [0.6666666666666666, \"#ed7953\"], [0.7777777777777778, \"#fb9f3a\"], [0.8888888888888888, \"#fdca26\"], [1.0, \"#f0f921\"]], \"sequentialminus\": [[0.0, \"#0d0887\"], [0.1111111111111111, \"#46039f\"], [0.2222222222222222, \"#7201a8\"], [0.3333333333333333, \"#9c179e\"], [0.4444444444444444, \"#bd3786\"], [0.5555555555555556, \"#d8576b\"], [0.6666666666666666, \"#ed7953\"], [0.7777777777777778, \"#fb9f3a\"], [0.8888888888888888, \"#fdca26\"], [1.0, \"#f0f921\"]]}, \"colorway\": [\"#636efa\", \"#EF553B\", \"#00cc96\", \"#ab63fa\", \"#FFA15A\", \"#19d3f3\", \"#FF6692\", \"#B6E880\", \"#FF97FF\", \"#FECB52\"], \"font\": {\"color\": \"#2a3f5f\"}, \"geo\": {\"bgcolor\": \"white\", \"lakecolor\": \"white\", \"landcolor\": \"#E5ECF6\", \"showlakes\": true, \"showland\": true, \"subunitcolor\": \"white\"}, \"hoverlabel\": {\"align\": \"left\"}, \"hovermode\": \"closest\", \"mapbox\": {\"style\": \"light\"}, \"paper_bgcolor\": \"white\", \"plot_bgcolor\": \"#E5ECF6\", \"polar\": {\"angularaxis\": {\"gridcolor\": \"white\", \"linecolor\": \"white\", \"ticks\": \"\"}, \"bgcolor\": \"#E5ECF6\", \"radialaxis\": {\"gridcolor\": \"white\", \"linecolor\": \"white\", \"ticks\": \"\"}}, \"scene\": {\"xaxis\": {\"backgroundcolor\": \"#E5ECF6\", \"gridcolor\": \"white\", \"gridwidth\": 2, \"linecolor\": \"white\", \"showbackground\": true, \"ticks\": \"\", \"zerolinecolor\": \"white\"}, \"yaxis\": {\"backgroundcolor\": \"#E5ECF6\", \"gridcolor\": \"white\", \"gridwidth\": 2, \"linecolor\": \"white\", \"showbackground\": true, \"ticks\": \"\", \"zerolinecolor\": \"white\"}, \"zaxis\": {\"backgroundcolor\": \"#E5ECF6\", \"gridcolor\": \"white\", \"gridwidth\": 2, \"linecolor\": \"white\", \"showbackground\": true, \"ticks\": \"\", \"zerolinecolor\": \"white\"}}, \"shapedefaults\": {\"line\": {\"color\": \"#2a3f5f\"}}, \"ternary\": {\"aaxis\": {\"gridcolor\": \"white\", \"linecolor\": \"white\", \"ticks\": \"\"}, \"baxis\": {\"gridcolor\": \"white\", \"linecolor\": \"white\", \"ticks\": \"\"}, \"bgcolor\": \"#E5ECF6\", \"caxis\": {\"gridcolor\": \"white\", \"linecolor\": \"white\", \"ticks\": \"\"}}, \"title\": {\"x\": 0.05}, \"xaxis\": {\"automargin\": true, \"gridcolor\": \"white\", \"linecolor\": \"white\", \"ticks\": \"\", \"zerolinecolor\": \"white\", \"zerolinewidth\": 2}, \"yaxis\": {\"automargin\": true, \"gridcolor\": \"white\", \"linecolor\": \"white\", \"ticks\": \"\", \"zerolinecolor\": \"white\", \"zerolinewidth\": 2}}}, \"title\": {\"text\": \"2019 US TexMex Restaurants by State<br>(Hover for breakdown)\"}},\n",
       "                        {\"responsive\": true}\n",
       "                    ).then(function(){\n",
       "                            \n",
       "var gd = document.getElementById('65d3416f-d0b0-4f57-b18f-1f80a432a561');\n",
       "var x = new MutationObserver(function (mutations, observer) {{\n",
       "        var display = window.getComputedStyle(gd).display;\n",
       "        if (!display || display === 'none') {{\n",
       "            console.log([gd, 'removed!']);\n",
       "            Plotly.purge(gd);\n",
       "            observer.disconnect();\n",
       "        }}\n",
       "}});\n",
       "\n",
       "// Listen for the removal of the full notebook cells\n",
       "var notebookContainer = gd.closest('#notebook-container');\n",
       "if (notebookContainer) {{\n",
       "    x.observe(notebookContainer, {childList: true});\n",
       "}}\n",
       "\n",
       "// Listen for the clearing of the current output cell\n",
       "var outputEl = gd.closest('.output');\n",
       "if (outputEl) {{\n",
       "    x.observe(outputEl, {childList: true});\n",
       "}}\n",
       "\n",
       "                        })\n",
       "                };\n",
       "                });\n",
       "            </script>\n",
       "        </div>"
      ]
     },
     "metadata": {},
     "output_type": "display_data"
    },
    {
     "data": {
      "application/vnd.plotly.v1+json": {
       "config": {
        "plotlyServerURL": "https://plot.ly"
       },
       "data": [
        {
         "autocolorscale": false,
         "colorbar": {
          "title": {
           "text": "People Per Available Restaurant"
          }
         },
         "colorscale": [
          [
           0,
           "rgb(247,251,255)"
          ],
          [
           0.125,
           "rgb(222,235,247)"
          ],
          [
           0.25,
           "rgb(198,219,239)"
          ],
          [
           0.375,
           "rgb(158,202,225)"
          ],
          [
           0.5,
           "rgb(107,174,214)"
          ],
          [
           0.625,
           "rgb(66,146,198)"
          ],
          [
           0.75,
           "rgb(33,113,181)"
          ],
          [
           0.875,
           "rgb(8,81,156)"
          ],
          [
           1,
           "rgb(8,48,107)"
          ]
         ],
         "locationmode": "USA-states",
         "locations": [
          "AL",
          "AK",
          "AZ",
          "AR",
          "CA",
          "CO",
          "CT",
          "DC",
          "DE",
          "FL",
          "GA",
          "HI",
          "ID",
          "IL",
          "IN",
          "IA",
          "KS",
          "KY",
          "LA",
          "ME",
          "MD",
          "MA",
          "MI",
          "MN",
          "MS",
          "MO",
          "MT",
          "NE",
          "NV",
          "NH",
          "NJ",
          "NM",
          "NY",
          "NC",
          "ND",
          "OH",
          "OK",
          "OR",
          "PA",
          "RI",
          "SC",
          "SD",
          "TN",
          "TX",
          "UT",
          "VT",
          "VA",
          "WA",
          "WV",
          "WI",
          "WY"
         ],
         "marker": {
          "line": {
           "color": "white"
          }
         },
         "text": [
          "State: AL<br>Population: 4887871<br>Total Restaurant Earnings (billions): $9.0",
          "State: AK<br>Population: 737438<br>Total Restaurant Earnings (billions): $1.8",
          "State: AZ<br>Population: 7171646<br>Total Restaurant Earnings (billions): $14.7",
          "State: AR<br>Population: 3013825<br>Total Restaurant Earnings (billions): $4.9",
          "State: CA<br>Population: 39557045<br>Total Restaurant Earnings (billions): $97.0",
          "State: CO<br>Population: 5695564<br>Total Restaurant Earnings (billions): $13.9",
          "State: CT<br>Population: 3572665<br>Total Restaurant Earnings (billions): $8.2",
          "State: DC<br>Population: 967171<br>Total Restaurant Earnings (billions): $4.4",
          "State: DE<br>Population: 702455<br>Total Restaurant Earnings (billions): $2.2",
          "State: FL<br>Population: 21299325<br>Total Restaurant Earnings (billions): $50.1",
          "State: GA<br>Population: 10519475<br>Total Restaurant Earnings (billions): $22.9",
          "State: HI<br>Population: 1420491<br>Total Restaurant Earnings (billions): $5.6",
          "State: ID<br>Population: 1754208<br>Total Restaurant Earnings (billions): $2.9",
          "State: IL<br>Population: 12741080<br>Total Restaurant Earnings (billions): $30.1",
          "State: IN<br>Population: 6691878<br>Total Restaurant Earnings (billions): $12.8",
          "State: IA<br>Population: 3156145<br>Total Restaurant Earnings (billions): $4.7",
          "State: KS<br>Population: 2911505<br>Total Restaurant Earnings (billions): $5.2",
          "State: KY<br>Population: 4468402<br>Total Restaurant Earnings (billions): $8.5",
          "State: LA<br>Population: 4659978<br>Total Restaurant Earnings (billions): $10.3",
          "State: ME<br>Population: 1338404<br>Total Restaurant Earnings (billions): $2.5",
          "State: MD<br>Population: 6042718<br>Total Restaurant Earnings (billions): $13.3",
          "State: MA<br>Population: 6902149<br>Total Restaurant Earnings (billions): $18.0",
          "State: MI<br>Population: 9995915<br>Total Restaurant Earnings (billions): $17.9",
          "State: MN<br>Population: 5611179<br>Total Restaurant Earnings (billions): $10.7",
          "State: MS<br>Population: 2986530<br>Total Restaurant Earnings (billions): $5.1",
          "State: MO<br>Population: 6126452<br>Total Restaurant Earnings (billions): $11.7",
          "State: MT<br>Population: 1062305<br>Total Restaurant Earnings (billions): $2.3",
          "State: NE<br>Population: 1929268<br>Total Restaurant Earnings (billions): $3.3",
          "State: NV<br>Population: 3034392<br>Total Restaurant Earnings (billions): $9.9",
          "State: NH<br>Population: 1356458<br>Total Restaurant Earnings (billions): $3.0",
          "State: NJ<br>Population: 8908520<br>Total Restaurant Earnings (billions): $18.1",
          "State: NM<br>Population: 2095428<br>Total Restaurant Earnings (billions): $4.0",
          "State: NY<br>Population: 19542209<br>Total Restaurant Earnings (billions): $51.6",
          "State: NC<br>Population: 10383620<br>Total Restaurant Earnings (billions): $21.4",
          "State: ND<br>Population: 760077<br>Total Restaurant Earnings (billions): $1.4",
          "State: OH<br>Population: 11689442<br>Total Restaurant Earnings (billions): $24.2",
          "State: OK<br>Population: 3943079<br>Total Restaurant Earnings (billions): $7.6",
          "State: OR<br>Population: 4190713<br>Total Restaurant Earnings (billions): $9.7",
          "State: PA<br>Population: 12807060<br>Total Restaurant Earnings (billions): $24.0",
          "State: RI<br>Population: 1057315<br>Total Restaurant Earnings (billions): $2.7",
          "State: SC<br>Population: 5084127<br>Total Restaurant Earnings (billions): $10.7",
          "State: SD<br>Population: 882235<br>Total Restaurant Earnings (billions): $1.5",
          "State: TN<br>Population: 6770010<br>Total Restaurant Earnings (billions): $14.2",
          "State: TX<br>Population: 28701845<br>Total Restaurant Earnings (billions): $66.0",
          "State: UT<br>Population: 3161105<br>Total Restaurant Earnings (billions): $5.5",
          "State: VT<br>Population: 626299<br>Total Restaurant Earnings (billions): $1.1",
          "State: VA<br>Population: 8517685<br>Total Restaurant Earnings (billions): $18.1",
          "State: WA<br>Population: 7535591<br>Total Restaurant Earnings (billions): $13.5",
          "State: WV<br>Population: 1805832<br>Total Restaurant Earnings (billions): $2.8",
          "State: WI<br>Population: 5813568<br>Total Restaurant Earnings (billions): $10.1",
          "State: WY<br>Population: 577737<br>Total Restaurant Earnings (billions): $1.1"
         ],
         "type": "choropleth",
         "z": [
          "30549",
          "105348",
          "11680",
          "21527",
          "7968",
          "11890",
          "20299",
          "9575",
          "17133",
          "23639",
          "23962",
          "17980",
          "17198",
          "14971",
          "21586",
          "17632",
          "17972",
          "29592",
          "26179",
          "22306",
          "22134",
          "15977",
          "21267",
          "21416",
          "39296",
          "20086",
          "19314",
          "20970",
          "10047",
          "15071",
          "24814",
          "10801",
          "22670",
          "24036",
          "44710",
          "28580",
          "18687",
          "11804",
          "28271",
          "17053",
          "25548",
          "30421",
          "23425",
          "16658",
          "21651",
          "36841",
          "22414",
          "17814",
          "36116",
          "22104",
          "14091"
         ]
        }
       ],
       "layout": {
        "geo": {
         "lakecolor": "rgb(255, 255, 255)",
         "projection": {
          "type": "albers usa"
         },
         "scope": "usa",
         "showlakes": true
        },
        "template": {
         "data": {
          "bar": [
           {
            "error_x": {
             "color": "#2a3f5f"
            },
            "error_y": {
             "color": "#2a3f5f"
            },
            "marker": {
             "line": {
              "color": "#E5ECF6",
              "width": 0.5
             }
            },
            "type": "bar"
           }
          ],
          "barpolar": [
           {
            "marker": {
             "line": {
              "color": "#E5ECF6",
              "width": 0.5
             }
            },
            "type": "barpolar"
           }
          ],
          "carpet": [
           {
            "aaxis": {
             "endlinecolor": "#2a3f5f",
             "gridcolor": "white",
             "linecolor": "white",
             "minorgridcolor": "white",
             "startlinecolor": "#2a3f5f"
            },
            "baxis": {
             "endlinecolor": "#2a3f5f",
             "gridcolor": "white",
             "linecolor": "white",
             "minorgridcolor": "white",
             "startlinecolor": "#2a3f5f"
            },
            "type": "carpet"
           }
          ],
          "choropleth": [
           {
            "colorbar": {
             "outlinewidth": 0,
             "ticks": ""
            },
            "type": "choropleth"
           }
          ],
          "contour": [
           {
            "colorbar": {
             "outlinewidth": 0,
             "ticks": ""
            },
            "colorscale": [
             [
              0,
              "#0d0887"
             ],
             [
              0.1111111111111111,
              "#46039f"
             ],
             [
              0.2222222222222222,
              "#7201a8"
             ],
             [
              0.3333333333333333,
              "#9c179e"
             ],
             [
              0.4444444444444444,
              "#bd3786"
             ],
             [
              0.5555555555555556,
              "#d8576b"
             ],
             [
              0.6666666666666666,
              "#ed7953"
             ],
             [
              0.7777777777777778,
              "#fb9f3a"
             ],
             [
              0.8888888888888888,
              "#fdca26"
             ],
             [
              1,
              "#f0f921"
             ]
            ],
            "type": "contour"
           }
          ],
          "contourcarpet": [
           {
            "colorbar": {
             "outlinewidth": 0,
             "ticks": ""
            },
            "type": "contourcarpet"
           }
          ],
          "heatmap": [
           {
            "colorbar": {
             "outlinewidth": 0,
             "ticks": ""
            },
            "colorscale": [
             [
              0,
              "#0d0887"
             ],
             [
              0.1111111111111111,
              "#46039f"
             ],
             [
              0.2222222222222222,
              "#7201a8"
             ],
             [
              0.3333333333333333,
              "#9c179e"
             ],
             [
              0.4444444444444444,
              "#bd3786"
             ],
             [
              0.5555555555555556,
              "#d8576b"
             ],
             [
              0.6666666666666666,
              "#ed7953"
             ],
             [
              0.7777777777777778,
              "#fb9f3a"
             ],
             [
              0.8888888888888888,
              "#fdca26"
             ],
             [
              1,
              "#f0f921"
             ]
            ],
            "type": "heatmap"
           }
          ],
          "heatmapgl": [
           {
            "colorbar": {
             "outlinewidth": 0,
             "ticks": ""
            },
            "colorscale": [
             [
              0,
              "#0d0887"
             ],
             [
              0.1111111111111111,
              "#46039f"
             ],
             [
              0.2222222222222222,
              "#7201a8"
             ],
             [
              0.3333333333333333,
              "#9c179e"
             ],
             [
              0.4444444444444444,
              "#bd3786"
             ],
             [
              0.5555555555555556,
              "#d8576b"
             ],
             [
              0.6666666666666666,
              "#ed7953"
             ],
             [
              0.7777777777777778,
              "#fb9f3a"
             ],
             [
              0.8888888888888888,
              "#fdca26"
             ],
             [
              1,
              "#f0f921"
             ]
            ],
            "type": "heatmapgl"
           }
          ],
          "histogram": [
           {
            "marker": {
             "colorbar": {
              "outlinewidth": 0,
              "ticks": ""
             }
            },
            "type": "histogram"
           }
          ],
          "histogram2d": [
           {
            "colorbar": {
             "outlinewidth": 0,
             "ticks": ""
            },
            "colorscale": [
             [
              0,
              "#0d0887"
             ],
             [
              0.1111111111111111,
              "#46039f"
             ],
             [
              0.2222222222222222,
              "#7201a8"
             ],
             [
              0.3333333333333333,
              "#9c179e"
             ],
             [
              0.4444444444444444,
              "#bd3786"
             ],
             [
              0.5555555555555556,
              "#d8576b"
             ],
             [
              0.6666666666666666,
              "#ed7953"
             ],
             [
              0.7777777777777778,
              "#fb9f3a"
             ],
             [
              0.8888888888888888,
              "#fdca26"
             ],
             [
              1,
              "#f0f921"
             ]
            ],
            "type": "histogram2d"
           }
          ],
          "histogram2dcontour": [
           {
            "colorbar": {
             "outlinewidth": 0,
             "ticks": ""
            },
            "colorscale": [
             [
              0,
              "#0d0887"
             ],
             [
              0.1111111111111111,
              "#46039f"
             ],
             [
              0.2222222222222222,
              "#7201a8"
             ],
             [
              0.3333333333333333,
              "#9c179e"
             ],
             [
              0.4444444444444444,
              "#bd3786"
             ],
             [
              0.5555555555555556,
              "#d8576b"
             ],
             [
              0.6666666666666666,
              "#ed7953"
             ],
             [
              0.7777777777777778,
              "#fb9f3a"
             ],
             [
              0.8888888888888888,
              "#fdca26"
             ],
             [
              1,
              "#f0f921"
             ]
            ],
            "type": "histogram2dcontour"
           }
          ],
          "mesh3d": [
           {
            "colorbar": {
             "outlinewidth": 0,
             "ticks": ""
            },
            "type": "mesh3d"
           }
          ],
          "parcoords": [
           {
            "line": {
             "colorbar": {
              "outlinewidth": 0,
              "ticks": ""
             }
            },
            "type": "parcoords"
           }
          ],
          "scatter": [
           {
            "marker": {
             "colorbar": {
              "outlinewidth": 0,
              "ticks": ""
             }
            },
            "type": "scatter"
           }
          ],
          "scatter3d": [
           {
            "line": {
             "colorbar": {
              "outlinewidth": 0,
              "ticks": ""
             }
            },
            "marker": {
             "colorbar": {
              "outlinewidth": 0,
              "ticks": ""
             }
            },
            "type": "scatter3d"
           }
          ],
          "scattercarpet": [
           {
            "marker": {
             "colorbar": {
              "outlinewidth": 0,
              "ticks": ""
             }
            },
            "type": "scattercarpet"
           }
          ],
          "scattergeo": [
           {
            "marker": {
             "colorbar": {
              "outlinewidth": 0,
              "ticks": ""
             }
            },
            "type": "scattergeo"
           }
          ],
          "scattergl": [
           {
            "marker": {
             "colorbar": {
              "outlinewidth": 0,
              "ticks": ""
             }
            },
            "type": "scattergl"
           }
          ],
          "scattermapbox": [
           {
            "marker": {
             "colorbar": {
              "outlinewidth": 0,
              "ticks": ""
             }
            },
            "type": "scattermapbox"
           }
          ],
          "scatterpolar": [
           {
            "marker": {
             "colorbar": {
              "outlinewidth": 0,
              "ticks": ""
             }
            },
            "type": "scatterpolar"
           }
          ],
          "scatterpolargl": [
           {
            "marker": {
             "colorbar": {
              "outlinewidth": 0,
              "ticks": ""
             }
            },
            "type": "scatterpolargl"
           }
          ],
          "scatterternary": [
           {
            "marker": {
             "colorbar": {
              "outlinewidth": 0,
              "ticks": ""
             }
            },
            "type": "scatterternary"
           }
          ],
          "surface": [
           {
            "colorbar": {
             "outlinewidth": 0,
             "ticks": ""
            },
            "colorscale": [
             [
              0,
              "#0d0887"
             ],
             [
              0.1111111111111111,
              "#46039f"
             ],
             [
              0.2222222222222222,
              "#7201a8"
             ],
             [
              0.3333333333333333,
              "#9c179e"
             ],
             [
              0.4444444444444444,
              "#bd3786"
             ],
             [
              0.5555555555555556,
              "#d8576b"
             ],
             [
              0.6666666666666666,
              "#ed7953"
             ],
             [
              0.7777777777777778,
              "#fb9f3a"
             ],
             [
              0.8888888888888888,
              "#fdca26"
             ],
             [
              1,
              "#f0f921"
             ]
            ],
            "type": "surface"
           }
          ],
          "table": [
           {
            "cells": {
             "fill": {
              "color": "#EBF0F8"
             },
             "line": {
              "color": "white"
             }
            },
            "header": {
             "fill": {
              "color": "#C8D4E3"
             },
             "line": {
              "color": "white"
             }
            },
            "type": "table"
           }
          ]
         },
         "layout": {
          "annotationdefaults": {
           "arrowcolor": "#2a3f5f",
           "arrowhead": 0,
           "arrowwidth": 1
          },
          "colorscale": {
           "diverging": [
            [
             0,
             "#8e0152"
            ],
            [
             0.1,
             "#c51b7d"
            ],
            [
             0.2,
             "#de77ae"
            ],
            [
             0.3,
             "#f1b6da"
            ],
            [
             0.4,
             "#fde0ef"
            ],
            [
             0.5,
             "#f7f7f7"
            ],
            [
             0.6,
             "#e6f5d0"
            ],
            [
             0.7,
             "#b8e186"
            ],
            [
             0.8,
             "#7fbc41"
            ],
            [
             0.9,
             "#4d9221"
            ],
            [
             1,
             "#276419"
            ]
           ],
           "sequential": [
            [
             0,
             "#0d0887"
            ],
            [
             0.1111111111111111,
             "#46039f"
            ],
            [
             0.2222222222222222,
             "#7201a8"
            ],
            [
             0.3333333333333333,
             "#9c179e"
            ],
            [
             0.4444444444444444,
             "#bd3786"
            ],
            [
             0.5555555555555556,
             "#d8576b"
            ],
            [
             0.6666666666666666,
             "#ed7953"
            ],
            [
             0.7777777777777778,
             "#fb9f3a"
            ],
            [
             0.8888888888888888,
             "#fdca26"
            ],
            [
             1,
             "#f0f921"
            ]
           ],
           "sequentialminus": [
            [
             0,
             "#0d0887"
            ],
            [
             0.1111111111111111,
             "#46039f"
            ],
            [
             0.2222222222222222,
             "#7201a8"
            ],
            [
             0.3333333333333333,
             "#9c179e"
            ],
            [
             0.4444444444444444,
             "#bd3786"
            ],
            [
             0.5555555555555556,
             "#d8576b"
            ],
            [
             0.6666666666666666,
             "#ed7953"
            ],
            [
             0.7777777777777778,
             "#fb9f3a"
            ],
            [
             0.8888888888888888,
             "#fdca26"
            ],
            [
             1,
             "#f0f921"
            ]
           ]
          },
          "colorway": [
           "#636efa",
           "#EF553B",
           "#00cc96",
           "#ab63fa",
           "#FFA15A",
           "#19d3f3",
           "#FF6692",
           "#B6E880",
           "#FF97FF",
           "#FECB52"
          ],
          "font": {
           "color": "#2a3f5f"
          },
          "geo": {
           "bgcolor": "white",
           "lakecolor": "white",
           "landcolor": "#E5ECF6",
           "showlakes": true,
           "showland": true,
           "subunitcolor": "white"
          },
          "hoverlabel": {
           "align": "left"
          },
          "hovermode": "closest",
          "mapbox": {
           "style": "light"
          },
          "paper_bgcolor": "white",
          "plot_bgcolor": "#E5ECF6",
          "polar": {
           "angularaxis": {
            "gridcolor": "white",
            "linecolor": "white",
            "ticks": ""
           },
           "bgcolor": "#E5ECF6",
           "radialaxis": {
            "gridcolor": "white",
            "linecolor": "white",
            "ticks": ""
           }
          },
          "scene": {
           "xaxis": {
            "backgroundcolor": "#E5ECF6",
            "gridcolor": "white",
            "gridwidth": 2,
            "linecolor": "white",
            "showbackground": true,
            "ticks": "",
            "zerolinecolor": "white"
           },
           "yaxis": {
            "backgroundcolor": "#E5ECF6",
            "gridcolor": "white",
            "gridwidth": 2,
            "linecolor": "white",
            "showbackground": true,
            "ticks": "",
            "zerolinecolor": "white"
           },
           "zaxis": {
            "backgroundcolor": "#E5ECF6",
            "gridcolor": "white",
            "gridwidth": 2,
            "linecolor": "white",
            "showbackground": true,
            "ticks": "",
            "zerolinecolor": "white"
           }
          },
          "shapedefaults": {
           "line": {
            "color": "#2a3f5f"
           }
          },
          "ternary": {
           "aaxis": {
            "gridcolor": "white",
            "linecolor": "white",
            "ticks": ""
           },
           "baxis": {
            "gridcolor": "white",
            "linecolor": "white",
            "ticks": ""
           },
           "bgcolor": "#E5ECF6",
           "caxis": {
            "gridcolor": "white",
            "linecolor": "white",
            "ticks": ""
           }
          },
          "title": {
           "x": 0.05
          },
          "xaxis": {
           "automargin": true,
           "gridcolor": "white",
           "linecolor": "white",
           "ticks": "",
           "zerolinecolor": "white",
           "zerolinewidth": 2
          },
          "yaxis": {
           "automargin": true,
           "gridcolor": "white",
           "linecolor": "white",
           "ticks": "",
           "zerolinecolor": "white",
           "zerolinewidth": 2
          }
         }
        },
        "title": {
         "text": "2019 US People per Taco-Serving Restaurant by State<br>(Hover for breakdown)"
        }
       }
      },
      "text/html": [
       "<div>\n",
       "        \n",
       "        \n",
       "            <div id=\"a0d1fea5-c9cd-4551-ac4c-ccc41c5dfd30\" class=\"plotly-graph-div\" style=\"height:525px; width:100%;\"></div>\n",
       "            <script type=\"text/javascript\">\n",
       "                require([\"plotly\"], function(Plotly) {\n",
       "                    window.PLOTLYENV=window.PLOTLYENV || {};\n",
       "                    \n",
       "                if (document.getElementById(\"a0d1fea5-c9cd-4551-ac4c-ccc41c5dfd30\")) {\n",
       "                    Plotly.newPlot(\n",
       "                        'a0d1fea5-c9cd-4551-ac4c-ccc41c5dfd30',\n",
       "                        [{\"autocolorscale\": false, \"colorbar\": {\"title\": {\"text\": \"People Per Available Restaurant\"}}, \"colorscale\": [[0.0, \"rgb(247,251,255)\"], [0.125, \"rgb(222,235,247)\"], [0.25, \"rgb(198,219,239)\"], [0.375, \"rgb(158,202,225)\"], [0.5, \"rgb(107,174,214)\"], [0.625, \"rgb(66,146,198)\"], [0.75, \"rgb(33,113,181)\"], [0.875, \"rgb(8,81,156)\"], [1.0, \"rgb(8,48,107)\"]], \"locationmode\": \"USA-states\", \"locations\": [\"AL\", \"AK\", \"AZ\", \"AR\", \"CA\", \"CO\", \"CT\", \"DC\", \"DE\", \"FL\", \"GA\", \"HI\", \"ID\", \"IL\", \"IN\", \"IA\", \"KS\", \"KY\", \"LA\", \"ME\", \"MD\", \"MA\", \"MI\", \"MN\", \"MS\", \"MO\", \"MT\", \"NE\", \"NV\", \"NH\", \"NJ\", \"NM\", \"NY\", \"NC\", \"ND\", \"OH\", \"OK\", \"OR\", \"PA\", \"RI\", \"SC\", \"SD\", \"TN\", \"TX\", \"UT\", \"VT\", \"VA\", \"WA\", \"WV\", \"WI\", \"WY\"], \"marker\": {\"line\": {\"color\": \"white\"}}, \"text\": [\"State: AL<br>Population: 4887871<br>Total Restaurant Earnings (billions): $9.0\", \"State: AK<br>Population: 737438<br>Total Restaurant Earnings (billions): $1.8\", \"State: AZ<br>Population: 7171646<br>Total Restaurant Earnings (billions): $14.7\", \"State: AR<br>Population: 3013825<br>Total Restaurant Earnings (billions): $4.9\", \"State: CA<br>Population: 39557045<br>Total Restaurant Earnings (billions): $97.0\", \"State: CO<br>Population: 5695564<br>Total Restaurant Earnings (billions): $13.9\", \"State: CT<br>Population: 3572665<br>Total Restaurant Earnings (billions): $8.2\", \"State: DC<br>Population: 967171<br>Total Restaurant Earnings (billions): $4.4\", \"State: DE<br>Population: 702455<br>Total Restaurant Earnings (billions): $2.2\", \"State: FL<br>Population: 21299325<br>Total Restaurant Earnings (billions): $50.1\", \"State: GA<br>Population: 10519475<br>Total Restaurant Earnings (billions): $22.9\", \"State: HI<br>Population: 1420491<br>Total Restaurant Earnings (billions): $5.6\", \"State: ID<br>Population: 1754208<br>Total Restaurant Earnings (billions): $2.9\", \"State: IL<br>Population: 12741080<br>Total Restaurant Earnings (billions): $30.1\", \"State: IN<br>Population: 6691878<br>Total Restaurant Earnings (billions): $12.8\", \"State: IA<br>Population: 3156145<br>Total Restaurant Earnings (billions): $4.7\", \"State: KS<br>Population: 2911505<br>Total Restaurant Earnings (billions): $5.2\", \"State: KY<br>Population: 4468402<br>Total Restaurant Earnings (billions): $8.5\", \"State: LA<br>Population: 4659978<br>Total Restaurant Earnings (billions): $10.3\", \"State: ME<br>Population: 1338404<br>Total Restaurant Earnings (billions): $2.5\", \"State: MD<br>Population: 6042718<br>Total Restaurant Earnings (billions): $13.3\", \"State: MA<br>Population: 6902149<br>Total Restaurant Earnings (billions): $18.0\", \"State: MI<br>Population: 9995915<br>Total Restaurant Earnings (billions): $17.9\", \"State: MN<br>Population: 5611179<br>Total Restaurant Earnings (billions): $10.7\", \"State: MS<br>Population: 2986530<br>Total Restaurant Earnings (billions): $5.1\", \"State: MO<br>Population: 6126452<br>Total Restaurant Earnings (billions): $11.7\", \"State: MT<br>Population: 1062305<br>Total Restaurant Earnings (billions): $2.3\", \"State: NE<br>Population: 1929268<br>Total Restaurant Earnings (billions): $3.3\", \"State: NV<br>Population: 3034392<br>Total Restaurant Earnings (billions): $9.9\", \"State: NH<br>Population: 1356458<br>Total Restaurant Earnings (billions): $3.0\", \"State: NJ<br>Population: 8908520<br>Total Restaurant Earnings (billions): $18.1\", \"State: NM<br>Population: 2095428<br>Total Restaurant Earnings (billions): $4.0\", \"State: NY<br>Population: 19542209<br>Total Restaurant Earnings (billions): $51.6\", \"State: NC<br>Population: 10383620<br>Total Restaurant Earnings (billions): $21.4\", \"State: ND<br>Population: 760077<br>Total Restaurant Earnings (billions): $1.4\", \"State: OH<br>Population: 11689442<br>Total Restaurant Earnings (billions): $24.2\", \"State: OK<br>Population: 3943079<br>Total Restaurant Earnings (billions): $7.6\", \"State: OR<br>Population: 4190713<br>Total Restaurant Earnings (billions): $9.7\", \"State: PA<br>Population: 12807060<br>Total Restaurant Earnings (billions): $24.0\", \"State: RI<br>Population: 1057315<br>Total Restaurant Earnings (billions): $2.7\", \"State: SC<br>Population: 5084127<br>Total Restaurant Earnings (billions): $10.7\", \"State: SD<br>Population: 882235<br>Total Restaurant Earnings (billions): $1.5\", \"State: TN<br>Population: 6770010<br>Total Restaurant Earnings (billions): $14.2\", \"State: TX<br>Population: 28701845<br>Total Restaurant Earnings (billions): $66.0\", \"State: UT<br>Population: 3161105<br>Total Restaurant Earnings (billions): $5.5\", \"State: VT<br>Population: 626299<br>Total Restaurant Earnings (billions): $1.1\", \"State: VA<br>Population: 8517685<br>Total Restaurant Earnings (billions): $18.1\", \"State: WA<br>Population: 7535591<br>Total Restaurant Earnings (billions): $13.5\", \"State: WV<br>Population: 1805832<br>Total Restaurant Earnings (billions): $2.8\", \"State: WI<br>Population: 5813568<br>Total Restaurant Earnings (billions): $10.1\", \"State: WY<br>Population: 577737<br>Total Restaurant Earnings (billions): $1.1\"], \"type\": \"choropleth\", \"z\": [\"30549\", \"105348\", \"11680\", \"21527\", \"7968\", \"11890\", \"20299\", \"9575\", \"17133\", \"23639\", \"23962\", \"17980\", \"17198\", \"14971\", \"21586\", \"17632\", \"17972\", \"29592\", \"26179\", \"22306\", \"22134\", \"15977\", \"21267\", \"21416\", \"39296\", \"20086\", \"19314\", \"20970\", \"10047\", \"15071\", \"24814\", \"10801\", \"22670\", \"24036\", \"44710\", \"28580\", \"18687\", \"11804\", \"28271\", \"17053\", \"25548\", \"30421\", \"23425\", \"16658\", \"21651\", \"36841\", \"22414\", \"17814\", \"36116\", \"22104\", \"14091\"]}],\n",
       "                        {\"geo\": {\"lakecolor\": \"rgb(255, 255, 255)\", \"projection\": {\"type\": \"albers usa\"}, \"scope\": \"usa\", \"showlakes\": true}, \"template\": {\"data\": {\"bar\": [{\"error_x\": {\"color\": \"#2a3f5f\"}, \"error_y\": {\"color\": \"#2a3f5f\"}, \"marker\": {\"line\": {\"color\": \"#E5ECF6\", \"width\": 0.5}}, \"type\": \"bar\"}], \"barpolar\": [{\"marker\": {\"line\": {\"color\": \"#E5ECF6\", \"width\": 0.5}}, \"type\": \"barpolar\"}], \"carpet\": [{\"aaxis\": {\"endlinecolor\": \"#2a3f5f\", \"gridcolor\": \"white\", \"linecolor\": \"white\", \"minorgridcolor\": \"white\", \"startlinecolor\": \"#2a3f5f\"}, \"baxis\": {\"endlinecolor\": \"#2a3f5f\", \"gridcolor\": \"white\", \"linecolor\": \"white\", \"minorgridcolor\": \"white\", \"startlinecolor\": \"#2a3f5f\"}, \"type\": \"carpet\"}], \"choropleth\": [{\"colorbar\": {\"outlinewidth\": 0, \"ticks\": \"\"}, \"type\": \"choropleth\"}], \"contour\": [{\"colorbar\": {\"outlinewidth\": 0, \"ticks\": \"\"}, \"colorscale\": [[0.0, \"#0d0887\"], [0.1111111111111111, \"#46039f\"], [0.2222222222222222, \"#7201a8\"], [0.3333333333333333, \"#9c179e\"], [0.4444444444444444, \"#bd3786\"], [0.5555555555555556, \"#d8576b\"], [0.6666666666666666, \"#ed7953\"], [0.7777777777777778, \"#fb9f3a\"], [0.8888888888888888, \"#fdca26\"], [1.0, \"#f0f921\"]], \"type\": \"contour\"}], \"contourcarpet\": [{\"colorbar\": {\"outlinewidth\": 0, \"ticks\": \"\"}, \"type\": \"contourcarpet\"}], \"heatmap\": [{\"colorbar\": {\"outlinewidth\": 0, \"ticks\": \"\"}, \"colorscale\": [[0.0, \"#0d0887\"], [0.1111111111111111, \"#46039f\"], [0.2222222222222222, \"#7201a8\"], [0.3333333333333333, \"#9c179e\"], [0.4444444444444444, \"#bd3786\"], [0.5555555555555556, \"#d8576b\"], [0.6666666666666666, \"#ed7953\"], [0.7777777777777778, \"#fb9f3a\"], [0.8888888888888888, \"#fdca26\"], [1.0, \"#f0f921\"]], \"type\": \"heatmap\"}], \"heatmapgl\": [{\"colorbar\": {\"outlinewidth\": 0, \"ticks\": \"\"}, \"colorscale\": [[0.0, \"#0d0887\"], [0.1111111111111111, \"#46039f\"], [0.2222222222222222, \"#7201a8\"], [0.3333333333333333, \"#9c179e\"], [0.4444444444444444, \"#bd3786\"], [0.5555555555555556, \"#d8576b\"], [0.6666666666666666, \"#ed7953\"], [0.7777777777777778, \"#fb9f3a\"], [0.8888888888888888, \"#fdca26\"], [1.0, \"#f0f921\"]], \"type\": \"heatmapgl\"}], \"histogram\": [{\"marker\": {\"colorbar\": {\"outlinewidth\": 0, \"ticks\": \"\"}}, \"type\": \"histogram\"}], \"histogram2d\": [{\"colorbar\": {\"outlinewidth\": 0, \"ticks\": \"\"}, \"colorscale\": [[0.0, \"#0d0887\"], [0.1111111111111111, \"#46039f\"], [0.2222222222222222, \"#7201a8\"], [0.3333333333333333, \"#9c179e\"], [0.4444444444444444, \"#bd3786\"], [0.5555555555555556, \"#d8576b\"], [0.6666666666666666, \"#ed7953\"], [0.7777777777777778, \"#fb9f3a\"], [0.8888888888888888, \"#fdca26\"], [1.0, \"#f0f921\"]], \"type\": \"histogram2d\"}], \"histogram2dcontour\": [{\"colorbar\": {\"outlinewidth\": 0, \"ticks\": \"\"}, \"colorscale\": [[0.0, \"#0d0887\"], [0.1111111111111111, \"#46039f\"], [0.2222222222222222, \"#7201a8\"], [0.3333333333333333, \"#9c179e\"], [0.4444444444444444, \"#bd3786\"], [0.5555555555555556, \"#d8576b\"], [0.6666666666666666, \"#ed7953\"], [0.7777777777777778, \"#fb9f3a\"], [0.8888888888888888, \"#fdca26\"], [1.0, \"#f0f921\"]], \"type\": \"histogram2dcontour\"}], \"mesh3d\": [{\"colorbar\": {\"outlinewidth\": 0, \"ticks\": \"\"}, \"type\": \"mesh3d\"}], \"parcoords\": [{\"line\": {\"colorbar\": {\"outlinewidth\": 0, \"ticks\": \"\"}}, \"type\": \"parcoords\"}], \"scatter\": [{\"marker\": {\"colorbar\": {\"outlinewidth\": 0, \"ticks\": \"\"}}, \"type\": \"scatter\"}], \"scatter3d\": [{\"line\": {\"colorbar\": {\"outlinewidth\": 0, \"ticks\": \"\"}}, \"marker\": {\"colorbar\": {\"outlinewidth\": 0, \"ticks\": \"\"}}, \"type\": \"scatter3d\"}], \"scattercarpet\": [{\"marker\": {\"colorbar\": {\"outlinewidth\": 0, \"ticks\": \"\"}}, \"type\": \"scattercarpet\"}], \"scattergeo\": [{\"marker\": {\"colorbar\": {\"outlinewidth\": 0, \"ticks\": \"\"}}, \"type\": \"scattergeo\"}], \"scattergl\": [{\"marker\": {\"colorbar\": {\"outlinewidth\": 0, \"ticks\": \"\"}}, \"type\": \"scattergl\"}], \"scattermapbox\": [{\"marker\": {\"colorbar\": {\"outlinewidth\": 0, \"ticks\": \"\"}}, \"type\": \"scattermapbox\"}], \"scatterpolar\": [{\"marker\": {\"colorbar\": {\"outlinewidth\": 0, \"ticks\": \"\"}}, \"type\": \"scatterpolar\"}], \"scatterpolargl\": [{\"marker\": {\"colorbar\": {\"outlinewidth\": 0, \"ticks\": \"\"}}, \"type\": \"scatterpolargl\"}], \"scatterternary\": [{\"marker\": {\"colorbar\": {\"outlinewidth\": 0, \"ticks\": \"\"}}, \"type\": \"scatterternary\"}], \"surface\": [{\"colorbar\": {\"outlinewidth\": 0, \"ticks\": \"\"}, \"colorscale\": [[0.0, \"#0d0887\"], [0.1111111111111111, \"#46039f\"], [0.2222222222222222, \"#7201a8\"], [0.3333333333333333, \"#9c179e\"], [0.4444444444444444, \"#bd3786\"], [0.5555555555555556, \"#d8576b\"], [0.6666666666666666, \"#ed7953\"], [0.7777777777777778, \"#fb9f3a\"], [0.8888888888888888, \"#fdca26\"], [1.0, \"#f0f921\"]], \"type\": \"surface\"}], \"table\": [{\"cells\": {\"fill\": {\"color\": \"#EBF0F8\"}, \"line\": {\"color\": \"white\"}}, \"header\": {\"fill\": {\"color\": \"#C8D4E3\"}, \"line\": {\"color\": \"white\"}}, \"type\": \"table\"}]}, \"layout\": {\"annotationdefaults\": {\"arrowcolor\": \"#2a3f5f\", \"arrowhead\": 0, \"arrowwidth\": 1}, \"colorscale\": {\"diverging\": [[0, \"#8e0152\"], [0.1, \"#c51b7d\"], [0.2, \"#de77ae\"], [0.3, \"#f1b6da\"], [0.4, \"#fde0ef\"], [0.5, \"#f7f7f7\"], [0.6, \"#e6f5d0\"], [0.7, \"#b8e186\"], [0.8, \"#7fbc41\"], [0.9, \"#4d9221\"], [1, \"#276419\"]], \"sequential\": [[0.0, \"#0d0887\"], [0.1111111111111111, \"#46039f\"], [0.2222222222222222, \"#7201a8\"], [0.3333333333333333, \"#9c179e\"], [0.4444444444444444, \"#bd3786\"], [0.5555555555555556, \"#d8576b\"], [0.6666666666666666, \"#ed7953\"], [0.7777777777777778, \"#fb9f3a\"], [0.8888888888888888, \"#fdca26\"], [1.0, \"#f0f921\"]], \"sequentialminus\": [[0.0, \"#0d0887\"], [0.1111111111111111, \"#46039f\"], [0.2222222222222222, \"#7201a8\"], [0.3333333333333333, \"#9c179e\"], [0.4444444444444444, \"#bd3786\"], [0.5555555555555556, \"#d8576b\"], [0.6666666666666666, \"#ed7953\"], [0.7777777777777778, \"#fb9f3a\"], [0.8888888888888888, \"#fdca26\"], [1.0, \"#f0f921\"]]}, \"colorway\": [\"#636efa\", \"#EF553B\", \"#00cc96\", \"#ab63fa\", \"#FFA15A\", \"#19d3f3\", \"#FF6692\", \"#B6E880\", \"#FF97FF\", \"#FECB52\"], \"font\": {\"color\": \"#2a3f5f\"}, \"geo\": {\"bgcolor\": \"white\", \"lakecolor\": \"white\", \"landcolor\": \"#E5ECF6\", \"showlakes\": true, \"showland\": true, \"subunitcolor\": \"white\"}, \"hoverlabel\": {\"align\": \"left\"}, \"hovermode\": \"closest\", \"mapbox\": {\"style\": \"light\"}, \"paper_bgcolor\": \"white\", \"plot_bgcolor\": \"#E5ECF6\", \"polar\": {\"angularaxis\": {\"gridcolor\": \"white\", \"linecolor\": \"white\", \"ticks\": \"\"}, \"bgcolor\": \"#E5ECF6\", \"radialaxis\": {\"gridcolor\": \"white\", \"linecolor\": \"white\", \"ticks\": \"\"}}, \"scene\": {\"xaxis\": {\"backgroundcolor\": \"#E5ECF6\", \"gridcolor\": \"white\", \"gridwidth\": 2, \"linecolor\": \"white\", \"showbackground\": true, \"ticks\": \"\", \"zerolinecolor\": \"white\"}, \"yaxis\": {\"backgroundcolor\": \"#E5ECF6\", \"gridcolor\": \"white\", \"gridwidth\": 2, \"linecolor\": \"white\", \"showbackground\": true, \"ticks\": \"\", \"zerolinecolor\": \"white\"}, \"zaxis\": {\"backgroundcolor\": \"#E5ECF6\", \"gridcolor\": \"white\", \"gridwidth\": 2, \"linecolor\": \"white\", \"showbackground\": true, \"ticks\": \"\", \"zerolinecolor\": \"white\"}}, \"shapedefaults\": {\"line\": {\"color\": \"#2a3f5f\"}}, \"ternary\": {\"aaxis\": {\"gridcolor\": \"white\", \"linecolor\": \"white\", \"ticks\": \"\"}, \"baxis\": {\"gridcolor\": \"white\", \"linecolor\": \"white\", \"ticks\": \"\"}, \"bgcolor\": \"#E5ECF6\", \"caxis\": {\"gridcolor\": \"white\", \"linecolor\": \"white\", \"ticks\": \"\"}}, \"title\": {\"x\": 0.05}, \"xaxis\": {\"automargin\": true, \"gridcolor\": \"white\", \"linecolor\": \"white\", \"ticks\": \"\", \"zerolinecolor\": \"white\", \"zerolinewidth\": 2}, \"yaxis\": {\"automargin\": true, \"gridcolor\": \"white\", \"linecolor\": \"white\", \"ticks\": \"\", \"zerolinecolor\": \"white\", \"zerolinewidth\": 2}}}, \"title\": {\"text\": \"2019 US People per Taco-Serving Restaurant by State<br>(Hover for breakdown)\"}},\n",
       "                        {\"responsive\": true}\n",
       "                    ).then(function(){\n",
       "                            \n",
       "var gd = document.getElementById('a0d1fea5-c9cd-4551-ac4c-ccc41c5dfd30');\n",
       "var x = new MutationObserver(function (mutations, observer) {{\n",
       "        var display = window.getComputedStyle(gd).display;\n",
       "        if (!display || display === 'none') {{\n",
       "            console.log([gd, 'removed!']);\n",
       "            Plotly.purge(gd);\n",
       "            observer.disconnect();\n",
       "        }}\n",
       "}});\n",
       "\n",
       "// Listen for the removal of the full notebook cells\n",
       "var notebookContainer = gd.closest('#notebook-container');\n",
       "if (notebookContainer) {{\n",
       "    x.observe(notebookContainer, {childList: true});\n",
       "}}\n",
       "\n",
       "// Listen for the clearing of the current output cell\n",
       "var outputEl = gd.closest('.output');\n",
       "if (outputEl) {{\n",
       "    x.observe(outputEl, {childList: true});\n",
       "}}\n",
       "\n",
       "                        })\n",
       "                };\n",
       "                });\n",
       "            </script>\n",
       "        </div>"
      ]
     },
     "metadata": {},
     "output_type": "display_data"
    },
    {
     "data": {
      "application/vnd.plotly.v1+json": {
       "config": {
        "plotlyServerURL": "https://plot.ly"
       },
       "data": [
        {
         "autocolorscale": false,
         "colorbar": {
          "title": {
           "text": "Percentage of Taco-Serving Restaurants"
          }
         },
         "colorscale": [
          [
           0,
           "rgb(247,252,245)"
          ],
          [
           0.125,
           "rgb(229,245,224)"
          ],
          [
           0.25,
           "rgb(199,233,192)"
          ],
          [
           0.375,
           "rgb(161,217,155)"
          ],
          [
           0.5,
           "rgb(116,196,118)"
          ],
          [
           0.625,
           "rgb(65,171,93)"
          ],
          [
           0.75,
           "rgb(35,139,69)"
          ],
          [
           0.875,
           "rgb(0,109,44)"
          ],
          [
           1,
           "rgb(0,68,27)"
          ]
         ],
         "locationmode": "USA-states",
         "locations": [
          "AL",
          "AK",
          "AZ",
          "AR",
          "CA",
          "CO",
          "CT",
          "DC",
          "DE",
          "FL",
          "GA",
          "HI",
          "ID",
          "IL",
          "IN",
          "IA",
          "KS",
          "KY",
          "LA",
          "ME",
          "MD",
          "MA",
          "MI",
          "MN",
          "MS",
          "MO",
          "MT",
          "NE",
          "NV",
          "NH",
          "NJ",
          "NM",
          "NY",
          "NC",
          "ND",
          "OH",
          "OK",
          "OR",
          "PA",
          "RI",
          "SC",
          "SD",
          "TN",
          "TX",
          "UT",
          "VT",
          "VA",
          "WA",
          "WV",
          "WI",
          "WY"
         ],
         "marker": {
          "line": {
           "color": "white"
          }
         },
         "text": [
          "State: AL<br>Population: 4887871<br>Total Restaurant Earnings (billions): $9.0",
          "State: AK<br>Population: 737438<br>Total Restaurant Earnings (billions): $1.8",
          "State: AZ<br>Population: 7171646<br>Total Restaurant Earnings (billions): $14.7",
          "State: AR<br>Population: 3013825<br>Total Restaurant Earnings (billions): $4.9",
          "State: CA<br>Population: 39557045<br>Total Restaurant Earnings (billions): $97.0",
          "State: CO<br>Population: 5695564<br>Total Restaurant Earnings (billions): $13.9",
          "State: CT<br>Population: 3572665<br>Total Restaurant Earnings (billions): $8.2",
          "State: DC<br>Population: 967171<br>Total Restaurant Earnings (billions): $4.4",
          "State: DE<br>Population: 702455<br>Total Restaurant Earnings (billions): $2.2",
          "State: FL<br>Population: 21299325<br>Total Restaurant Earnings (billions): $50.1",
          "State: GA<br>Population: 10519475<br>Total Restaurant Earnings (billions): $22.9",
          "State: HI<br>Population: 1420491<br>Total Restaurant Earnings (billions): $5.6",
          "State: ID<br>Population: 1754208<br>Total Restaurant Earnings (billions): $2.9",
          "State: IL<br>Population: 12741080<br>Total Restaurant Earnings (billions): $30.1",
          "State: IN<br>Population: 6691878<br>Total Restaurant Earnings (billions): $12.8",
          "State: IA<br>Population: 3156145<br>Total Restaurant Earnings (billions): $4.7",
          "State: KS<br>Population: 2911505<br>Total Restaurant Earnings (billions): $5.2",
          "State: KY<br>Population: 4468402<br>Total Restaurant Earnings (billions): $8.5",
          "State: LA<br>Population: 4659978<br>Total Restaurant Earnings (billions): $10.3",
          "State: ME<br>Population: 1338404<br>Total Restaurant Earnings (billions): $2.5",
          "State: MD<br>Population: 6042718<br>Total Restaurant Earnings (billions): $13.3",
          "State: MA<br>Population: 6902149<br>Total Restaurant Earnings (billions): $18.0",
          "State: MI<br>Population: 9995915<br>Total Restaurant Earnings (billions): $17.9",
          "State: MN<br>Population: 5611179<br>Total Restaurant Earnings (billions): $10.7",
          "State: MS<br>Population: 2986530<br>Total Restaurant Earnings (billions): $5.1",
          "State: MO<br>Population: 6126452<br>Total Restaurant Earnings (billions): $11.7",
          "State: MT<br>Population: 1062305<br>Total Restaurant Earnings (billions): $2.3",
          "State: NE<br>Population: 1929268<br>Total Restaurant Earnings (billions): $3.3",
          "State: NV<br>Population: 3034392<br>Total Restaurant Earnings (billions): $9.9",
          "State: NH<br>Population: 1356458<br>Total Restaurant Earnings (billions): $3.0",
          "State: NJ<br>Population: 8908520<br>Total Restaurant Earnings (billions): $18.1",
          "State: NM<br>Population: 2095428<br>Total Restaurant Earnings (billions): $4.0",
          "State: NY<br>Population: 19542209<br>Total Restaurant Earnings (billions): $51.6",
          "State: NC<br>Population: 10383620<br>Total Restaurant Earnings (billions): $21.4",
          "State: ND<br>Population: 760077<br>Total Restaurant Earnings (billions): $1.4",
          "State: OH<br>Population: 11689442<br>Total Restaurant Earnings (billions): $24.2",
          "State: OK<br>Population: 3943079<br>Total Restaurant Earnings (billions): $7.6",
          "State: OR<br>Population: 4190713<br>Total Restaurant Earnings (billions): $9.7",
          "State: PA<br>Population: 12807060<br>Total Restaurant Earnings (billions): $24.0",
          "State: RI<br>Population: 1057315<br>Total Restaurant Earnings (billions): $2.7",
          "State: SC<br>Population: 5084127<br>Total Restaurant Earnings (billions): $10.7",
          "State: SD<br>Population: 882235<br>Total Restaurant Earnings (billions): $1.5",
          "State: TN<br>Population: 6770010<br>Total Restaurant Earnings (billions): $14.2",
          "State: TX<br>Population: 28701845<br>Total Restaurant Earnings (billions): $66.0",
          "State: UT<br>Population: 3161105<br>Total Restaurant Earnings (billions): $5.5",
          "State: VT<br>Population: 626299<br>Total Restaurant Earnings (billions): $1.1",
          "State: VA<br>Population: 8517685<br>Total Restaurant Earnings (billions): $18.1",
          "State: WA<br>Population: 7535591<br>Total Restaurant Earnings (billions): $13.5",
          "State: WV<br>Population: 1805832<br>Total Restaurant Earnings (billions): $2.8",
          "State: WI<br>Population: 5813568<br>Total Restaurant Earnings (billions): $10.1",
          "State: WY<br>Population: 577737<br>Total Restaurant Earnings (billions): $1.1"
         ],
         "type": "choropleth",
         "z": [
          1.8561484918793503,
          1.443298969072165,
          5.9721816943877055,
          2.64750378214826,
          6.514350205377882,
          3.9813814313024687,
          2.1212486440882246,
          4.110704110704111,
          2.0675743822491177,
          2.178117294396364,
          2.3854806281584526,
          2.155525238744884,
          3.0132939438700146,
          3.3388261142498434,
          2.5418169891767795,
          2.8480509148766906,
          3.040540540540541,
          1.9728246668408673,
          1.8671981537816007,
          1.8593120545398203,
          2.4038038214317163,
          2.7346964613534213,
          2.8410808196820407,
          2.452953843273102,
          1.5570579799221471,
          2.7232142857142856,
          1.9427764040974922,
          2.236810114271821,
          5.050167224080267,
          2.8319697923222154,
          1.884514435695538,
          5.594002306805075,
          1.718740653599984,
          2.2149302707136997,
          0.9792626728110598,
          1.813988557235996,
          2.9857082213103157,
          3.3951798010711554,
          1.7063432273617598,
          2.118209771096686,
          2.058123901127314,
          1.54419595314164,
          2.471564183699649,
          3.5848035952063912,
          2.7735562310030395,
          1.203113941967445,
          2.4505062229960664,
          2.6959847036328872,
          1.5192950470981463,
          2.05532979055955,
          3.0642750373692076
         ]
        }
       ],
       "layout": {
        "geo": {
         "lakecolor": "rgb(255, 255, 255)",
         "projection": {
          "type": "albers usa"
         },
         "scope": "usa",
         "showlakes": true
        },
        "template": {
         "data": {
          "bar": [
           {
            "error_x": {
             "color": "#2a3f5f"
            },
            "error_y": {
             "color": "#2a3f5f"
            },
            "marker": {
             "line": {
              "color": "#E5ECF6",
              "width": 0.5
             }
            },
            "type": "bar"
           }
          ],
          "barpolar": [
           {
            "marker": {
             "line": {
              "color": "#E5ECF6",
              "width": 0.5
             }
            },
            "type": "barpolar"
           }
          ],
          "carpet": [
           {
            "aaxis": {
             "endlinecolor": "#2a3f5f",
             "gridcolor": "white",
             "linecolor": "white",
             "minorgridcolor": "white",
             "startlinecolor": "#2a3f5f"
            },
            "baxis": {
             "endlinecolor": "#2a3f5f",
             "gridcolor": "white",
             "linecolor": "white",
             "minorgridcolor": "white",
             "startlinecolor": "#2a3f5f"
            },
            "type": "carpet"
           }
          ],
          "choropleth": [
           {
            "colorbar": {
             "outlinewidth": 0,
             "ticks": ""
            },
            "type": "choropleth"
           }
          ],
          "contour": [
           {
            "colorbar": {
             "outlinewidth": 0,
             "ticks": ""
            },
            "colorscale": [
             [
              0,
              "#0d0887"
             ],
             [
              0.1111111111111111,
              "#46039f"
             ],
             [
              0.2222222222222222,
              "#7201a8"
             ],
             [
              0.3333333333333333,
              "#9c179e"
             ],
             [
              0.4444444444444444,
              "#bd3786"
             ],
             [
              0.5555555555555556,
              "#d8576b"
             ],
             [
              0.6666666666666666,
              "#ed7953"
             ],
             [
              0.7777777777777778,
              "#fb9f3a"
             ],
             [
              0.8888888888888888,
              "#fdca26"
             ],
             [
              1,
              "#f0f921"
             ]
            ],
            "type": "contour"
           }
          ],
          "contourcarpet": [
           {
            "colorbar": {
             "outlinewidth": 0,
             "ticks": ""
            },
            "type": "contourcarpet"
           }
          ],
          "heatmap": [
           {
            "colorbar": {
             "outlinewidth": 0,
             "ticks": ""
            },
            "colorscale": [
             [
              0,
              "#0d0887"
             ],
             [
              0.1111111111111111,
              "#46039f"
             ],
             [
              0.2222222222222222,
              "#7201a8"
             ],
             [
              0.3333333333333333,
              "#9c179e"
             ],
             [
              0.4444444444444444,
              "#bd3786"
             ],
             [
              0.5555555555555556,
              "#d8576b"
             ],
             [
              0.6666666666666666,
              "#ed7953"
             ],
             [
              0.7777777777777778,
              "#fb9f3a"
             ],
             [
              0.8888888888888888,
              "#fdca26"
             ],
             [
              1,
              "#f0f921"
             ]
            ],
            "type": "heatmap"
           }
          ],
          "heatmapgl": [
           {
            "colorbar": {
             "outlinewidth": 0,
             "ticks": ""
            },
            "colorscale": [
             [
              0,
              "#0d0887"
             ],
             [
              0.1111111111111111,
              "#46039f"
             ],
             [
              0.2222222222222222,
              "#7201a8"
             ],
             [
              0.3333333333333333,
              "#9c179e"
             ],
             [
              0.4444444444444444,
              "#bd3786"
             ],
             [
              0.5555555555555556,
              "#d8576b"
             ],
             [
              0.6666666666666666,
              "#ed7953"
             ],
             [
              0.7777777777777778,
              "#fb9f3a"
             ],
             [
              0.8888888888888888,
              "#fdca26"
             ],
             [
              1,
              "#f0f921"
             ]
            ],
            "type": "heatmapgl"
           }
          ],
          "histogram": [
           {
            "marker": {
             "colorbar": {
              "outlinewidth": 0,
              "ticks": ""
             }
            },
            "type": "histogram"
           }
          ],
          "histogram2d": [
           {
            "colorbar": {
             "outlinewidth": 0,
             "ticks": ""
            },
            "colorscale": [
             [
              0,
              "#0d0887"
             ],
             [
              0.1111111111111111,
              "#46039f"
             ],
             [
              0.2222222222222222,
              "#7201a8"
             ],
             [
              0.3333333333333333,
              "#9c179e"
             ],
             [
              0.4444444444444444,
              "#bd3786"
             ],
             [
              0.5555555555555556,
              "#d8576b"
             ],
             [
              0.6666666666666666,
              "#ed7953"
             ],
             [
              0.7777777777777778,
              "#fb9f3a"
             ],
             [
              0.8888888888888888,
              "#fdca26"
             ],
             [
              1,
              "#f0f921"
             ]
            ],
            "type": "histogram2d"
           }
          ],
          "histogram2dcontour": [
           {
            "colorbar": {
             "outlinewidth": 0,
             "ticks": ""
            },
            "colorscale": [
             [
              0,
              "#0d0887"
             ],
             [
              0.1111111111111111,
              "#46039f"
             ],
             [
              0.2222222222222222,
              "#7201a8"
             ],
             [
              0.3333333333333333,
              "#9c179e"
             ],
             [
              0.4444444444444444,
              "#bd3786"
             ],
             [
              0.5555555555555556,
              "#d8576b"
             ],
             [
              0.6666666666666666,
              "#ed7953"
             ],
             [
              0.7777777777777778,
              "#fb9f3a"
             ],
             [
              0.8888888888888888,
              "#fdca26"
             ],
             [
              1,
              "#f0f921"
             ]
            ],
            "type": "histogram2dcontour"
           }
          ],
          "mesh3d": [
           {
            "colorbar": {
             "outlinewidth": 0,
             "ticks": ""
            },
            "type": "mesh3d"
           }
          ],
          "parcoords": [
           {
            "line": {
             "colorbar": {
              "outlinewidth": 0,
              "ticks": ""
             }
            },
            "type": "parcoords"
           }
          ],
          "scatter": [
           {
            "marker": {
             "colorbar": {
              "outlinewidth": 0,
              "ticks": ""
             }
            },
            "type": "scatter"
           }
          ],
          "scatter3d": [
           {
            "line": {
             "colorbar": {
              "outlinewidth": 0,
              "ticks": ""
             }
            },
            "marker": {
             "colorbar": {
              "outlinewidth": 0,
              "ticks": ""
             }
            },
            "type": "scatter3d"
           }
          ],
          "scattercarpet": [
           {
            "marker": {
             "colorbar": {
              "outlinewidth": 0,
              "ticks": ""
             }
            },
            "type": "scattercarpet"
           }
          ],
          "scattergeo": [
           {
            "marker": {
             "colorbar": {
              "outlinewidth": 0,
              "ticks": ""
             }
            },
            "type": "scattergeo"
           }
          ],
          "scattergl": [
           {
            "marker": {
             "colorbar": {
              "outlinewidth": 0,
              "ticks": ""
             }
            },
            "type": "scattergl"
           }
          ],
          "scattermapbox": [
           {
            "marker": {
             "colorbar": {
              "outlinewidth": 0,
              "ticks": ""
             }
            },
            "type": "scattermapbox"
           }
          ],
          "scatterpolar": [
           {
            "marker": {
             "colorbar": {
              "outlinewidth": 0,
              "ticks": ""
             }
            },
            "type": "scatterpolar"
           }
          ],
          "scatterpolargl": [
           {
            "marker": {
             "colorbar": {
              "outlinewidth": 0,
              "ticks": ""
             }
            },
            "type": "scatterpolargl"
           }
          ],
          "scatterternary": [
           {
            "marker": {
             "colorbar": {
              "outlinewidth": 0,
              "ticks": ""
             }
            },
            "type": "scatterternary"
           }
          ],
          "surface": [
           {
            "colorbar": {
             "outlinewidth": 0,
             "ticks": ""
            },
            "colorscale": [
             [
              0,
              "#0d0887"
             ],
             [
              0.1111111111111111,
              "#46039f"
             ],
             [
              0.2222222222222222,
              "#7201a8"
             ],
             [
              0.3333333333333333,
              "#9c179e"
             ],
             [
              0.4444444444444444,
              "#bd3786"
             ],
             [
              0.5555555555555556,
              "#d8576b"
             ],
             [
              0.6666666666666666,
              "#ed7953"
             ],
             [
              0.7777777777777778,
              "#fb9f3a"
             ],
             [
              0.8888888888888888,
              "#fdca26"
             ],
             [
              1,
              "#f0f921"
             ]
            ],
            "type": "surface"
           }
          ],
          "table": [
           {
            "cells": {
             "fill": {
              "color": "#EBF0F8"
             },
             "line": {
              "color": "white"
             }
            },
            "header": {
             "fill": {
              "color": "#C8D4E3"
             },
             "line": {
              "color": "white"
             }
            },
            "type": "table"
           }
          ]
         },
         "layout": {
          "annotationdefaults": {
           "arrowcolor": "#2a3f5f",
           "arrowhead": 0,
           "arrowwidth": 1
          },
          "colorscale": {
           "diverging": [
            [
             0,
             "#8e0152"
            ],
            [
             0.1,
             "#c51b7d"
            ],
            [
             0.2,
             "#de77ae"
            ],
            [
             0.3,
             "#f1b6da"
            ],
            [
             0.4,
             "#fde0ef"
            ],
            [
             0.5,
             "#f7f7f7"
            ],
            [
             0.6,
             "#e6f5d0"
            ],
            [
             0.7,
             "#b8e186"
            ],
            [
             0.8,
             "#7fbc41"
            ],
            [
             0.9,
             "#4d9221"
            ],
            [
             1,
             "#276419"
            ]
           ],
           "sequential": [
            [
             0,
             "#0d0887"
            ],
            [
             0.1111111111111111,
             "#46039f"
            ],
            [
             0.2222222222222222,
             "#7201a8"
            ],
            [
             0.3333333333333333,
             "#9c179e"
            ],
            [
             0.4444444444444444,
             "#bd3786"
            ],
            [
             0.5555555555555556,
             "#d8576b"
            ],
            [
             0.6666666666666666,
             "#ed7953"
            ],
            [
             0.7777777777777778,
             "#fb9f3a"
            ],
            [
             0.8888888888888888,
             "#fdca26"
            ],
            [
             1,
             "#f0f921"
            ]
           ],
           "sequentialminus": [
            [
             0,
             "#0d0887"
            ],
            [
             0.1111111111111111,
             "#46039f"
            ],
            [
             0.2222222222222222,
             "#7201a8"
            ],
            [
             0.3333333333333333,
             "#9c179e"
            ],
            [
             0.4444444444444444,
             "#bd3786"
            ],
            [
             0.5555555555555556,
             "#d8576b"
            ],
            [
             0.6666666666666666,
             "#ed7953"
            ],
            [
             0.7777777777777778,
             "#fb9f3a"
            ],
            [
             0.8888888888888888,
             "#fdca26"
            ],
            [
             1,
             "#f0f921"
            ]
           ]
          },
          "colorway": [
           "#636efa",
           "#EF553B",
           "#00cc96",
           "#ab63fa",
           "#FFA15A",
           "#19d3f3",
           "#FF6692",
           "#B6E880",
           "#FF97FF",
           "#FECB52"
          ],
          "font": {
           "color": "#2a3f5f"
          },
          "geo": {
           "bgcolor": "white",
           "lakecolor": "white",
           "landcolor": "#E5ECF6",
           "showlakes": true,
           "showland": true,
           "subunitcolor": "white"
          },
          "hoverlabel": {
           "align": "left"
          },
          "hovermode": "closest",
          "mapbox": {
           "style": "light"
          },
          "paper_bgcolor": "white",
          "plot_bgcolor": "#E5ECF6",
          "polar": {
           "angularaxis": {
            "gridcolor": "white",
            "linecolor": "white",
            "ticks": ""
           },
           "bgcolor": "#E5ECF6",
           "radialaxis": {
            "gridcolor": "white",
            "linecolor": "white",
            "ticks": ""
           }
          },
          "scene": {
           "xaxis": {
            "backgroundcolor": "#E5ECF6",
            "gridcolor": "white",
            "gridwidth": 2,
            "linecolor": "white",
            "showbackground": true,
            "ticks": "",
            "zerolinecolor": "white"
           },
           "yaxis": {
            "backgroundcolor": "#E5ECF6",
            "gridcolor": "white",
            "gridwidth": 2,
            "linecolor": "white",
            "showbackground": true,
            "ticks": "",
            "zerolinecolor": "white"
           },
           "zaxis": {
            "backgroundcolor": "#E5ECF6",
            "gridcolor": "white",
            "gridwidth": 2,
            "linecolor": "white",
            "showbackground": true,
            "ticks": "",
            "zerolinecolor": "white"
           }
          },
          "shapedefaults": {
           "line": {
            "color": "#2a3f5f"
           }
          },
          "ternary": {
           "aaxis": {
            "gridcolor": "white",
            "linecolor": "white",
            "ticks": ""
           },
           "baxis": {
            "gridcolor": "white",
            "linecolor": "white",
            "ticks": ""
           },
           "bgcolor": "#E5ECF6",
           "caxis": {
            "gridcolor": "white",
            "linecolor": "white",
            "ticks": ""
           }
          },
          "title": {
           "x": 0.05
          },
          "xaxis": {
           "automargin": true,
           "gridcolor": "white",
           "linecolor": "white",
           "ticks": "",
           "zerolinecolor": "white",
           "zerolinewidth": 2
          },
          "yaxis": {
           "automargin": true,
           "gridcolor": "white",
           "linecolor": "white",
           "ticks": "",
           "zerolinecolor": "white",
           "zerolinewidth": 2
          }
         }
        },
        "title": {
         "text": "2019 State Percentage of Taco-Serving Restaurants in the US<br>(Hover for breakdown)"
        }
       }
      },
      "text/html": [
       "<div>\n",
       "        \n",
       "        \n",
       "            <div id=\"4fa67b77-dc72-458f-b843-432be604889f\" class=\"plotly-graph-div\" style=\"height:525px; width:100%;\"></div>\n",
       "            <script type=\"text/javascript\">\n",
       "                require([\"plotly\"], function(Plotly) {\n",
       "                    window.PLOTLYENV=window.PLOTLYENV || {};\n",
       "                    \n",
       "                if (document.getElementById(\"4fa67b77-dc72-458f-b843-432be604889f\")) {\n",
       "                    Plotly.newPlot(\n",
       "                        '4fa67b77-dc72-458f-b843-432be604889f',\n",
       "                        [{\"autocolorscale\": false, \"colorbar\": {\"title\": {\"text\": \"Percentage of Taco-Serving Restaurants\"}}, \"colorscale\": [[0.0, \"rgb(247,252,245)\"], [0.125, \"rgb(229,245,224)\"], [0.25, \"rgb(199,233,192)\"], [0.375, \"rgb(161,217,155)\"], [0.5, \"rgb(116,196,118)\"], [0.625, \"rgb(65,171,93)\"], [0.75, \"rgb(35,139,69)\"], [0.875, \"rgb(0,109,44)\"], [1.0, \"rgb(0,68,27)\"]], \"locationmode\": \"USA-states\", \"locations\": [\"AL\", \"AK\", \"AZ\", \"AR\", \"CA\", \"CO\", \"CT\", \"DC\", \"DE\", \"FL\", \"GA\", \"HI\", \"ID\", \"IL\", \"IN\", \"IA\", \"KS\", \"KY\", \"LA\", \"ME\", \"MD\", \"MA\", \"MI\", \"MN\", \"MS\", \"MO\", \"MT\", \"NE\", \"NV\", \"NH\", \"NJ\", \"NM\", \"NY\", \"NC\", \"ND\", \"OH\", \"OK\", \"OR\", \"PA\", \"RI\", \"SC\", \"SD\", \"TN\", \"TX\", \"UT\", \"VT\", \"VA\", \"WA\", \"WV\", \"WI\", \"WY\"], \"marker\": {\"line\": {\"color\": \"white\"}}, \"text\": [\"State: AL<br>Population: 4887871<br>Total Restaurant Earnings (billions): $9.0\", \"State: AK<br>Population: 737438<br>Total Restaurant Earnings (billions): $1.8\", \"State: AZ<br>Population: 7171646<br>Total Restaurant Earnings (billions): $14.7\", \"State: AR<br>Population: 3013825<br>Total Restaurant Earnings (billions): $4.9\", \"State: CA<br>Population: 39557045<br>Total Restaurant Earnings (billions): $97.0\", \"State: CO<br>Population: 5695564<br>Total Restaurant Earnings (billions): $13.9\", \"State: CT<br>Population: 3572665<br>Total Restaurant Earnings (billions): $8.2\", \"State: DC<br>Population: 967171<br>Total Restaurant Earnings (billions): $4.4\", \"State: DE<br>Population: 702455<br>Total Restaurant Earnings (billions): $2.2\", \"State: FL<br>Population: 21299325<br>Total Restaurant Earnings (billions): $50.1\", \"State: GA<br>Population: 10519475<br>Total Restaurant Earnings (billions): $22.9\", \"State: HI<br>Population: 1420491<br>Total Restaurant Earnings (billions): $5.6\", \"State: ID<br>Population: 1754208<br>Total Restaurant Earnings (billions): $2.9\", \"State: IL<br>Population: 12741080<br>Total Restaurant Earnings (billions): $30.1\", \"State: IN<br>Population: 6691878<br>Total Restaurant Earnings (billions): $12.8\", \"State: IA<br>Population: 3156145<br>Total Restaurant Earnings (billions): $4.7\", \"State: KS<br>Population: 2911505<br>Total Restaurant Earnings (billions): $5.2\", \"State: KY<br>Population: 4468402<br>Total Restaurant Earnings (billions): $8.5\", \"State: LA<br>Population: 4659978<br>Total Restaurant Earnings (billions): $10.3\", \"State: ME<br>Population: 1338404<br>Total Restaurant Earnings (billions): $2.5\", \"State: MD<br>Population: 6042718<br>Total Restaurant Earnings (billions): $13.3\", \"State: MA<br>Population: 6902149<br>Total Restaurant Earnings (billions): $18.0\", \"State: MI<br>Population: 9995915<br>Total Restaurant Earnings (billions): $17.9\", \"State: MN<br>Population: 5611179<br>Total Restaurant Earnings (billions): $10.7\", \"State: MS<br>Population: 2986530<br>Total Restaurant Earnings (billions): $5.1\", \"State: MO<br>Population: 6126452<br>Total Restaurant Earnings (billions): $11.7\", \"State: MT<br>Population: 1062305<br>Total Restaurant Earnings (billions): $2.3\", \"State: NE<br>Population: 1929268<br>Total Restaurant Earnings (billions): $3.3\", \"State: NV<br>Population: 3034392<br>Total Restaurant Earnings (billions): $9.9\", \"State: NH<br>Population: 1356458<br>Total Restaurant Earnings (billions): $3.0\", \"State: NJ<br>Population: 8908520<br>Total Restaurant Earnings (billions): $18.1\", \"State: NM<br>Population: 2095428<br>Total Restaurant Earnings (billions): $4.0\", \"State: NY<br>Population: 19542209<br>Total Restaurant Earnings (billions): $51.6\", \"State: NC<br>Population: 10383620<br>Total Restaurant Earnings (billions): $21.4\", \"State: ND<br>Population: 760077<br>Total Restaurant Earnings (billions): $1.4\", \"State: OH<br>Population: 11689442<br>Total Restaurant Earnings (billions): $24.2\", \"State: OK<br>Population: 3943079<br>Total Restaurant Earnings (billions): $7.6\", \"State: OR<br>Population: 4190713<br>Total Restaurant Earnings (billions): $9.7\", \"State: PA<br>Population: 12807060<br>Total Restaurant Earnings (billions): $24.0\", \"State: RI<br>Population: 1057315<br>Total Restaurant Earnings (billions): $2.7\", \"State: SC<br>Population: 5084127<br>Total Restaurant Earnings (billions): $10.7\", \"State: SD<br>Population: 882235<br>Total Restaurant Earnings (billions): $1.5\", \"State: TN<br>Population: 6770010<br>Total Restaurant Earnings (billions): $14.2\", \"State: TX<br>Population: 28701845<br>Total Restaurant Earnings (billions): $66.0\", \"State: UT<br>Population: 3161105<br>Total Restaurant Earnings (billions): $5.5\", \"State: VT<br>Population: 626299<br>Total Restaurant Earnings (billions): $1.1\", \"State: VA<br>Population: 8517685<br>Total Restaurant Earnings (billions): $18.1\", \"State: WA<br>Population: 7535591<br>Total Restaurant Earnings (billions): $13.5\", \"State: WV<br>Population: 1805832<br>Total Restaurant Earnings (billions): $2.8\", \"State: WI<br>Population: 5813568<br>Total Restaurant Earnings (billions): $10.1\", \"State: WY<br>Population: 577737<br>Total Restaurant Earnings (billions): $1.1\"], \"type\": \"choropleth\", \"z\": [1.8561484918793503, 1.443298969072165, 5.9721816943877055, 2.64750378214826, 6.514350205377882, 3.9813814313024687, 2.1212486440882246, 4.110704110704111, 2.0675743822491177, 2.178117294396364, 2.3854806281584526, 2.155525238744884, 3.0132939438700146, 3.3388261142498434, 2.5418169891767795, 2.8480509148766906, 3.040540540540541, 1.9728246668408673, 1.8671981537816007, 1.8593120545398203, 2.4038038214317163, 2.7346964613534213, 2.8410808196820407, 2.452953843273102, 1.5570579799221471, 2.7232142857142856, 1.9427764040974922, 2.236810114271821, 5.050167224080267, 2.8319697923222154, 1.884514435695538, 5.594002306805075, 1.718740653599984, 2.2149302707136997, 0.9792626728110598, 1.813988557235996, 2.9857082213103157, 3.3951798010711554, 1.7063432273617598, 2.118209771096686, 2.058123901127314, 1.54419595314164, 2.471564183699649, 3.5848035952063912, 2.7735562310030395, 1.203113941967445, 2.4505062229960664, 2.6959847036328872, 1.5192950470981463, 2.05532979055955, 3.0642750373692076]}],\n",
       "                        {\"geo\": {\"lakecolor\": \"rgb(255, 255, 255)\", \"projection\": {\"type\": \"albers usa\"}, \"scope\": \"usa\", \"showlakes\": true}, \"template\": {\"data\": {\"bar\": [{\"error_x\": {\"color\": \"#2a3f5f\"}, \"error_y\": {\"color\": \"#2a3f5f\"}, \"marker\": {\"line\": {\"color\": \"#E5ECF6\", \"width\": 0.5}}, \"type\": \"bar\"}], \"barpolar\": [{\"marker\": {\"line\": {\"color\": \"#E5ECF6\", \"width\": 0.5}}, \"type\": \"barpolar\"}], \"carpet\": [{\"aaxis\": {\"endlinecolor\": \"#2a3f5f\", \"gridcolor\": \"white\", \"linecolor\": \"white\", \"minorgridcolor\": \"white\", \"startlinecolor\": \"#2a3f5f\"}, \"baxis\": {\"endlinecolor\": \"#2a3f5f\", \"gridcolor\": \"white\", \"linecolor\": \"white\", \"minorgridcolor\": \"white\", \"startlinecolor\": \"#2a3f5f\"}, \"type\": \"carpet\"}], \"choropleth\": [{\"colorbar\": {\"outlinewidth\": 0, \"ticks\": \"\"}, \"type\": \"choropleth\"}], \"contour\": [{\"colorbar\": {\"outlinewidth\": 0, \"ticks\": \"\"}, \"colorscale\": [[0.0, \"#0d0887\"], [0.1111111111111111, \"#46039f\"], [0.2222222222222222, \"#7201a8\"], [0.3333333333333333, \"#9c179e\"], [0.4444444444444444, \"#bd3786\"], [0.5555555555555556, \"#d8576b\"], [0.6666666666666666, \"#ed7953\"], [0.7777777777777778, \"#fb9f3a\"], [0.8888888888888888, \"#fdca26\"], [1.0, \"#f0f921\"]], \"type\": \"contour\"}], \"contourcarpet\": [{\"colorbar\": {\"outlinewidth\": 0, \"ticks\": \"\"}, \"type\": \"contourcarpet\"}], \"heatmap\": [{\"colorbar\": {\"outlinewidth\": 0, \"ticks\": \"\"}, \"colorscale\": [[0.0, \"#0d0887\"], [0.1111111111111111, \"#46039f\"], [0.2222222222222222, \"#7201a8\"], [0.3333333333333333, \"#9c179e\"], [0.4444444444444444, \"#bd3786\"], [0.5555555555555556, \"#d8576b\"], [0.6666666666666666, \"#ed7953\"], [0.7777777777777778, \"#fb9f3a\"], [0.8888888888888888, \"#fdca26\"], [1.0, \"#f0f921\"]], \"type\": \"heatmap\"}], \"heatmapgl\": [{\"colorbar\": {\"outlinewidth\": 0, \"ticks\": \"\"}, \"colorscale\": [[0.0, \"#0d0887\"], [0.1111111111111111, \"#46039f\"], [0.2222222222222222, \"#7201a8\"], [0.3333333333333333, \"#9c179e\"], [0.4444444444444444, \"#bd3786\"], [0.5555555555555556, \"#d8576b\"], [0.6666666666666666, \"#ed7953\"], [0.7777777777777778, \"#fb9f3a\"], [0.8888888888888888, \"#fdca26\"], [1.0, \"#f0f921\"]], \"type\": \"heatmapgl\"}], \"histogram\": [{\"marker\": {\"colorbar\": {\"outlinewidth\": 0, \"ticks\": \"\"}}, \"type\": \"histogram\"}], \"histogram2d\": [{\"colorbar\": {\"outlinewidth\": 0, \"ticks\": \"\"}, \"colorscale\": [[0.0, \"#0d0887\"], [0.1111111111111111, \"#46039f\"], [0.2222222222222222, \"#7201a8\"], [0.3333333333333333, \"#9c179e\"], [0.4444444444444444, \"#bd3786\"], [0.5555555555555556, \"#d8576b\"], [0.6666666666666666, \"#ed7953\"], [0.7777777777777778, \"#fb9f3a\"], [0.8888888888888888, \"#fdca26\"], [1.0, \"#f0f921\"]], \"type\": \"histogram2d\"}], \"histogram2dcontour\": [{\"colorbar\": {\"outlinewidth\": 0, \"ticks\": \"\"}, \"colorscale\": [[0.0, \"#0d0887\"], [0.1111111111111111, \"#46039f\"], [0.2222222222222222, \"#7201a8\"], [0.3333333333333333, \"#9c179e\"], [0.4444444444444444, \"#bd3786\"], [0.5555555555555556, \"#d8576b\"], [0.6666666666666666, \"#ed7953\"], [0.7777777777777778, \"#fb9f3a\"], [0.8888888888888888, \"#fdca26\"], [1.0, \"#f0f921\"]], \"type\": \"histogram2dcontour\"}], \"mesh3d\": [{\"colorbar\": {\"outlinewidth\": 0, \"ticks\": \"\"}, \"type\": \"mesh3d\"}], \"parcoords\": [{\"line\": {\"colorbar\": {\"outlinewidth\": 0, \"ticks\": \"\"}}, \"type\": \"parcoords\"}], \"scatter\": [{\"marker\": {\"colorbar\": {\"outlinewidth\": 0, \"ticks\": \"\"}}, \"type\": \"scatter\"}], \"scatter3d\": [{\"line\": {\"colorbar\": {\"outlinewidth\": 0, \"ticks\": \"\"}}, \"marker\": {\"colorbar\": {\"outlinewidth\": 0, \"ticks\": \"\"}}, \"type\": \"scatter3d\"}], \"scattercarpet\": [{\"marker\": {\"colorbar\": {\"outlinewidth\": 0, \"ticks\": \"\"}}, \"type\": \"scattercarpet\"}], \"scattergeo\": [{\"marker\": {\"colorbar\": {\"outlinewidth\": 0, \"ticks\": \"\"}}, \"type\": \"scattergeo\"}], \"scattergl\": [{\"marker\": {\"colorbar\": {\"outlinewidth\": 0, \"ticks\": \"\"}}, \"type\": \"scattergl\"}], \"scattermapbox\": [{\"marker\": {\"colorbar\": {\"outlinewidth\": 0, \"ticks\": \"\"}}, \"type\": \"scattermapbox\"}], \"scatterpolar\": [{\"marker\": {\"colorbar\": {\"outlinewidth\": 0, \"ticks\": \"\"}}, \"type\": \"scatterpolar\"}], \"scatterpolargl\": [{\"marker\": {\"colorbar\": {\"outlinewidth\": 0, \"ticks\": \"\"}}, \"type\": \"scatterpolargl\"}], \"scatterternary\": [{\"marker\": {\"colorbar\": {\"outlinewidth\": 0, \"ticks\": \"\"}}, \"type\": \"scatterternary\"}], \"surface\": [{\"colorbar\": {\"outlinewidth\": 0, \"ticks\": \"\"}, \"colorscale\": [[0.0, \"#0d0887\"], [0.1111111111111111, \"#46039f\"], [0.2222222222222222, \"#7201a8\"], [0.3333333333333333, \"#9c179e\"], [0.4444444444444444, \"#bd3786\"], [0.5555555555555556, \"#d8576b\"], [0.6666666666666666, \"#ed7953\"], [0.7777777777777778, \"#fb9f3a\"], [0.8888888888888888, \"#fdca26\"], [1.0, \"#f0f921\"]], \"type\": \"surface\"}], \"table\": [{\"cells\": {\"fill\": {\"color\": \"#EBF0F8\"}, \"line\": {\"color\": \"white\"}}, \"header\": {\"fill\": {\"color\": \"#C8D4E3\"}, \"line\": {\"color\": \"white\"}}, \"type\": \"table\"}]}, \"layout\": {\"annotationdefaults\": {\"arrowcolor\": \"#2a3f5f\", \"arrowhead\": 0, \"arrowwidth\": 1}, \"colorscale\": {\"diverging\": [[0, \"#8e0152\"], [0.1, \"#c51b7d\"], [0.2, \"#de77ae\"], [0.3, \"#f1b6da\"], [0.4, \"#fde0ef\"], [0.5, \"#f7f7f7\"], [0.6, \"#e6f5d0\"], [0.7, \"#b8e186\"], [0.8, \"#7fbc41\"], [0.9, \"#4d9221\"], [1, \"#276419\"]], \"sequential\": [[0.0, \"#0d0887\"], [0.1111111111111111, \"#46039f\"], [0.2222222222222222, \"#7201a8\"], [0.3333333333333333, \"#9c179e\"], [0.4444444444444444, \"#bd3786\"], [0.5555555555555556, \"#d8576b\"], [0.6666666666666666, \"#ed7953\"], [0.7777777777777778, \"#fb9f3a\"], [0.8888888888888888, \"#fdca26\"], [1.0, \"#f0f921\"]], \"sequentialminus\": [[0.0, \"#0d0887\"], [0.1111111111111111, \"#46039f\"], [0.2222222222222222, \"#7201a8\"], [0.3333333333333333, \"#9c179e\"], [0.4444444444444444, \"#bd3786\"], [0.5555555555555556, \"#d8576b\"], [0.6666666666666666, \"#ed7953\"], [0.7777777777777778, \"#fb9f3a\"], [0.8888888888888888, \"#fdca26\"], [1.0, \"#f0f921\"]]}, \"colorway\": [\"#636efa\", \"#EF553B\", \"#00cc96\", \"#ab63fa\", \"#FFA15A\", \"#19d3f3\", \"#FF6692\", \"#B6E880\", \"#FF97FF\", \"#FECB52\"], \"font\": {\"color\": \"#2a3f5f\"}, \"geo\": {\"bgcolor\": \"white\", \"lakecolor\": \"white\", \"landcolor\": \"#E5ECF6\", \"showlakes\": true, \"showland\": true, \"subunitcolor\": \"white\"}, \"hoverlabel\": {\"align\": \"left\"}, \"hovermode\": \"closest\", \"mapbox\": {\"style\": \"light\"}, \"paper_bgcolor\": \"white\", \"plot_bgcolor\": \"#E5ECF6\", \"polar\": {\"angularaxis\": {\"gridcolor\": \"white\", \"linecolor\": \"white\", \"ticks\": \"\"}, \"bgcolor\": \"#E5ECF6\", \"radialaxis\": {\"gridcolor\": \"white\", \"linecolor\": \"white\", \"ticks\": \"\"}}, \"scene\": {\"xaxis\": {\"backgroundcolor\": \"#E5ECF6\", \"gridcolor\": \"white\", \"gridwidth\": 2, \"linecolor\": \"white\", \"showbackground\": true, \"ticks\": \"\", \"zerolinecolor\": \"white\"}, \"yaxis\": {\"backgroundcolor\": \"#E5ECF6\", \"gridcolor\": \"white\", \"gridwidth\": 2, \"linecolor\": \"white\", \"showbackground\": true, \"ticks\": \"\", \"zerolinecolor\": \"white\"}, \"zaxis\": {\"backgroundcolor\": \"#E5ECF6\", \"gridcolor\": \"white\", \"gridwidth\": 2, \"linecolor\": \"white\", \"showbackground\": true, \"ticks\": \"\", \"zerolinecolor\": \"white\"}}, \"shapedefaults\": {\"line\": {\"color\": \"#2a3f5f\"}}, \"ternary\": {\"aaxis\": {\"gridcolor\": \"white\", \"linecolor\": \"white\", \"ticks\": \"\"}, \"baxis\": {\"gridcolor\": \"white\", \"linecolor\": \"white\", \"ticks\": \"\"}, \"bgcolor\": \"#E5ECF6\", \"caxis\": {\"gridcolor\": \"white\", \"linecolor\": \"white\", \"ticks\": \"\"}}, \"title\": {\"x\": 0.05}, \"xaxis\": {\"automargin\": true, \"gridcolor\": \"white\", \"linecolor\": \"white\", \"ticks\": \"\", \"zerolinecolor\": \"white\", \"zerolinewidth\": 2}, \"yaxis\": {\"automargin\": true, \"gridcolor\": \"white\", \"linecolor\": \"white\", \"ticks\": \"\", \"zerolinecolor\": \"white\", \"zerolinewidth\": 2}}}, \"title\": {\"text\": \"2019 State Percentage of Taco-Serving Restaurants in the US<br>(Hover for breakdown)\"}},\n",
       "                        {\"responsive\": true}\n",
       "                    ).then(function(){\n",
       "                            \n",
       "var gd = document.getElementById('4fa67b77-dc72-458f-b843-432be604889f');\n",
       "var x = new MutationObserver(function (mutations, observer) {{\n",
       "        var display = window.getComputedStyle(gd).display;\n",
       "        if (!display || display === 'none') {{\n",
       "            console.log([gd, 'removed!']);\n",
       "            Plotly.purge(gd);\n",
       "            observer.disconnect();\n",
       "        }}\n",
       "}});\n",
       "\n",
       "// Listen for the removal of the full notebook cells\n",
       "var notebookContainer = gd.closest('#notebook-container');\n",
       "if (notebookContainer) {{\n",
       "    x.observe(notebookContainer, {childList: true});\n",
       "}}\n",
       "\n",
       "// Listen for the clearing of the current output cell\n",
       "var outputEl = gd.closest('.output');\n",
       "if (outputEl) {{\n",
       "    x.observe(outputEl, {childList: true});\n",
       "}}\n",
       "\n",
       "                        })\n",
       "                };\n",
       "                });\n",
       "            </script>\n",
       "        </div>"
      ]
     },
     "metadata": {},
     "output_type": "display_data"
    }
   ],
   "source": [
    "for col in stateCount.columns:\n",
    "    stateCount[col] = stateCount[col].astype(str)\n",
    "    \n",
    "stateCount['text'] = 'State: ' + stateCount['code'] + '<br>' + \\\n",
    "    'Population: ' + stateCount['population'] + '<br>' + \\\n",
    "    'Total Restaurant Earnings (billions): $' + stateCount['totalEarnings']\n",
    "    \n",
    "fig = go.Figure(data=go.Choropleth(\n",
    "    locations = stateCount['code'],\n",
    "    z = stateCount['restaurants'],\n",
    "    locationmode = 'USA-states',\n",
    "    colorscale = 'Reds',\n",
    "    autocolorscale = False,\n",
    "    text=stateCount['text'], # hover text\n",
    "    marker_line_color = 'white', # line markers between states\n",
    "    colorbar_title = \"Restaurants\"\n",
    "))\n",
    "\n",
    "fig.update_layout(\n",
    "    title_text = '2019 US TexMex Restaurants by State<br>(Hover for breakdown)',\n",
    "    geo = dict(\n",
    "        scope = 'usa',\n",
    "        projection=go.layout.geo.Projection(type = 'albers usa'),\n",
    "        showlakes=True, # lakes\n",
    "        lakecolor='rgb(255, 255, 255)'),\n",
    ")\n",
    "\n",
    "fig.show()\n",
    "\n",
    "# PLOT 2\n",
    "fig = go.Figure(data=go.Choropleth(\n",
    "    locations=stateCount['code'],\n",
    "    z=stateCount['PPerR'],\n",
    "    locationmode='USA-states',\n",
    "    colorscale='Blues',\n",
    "    autocolorscale=False,\n",
    "    text=stateCount['text'], # hover text\n",
    "    marker_line_color='white', # line markers between states\n",
    "    colorbar_title=\"People Per Available Restaurant\"\n",
    "))\n",
    "\n",
    "fig.update_layout(\n",
    "    title_text='2019 US People per Taco-Serving Restaurant by State<br>(Hover for breakdown)',\n",
    "    geo = dict(\n",
    "        scope='usa',\n",
    "        projection=go.layout.geo.Projection(type = 'albers usa'),\n",
    "        showlakes=True, # lakes\n",
    "        lakecolor='rgb(255, 255, 255)'),\n",
    ")\n",
    "\n",
    "fig.show()\n",
    "\n",
    "# PLOT 3\n",
    "stateCount['restaurants'] = stateCount['restaurants'].astype(int)\n",
    "stateCount['totalRestaurants'] = stateCount['totalRestaurants'].astype(int)\n",
    "fig = go.Figure(data=go.Choropleth(\n",
    "    locations=stateCount['code'],\n",
    "    z=(stateCount['restaurants']/stateCount['totalRestaurants'])*100,\n",
    "    locationmode='USA-states',\n",
    "    colorscale='Greens',\n",
    "    autocolorscale=False,\n",
    "    text=stateCount['text'], # hover text\n",
    "    marker_line_color='white', # line markers between states\n",
    "    colorbar_title=\"Percentage of Taco-Serving Restaurants\"\n",
    "))\n",
    "\n",
    "fig.update_layout(\n",
    "    title_text='2019 State Percentage of Taco-Serving Restaurants in the US<br>(Hover for breakdown)',\n",
    "    geo = dict(\n",
    "        scope='usa',\n",
    "        projection=go.layout.geo.Projection(type = 'albers usa'),\n",
    "        showlakes=True, # lakes\n",
    "        lakecolor='rgb(255, 255, 255)'),\n",
    ")\n",
    "\n",
    "fig.show()"
   ]
  },
  {
   "cell_type": "code",
   "execution_count": null,
   "metadata": {},
   "outputs": [],
   "source": []
  }
 ],
 "metadata": {
  "kernelspec": {
   "display_name": "Python 3",
   "language": "python",
   "name": "python3"
  },
  "language_info": {
   "codemirror_mode": {
    "name": "ipython",
    "version": 3
   },
   "file_extension": ".py",
   "mimetype": "text/x-python",
   "name": "python",
   "nbconvert_exporter": "python",
   "pygments_lexer": "ipython3",
   "version": "3.6.2"
  }
 },
 "nbformat": 4,
 "nbformat_minor": 2
}
